{
 "cells": [
  {
   "cell_type": "code",
   "execution_count": 6,
   "id": "334b5288",
   "metadata": {},
   "outputs": [
    {
     "name": "stdout",
     "output_type": "stream",
     "text": [
      "0\n",
      "1\n",
      "2\n",
      "3\n",
      "4\n",
      "5\n",
      "6\n",
      "7\n",
      "8\n",
      "9\n"
     ]
    }
   ],
   "source": [
    "x=0\n",
    "while x <10:\n",
    "    print(x)\n",
    "    x=x+1"
   ]
  },
  {
   "cell_type": "code",
   "execution_count": 7,
   "id": "1ea2c0d7",
   "metadata": {},
   "outputs": [],
   "source": [
    "benimListem=[1,2,3,4,5]"
   ]
  },
  {
   "cell_type": "code",
   "execution_count": 8,
   "id": "74a90864",
   "metadata": {},
   "outputs": [
    {
     "data": {
      "text/plain": [
       "5"
      ]
     },
     "execution_count": 8,
     "metadata": {},
     "output_type": "execute_result"
    }
   ],
   "source": [
    "benimListem.pop() # 5 i sildi"
   ]
  },
  {
   "cell_type": "code",
   "execution_count": 9,
   "id": "f2290473",
   "metadata": {},
   "outputs": [
    {
     "data": {
      "text/plain": [
       "[1, 2, 3, 4]"
      ]
     },
     "execution_count": 9,
     "metadata": {},
     "output_type": "execute_result"
    }
   ],
   "source": [
    "benimListem"
   ]
  },
  {
   "cell_type": "code",
   "execution_count": 10,
   "id": "0e66a75f",
   "metadata": {},
   "outputs": [],
   "source": [
    "benimListem.append(5) # 5 i geri ekledi"
   ]
  },
  {
   "cell_type": "code",
   "execution_count": 11,
   "id": "d8b027bd",
   "metadata": {},
   "outputs": [
    {
     "data": {
      "text/plain": [
       "[1, 2, 3, 4, 5]"
      ]
     },
     "execution_count": 11,
     "metadata": {},
     "output_type": "execute_result"
    }
   ],
   "source": [
    "benimListem"
   ]
  },
  {
   "cell_type": "code",
   "execution_count": 12,
   "id": "523d15c9",
   "metadata": {},
   "outputs": [
    {
     "name": "stdout",
     "output_type": "stream",
     "text": [
      "3 hala listenin icinde\n",
      "3 hala listenin icinde\n",
      "3 hala listenin icinde\n"
     ]
    }
   ],
   "source": [
    "while 3 in benimListem:\n",
    "    print(\"3 hala listenin icinde\")\n",
    "    benimListem.pop() # sondan baslayarak 5-4-3 ü attı ve while dögüsü sona erdi"
   ]
  },
  {
   "cell_type": "code",
   "execution_count": 13,
   "id": "84c5b96d",
   "metadata": {},
   "outputs": [],
   "source": [
    "numara=0"
   ]
  },
  {
   "cell_type": "code",
   "execution_count": 14,
   "id": "f1f15a32",
   "metadata": {},
   "outputs": [
    {
     "name": "stdout",
     "output_type": "stream",
     "text": [
      "0\n",
      "1\n",
      "2\n",
      "3\n"
     ]
    }
   ],
   "source": [
    "while numara <5 :\n",
    "    if numara == 4:\n",
    "        break\n",
    "    print(numara)\n",
    "    numara=numara+1"
   ]
  },
  {
   "cell_type": "code",
   "execution_count": 25,
   "id": "8493dc99",
   "metadata": {},
   "outputs": [
    {
     "name": "stdout",
     "output_type": "stream",
     "text": [
      "Yeni degişken'in güncel değeri: 0\n",
      "Yeni degişken'in güncel değeri: 0\n",
      "Yeni degişken'in güncel değeri: 1\n",
      "Yeni degişken'in güncel değeri: 1\n",
      "Yeni degişken'in güncel değeri: 2\n",
      "Yeni degişken'in güncel değeri: 2\n",
      "Yeni degişken'in güncel değeri: 3\n",
      "Yeni degişken'in güncel değeri: 3\n",
      "Yeni degişken'in güncel değeri: 4\n",
      "Yeni degişken'in güncel değeri: 4\n",
      "Yeni degişken'in güncel değeri: 5\n",
      "Yeni degişken'in güncel değeri: 5\n",
      "Yeni degişken'in güncel değeri: 6\n",
      "Yeni degişken'in güncel değeri: 6\n",
      "Yeni degişken'in güncel değeri: 7\n",
      "Yeni degişken'in güncel değeri: 7\n",
      "Yeni degişken'in güncel değeri: 8\n",
      "Yeni degişken'in güncel değeri: 8\n",
      "Yeni degişken'in güncel değeri: 9\n",
      "Yeni degişken'in güncel değeri: 9\n",
      "Yeni degişken'in güncel değeri: 10\n",
      "Yeni degişken'in güncel değeri: 10\n",
      "Yeni degişken'in güncel değeri: 11\n",
      "Yeni degişken'in güncel değeri: 11\n",
      "Yeni degişken'in güncel değeri: 12\n",
      "Yeni degişken'in güncel değeri: 12\n",
      "Yeni degişken'in güncel değeri: 13\n",
      "Yeni degişken'in güncel değeri: 13\n",
      "Yeni degişken'in güncel değeri: 14\n",
      "Yeni degişken'in güncel değeri: 14\n"
     ]
    }
   ],
   "source": [
    "yeniDegisken=0\n",
    "while yeniDegisken <15:\n",
    "    print(\"Yeni degişken'in güncel değeri:\",yeniDegisken)\n",
    "    #print(f\"Yeni degişken'in güncel değeri: {yeniDegisken}\") # f format, süslü\n",
    "    # parantez icindekini al\n",
    "    #print(\"Yeni degişken'in güncel değeri:\",str(yeniDegisken))\n",
    "    yeniDegisken=yeniDegisken+1"
   ]
  },
  {
   "cell_type": "code",
   "execution_count": null,
   "id": "12f276be",
   "metadata": {},
   "outputs": [],
   "source": []
  },
  {
   "cell_type": "code",
   "execution_count": null,
   "id": "776b6f9b",
   "metadata": {},
   "outputs": [],
   "source": []
  }
 ],
 "metadata": {
  "kernelspec": {
   "display_name": "Python 3",
   "language": "python",
   "name": "python3"
  },
  "language_info": {
   "codemirror_mode": {
    "name": "ipython",
    "version": 3
   },
   "file_extension": ".py",
   "mimetype": "text/x-python",
   "name": "python",
   "nbconvert_exporter": "python",
   "pygments_lexer": "ipython3",
   "version": "3.8.8"
  }
 },
 "nbformat": 4,
 "nbformat_minor": 5
}
