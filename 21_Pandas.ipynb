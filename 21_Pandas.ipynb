{
 "cells": [
  {
   "cell_type": "code",
   "execution_count": 1,
   "id": "790b5327",
   "metadata": {},
   "outputs": [],
   "source": [
    "import numpy as np\n",
    "import pandas as pd"
   ]
  },
  {
   "cell_type": "markdown",
   "id": "5f308766",
   "metadata": {},
   "source": [
    "## Series / Seriler"
   ]
  },
  {
   "cell_type": "code",
   "execution_count": 3,
   "id": "8c96d803",
   "metadata": {},
   "outputs": [],
   "source": [
    "benimSozlugum= { \"Onur \":24,\"Ali\":28, \"Veli\":45}"
   ]
  },
  {
   "cell_type": "code",
   "execution_count": 4,
   "id": "81e6d699",
   "metadata": {},
   "outputs": [
    {
     "data": {
      "text/plain": [
       "Onur     24\n",
       "Ali      28\n",
       "Veli     45\n",
       "dtype: int64"
      ]
     },
     "execution_count": 4,
     "metadata": {},
     "output_type": "execute_result"
    }
   ],
   "source": [
    "pd.Series(benimSozlugum)"
   ]
  },
  {
   "cell_type": "code",
   "execution_count": 5,
   "id": "79ce12a2",
   "metadata": {},
   "outputs": [
    {
     "data": {
      "text/plain": [
       "pandas.core.series.Series"
      ]
     },
     "execution_count": 5,
     "metadata": {},
     "output_type": "execute_result"
    }
   ],
   "source": [
    "type(pd.Series(benimSozlugum))"
   ]
  },
  {
   "cell_type": "code",
   "execution_count": 9,
   "id": "2f9718a2",
   "metadata": {},
   "outputs": [],
   "source": [
    "yaslar= [50,40,30]\n",
    "isimler=[\"Onur\", \"Ali\", \"Veli\"]"
   ]
  },
  {
   "cell_type": "code",
   "execution_count": 11,
   "id": "8819e3fc",
   "metadata": {},
   "outputs": [
    {
     "data": {
      "text/plain": [
       "0    50\n",
       "1    40\n",
       "2    30\n",
       "dtype: int64"
      ]
     },
     "execution_count": 11,
     "metadata": {},
     "output_type": "execute_result"
    }
   ],
   "source": [
    "pd.Series(yaslar)"
   ]
  },
  {
   "cell_type": "code",
   "execution_count": 13,
   "id": "92a69d0d",
   "metadata": {},
   "outputs": [
    {
     "data": {
      "text/plain": [
       "50    Onur\n",
       "40     Ali\n",
       "30    Veli\n",
       "dtype: object"
      ]
     },
     "execution_count": 13,
     "metadata": {},
     "output_type": "execute_result"
    }
   ],
   "source": [
    "pd.Series(yaslar,isimler)"
   ]
  },
  {
   "cell_type": "code",
   "execution_count": 14,
   "id": "4a8c2c5a",
   "metadata": {},
   "outputs": [
    {
     "data": {
      "text/plain": [
       "Onur    50\n",
       "Ali     40\n",
       "Veli    30\n",
       "dtype: int64"
      ]
     },
     "execution_count": 14,
     "metadata": {},
     "output_type": "execute_result"
    }
   ],
   "source": [
    "pd.Series(data=yaslar,index=isimler)"
   ]
  },
  {
   "cell_type": "code",
   "execution_count": 18,
   "id": "a2fae526",
   "metadata": {},
   "outputs": [],
   "source": [
    "numpyDizisi=np.array(benimSozlugum)"
   ]
  },
  {
   "cell_type": "code",
   "execution_count": 19,
   "id": "32cd8aae",
   "metadata": {},
   "outputs": [
    {
     "data": {
      "text/plain": [
       "array({'Onur ': 24, 'Ali': 28, 'Veli': 45}, dtype=object)"
      ]
     },
     "execution_count": 19,
     "metadata": {},
     "output_type": "execute_result"
    }
   ],
   "source": [
    "numpyDizisi"
   ]
  },
  {
   "cell_type": "code",
   "execution_count": 20,
   "id": "0cfd24fb",
   "metadata": {},
   "outputs": [
    {
     "data": {
      "text/plain": [
       "Onur     24\n",
       "Ali      28\n",
       "Veli     45\n",
       "dtype: int64"
      ]
     },
     "execution_count": 20,
     "metadata": {},
     "output_type": "execute_result"
    }
   ],
   "source": [
    "pd.Series(benimSozlugum)"
   ]
  },
  {
   "cell_type": "code",
   "execution_count": 21,
   "id": "82780b61",
   "metadata": {},
   "outputs": [
    {
     "data": {
      "text/plain": [
       "0    {'Onur ': 24, 'Ali': 28, 'Veli': 45}\n",
       "dtype: object"
      ]
     },
     "execution_count": 21,
     "metadata": {},
     "output_type": "execute_result"
    }
   ],
   "source": [
    "pd.Series(numpyDizisi)"
   ]
  },
  {
   "cell_type": "code",
   "execution_count": 22,
   "id": "1e829d1d",
   "metadata": {},
   "outputs": [
    {
     "data": {
      "text/plain": [
       "Onur    50\n",
       "Ali     40\n",
       "Veli    30\n",
       "dtype: int64"
      ]
     },
     "execution_count": 22,
     "metadata": {},
     "output_type": "execute_result"
    }
   ],
   "source": [
    "pd.Series(yaslar,isimler)"
   ]
  },
  {
   "cell_type": "code",
   "execution_count": 28,
   "id": "499e3908",
   "metadata": {},
   "outputs": [
    {
     "data": {
      "text/plain": [
       "1    Ahmet\n",
       "2     Onur\n",
       "3    Osman\n",
       "dtype: object"
      ]
     },
     "execution_count": 28,
     "metadata": {},
     "output_type": "execute_result"
    }
   ],
   "source": [
    "pd.Series([\"Ahmet\", \"Onur\", \"Osman\"],[1,2,3])"
   ]
  },
  {
   "cell_type": "code",
   "execution_count": 29,
   "id": "9dfac687",
   "metadata": {},
   "outputs": [],
   "source": [
    "yarismaSonucu1= pd.Series([10,3,7],[\"Atil\",\"Atlas\",\"Osman\"])"
   ]
  },
  {
   "cell_type": "code",
   "execution_count": 30,
   "id": "212417e7",
   "metadata": {},
   "outputs": [
    {
     "data": {
      "text/plain": [
       "Atil     10\n",
       "Atlas     3\n",
       "Osman     7\n",
       "dtype: int64"
      ]
     },
     "execution_count": 30,
     "metadata": {},
     "output_type": "execute_result"
    }
   ],
   "source": [
    "yarismaSonucu1"
   ]
  },
  {
   "cell_type": "code",
   "execution_count": 48,
   "id": "decee479",
   "metadata": {},
   "outputs": [],
   "source": [
    "yarismaSonucu2=pd.Series([20,10,8],[\"Atil\",\"Atlas\",\"Osman\"])"
   ]
  },
  {
   "cell_type": "code",
   "execution_count": 49,
   "id": "2e2fc2b1",
   "metadata": {},
   "outputs": [
    {
     "data": {
      "text/plain": [
       "Atil     20\n",
       "Atlas    10\n",
       "Osman     8\n",
       "dtype: int64"
      ]
     },
     "execution_count": 49,
     "metadata": {},
     "output_type": "execute_result"
    }
   ],
   "source": [
    "yarismaSonucu2"
   ]
  },
  {
   "cell_type": "code",
   "execution_count": 50,
   "id": "3bb0af32",
   "metadata": {},
   "outputs": [
    {
     "data": {
      "text/plain": [
       "8"
      ]
     },
     "execution_count": 50,
     "metadata": {},
     "output_type": "execute_result"
    }
   ],
   "source": [
    "yarismaSonucu2[\"Osman\"]  # yarismaSonucu2[2]   2 çünkü 0 dan başlıyor"
   ]
  },
  {
   "cell_type": "code",
   "execution_count": 51,
   "id": "97cd84fc",
   "metadata": {},
   "outputs": [],
   "source": [
    "sonSonuc= yarismaSonucu1+yarismaSonucu2"
   ]
  },
  {
   "cell_type": "code",
   "execution_count": 52,
   "id": "d115f3cb",
   "metadata": {},
   "outputs": [
    {
     "data": {
      "text/plain": [
       "Atil     30\n",
       "Atlas    13\n",
       "Osman    15\n",
       "dtype: int64"
      ]
     },
     "execution_count": 52,
     "metadata": {},
     "output_type": "execute_result"
    }
   ],
   "source": [
    "sonSonuc"
   ]
  },
  {
   "cell_type": "code",
   "execution_count": 55,
   "id": "bae551bd",
   "metadata": {},
   "outputs": [],
   "source": [
    "farkliSeries1=pd.Series([20,30,40,50],[\"a\",\"b\",\"c\",\"d\"])\n",
    "farkliSeries2=pd.Series([10,5,3,1],[\"a\",\"c\",\"f\",\"g\"])"
   ]
  },
  {
   "cell_type": "code",
   "execution_count": 56,
   "id": "25aa776e",
   "metadata": {},
   "outputs": [
    {
     "data": {
      "text/plain": [
       "a    20\n",
       "b    30\n",
       "c    40\n",
       "d    50\n",
       "dtype: int64"
      ]
     },
     "execution_count": 56,
     "metadata": {},
     "output_type": "execute_result"
    }
   ],
   "source": [
    "farkliSeries1"
   ]
  },
  {
   "cell_type": "code",
   "execution_count": 57,
   "id": "34a03c46",
   "metadata": {},
   "outputs": [
    {
     "data": {
      "text/plain": [
       "a    10\n",
       "c     5\n",
       "f     3\n",
       "g     1\n",
       "dtype: int64"
      ]
     },
     "execution_count": 57,
     "metadata": {},
     "output_type": "execute_result"
    }
   ],
   "source": [
    "farkliSeries2"
   ]
  },
  {
   "cell_type": "code",
   "execution_count": 58,
   "id": "7132cfc7",
   "metadata": {},
   "outputs": [],
   "source": [
    "toplam=farkliSeries1+farkliSeries2  # kesismeyenleri nan sayıyor yani null"
   ]
  },
  {
   "cell_type": "code",
   "execution_count": 59,
   "id": "38f1ffa6",
   "metadata": {},
   "outputs": [
    {
     "data": {
      "text/plain": [
       "a    30.0\n",
       "b     NaN\n",
       "c    45.0\n",
       "d     NaN\n",
       "f     NaN\n",
       "g     NaN\n",
       "dtype: float64"
      ]
     },
     "execution_count": 59,
     "metadata": {},
     "output_type": "execute_result"
    }
   ],
   "source": [
    "toplam"
   ]
  },
  {
   "cell_type": "code",
   "execution_count": null,
   "id": "e604ae98",
   "metadata": {},
   "outputs": [],
   "source": []
  }
 ],
 "metadata": {
  "kernelspec": {
   "display_name": "Python 3",
   "language": "python",
   "name": "python3"
  },
  "language_info": {
   "codemirror_mode": {
    "name": "ipython",
    "version": 3
   },
   "file_extension": ".py",
   "mimetype": "text/x-python",
   "name": "python",
   "nbconvert_exporter": "python",
   "pygments_lexer": "ipython3",
   "version": "3.8.8"
  }
 },
 "nbformat": 4,
 "nbformat_minor": 5
}
