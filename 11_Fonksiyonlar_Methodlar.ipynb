{
 "cells": [
  {
   "cell_type": "code",
   "execution_count": 1,
   "id": "ebac447f",
   "metadata": {},
   "outputs": [],
   "source": [
    "benimAdim=\"Onur Gökyaka\""
   ]
  },
  {
   "cell_type": "code",
   "execution_count": 3,
   "id": "4e0c83d4",
   "metadata": {},
   "outputs": [
    {
     "data": {
      "text/plain": [
       "'ONUR GÖKYAKA'"
      ]
     },
     "execution_count": 3,
     "metadata": {},
     "output_type": "execute_result"
    }
   ],
   "source": [
    "benimAdim.upper()  # upper fonksiyonu içerideki tüm harfleri büyük harfe çevirir"
   ]
  },
  {
   "cell_type": "code",
   "execution_count": 4,
   "id": "ef167c06",
   "metadata": {},
   "outputs": [
    {
     "data": {
      "text/plain": [
       "'Onur Gökyaka'"
      ]
     },
     "execution_count": 4,
     "metadata": {},
     "output_type": "execute_result"
    }
   ],
   "source": [
    "benimAdim"
   ]
  },
  {
   "cell_type": "code",
   "execution_count": 8,
   "id": "ea66a3a7",
   "metadata": {},
   "outputs": [],
   "source": [
    "benimAdimBuyukHarfle=benimAdim.upper()  # harfleri büyük yapma fonksiyonunu tekrar kullanabilmek için bir değişkene eşitledik"
   ]
  },
  {
   "cell_type": "code",
   "execution_count": 7,
   "id": "a6624a86",
   "metadata": {},
   "outputs": [
    {
     "data": {
      "text/plain": [
       "'ONUR GÖKYAKA'"
      ]
     },
     "execution_count": 7,
     "metadata": {},
     "output_type": "execute_result"
    }
   ],
   "source": [
    "benimAdimBuyukHarfle"
   ]
  },
  {
   "cell_type": "code",
   "execution_count": 9,
   "id": "b9a2137c",
   "metadata": {},
   "outputs": [
    {
     "data": {
      "text/plain": [
       "'Onur Gökyaka'"
      ]
     },
     "execution_count": 9,
     "metadata": {},
     "output_type": "execute_result"
    }
   ],
   "source": [
    "benimAdim"
   ]
  },
  {
   "cell_type": "code",
   "execution_count": 10,
   "id": "f5a8076e",
   "metadata": {},
   "outputs": [
    {
     "name": "stdout",
     "output_type": "stream",
     "text": [
      "Help on built-in function upper:\n",
      "\n",
      "upper() method of builtins.str instance\n",
      "    Return a copy of the string converted to uppercase.\n",
      "\n"
     ]
    }
   ],
   "source": [
    "help(benimAdim.upper)  # shift+tab yerine bu kullanılabilir"
   ]
  },
  {
   "cell_type": "code",
   "execution_count": 11,
   "id": "6a723a57",
   "metadata": {},
   "outputs": [],
   "source": [
    "def ilkFonksiyon():  # def ile kendi fonksiyonumuzu yazdık, fonksiyonu ileride kullandığımızda bu fonksiyon çalışacak\n",
    "    print (\"İlk fonksiyonum\")"
   ]
  },
  {
   "cell_type": "code",
   "execution_count": 13,
   "id": "a56179b8",
   "metadata": {},
   "outputs": [
    {
     "name": "stdout",
     "output_type": "stream",
     "text": [
      "İlk fonksiyonum\n"
     ]
    }
   ],
   "source": [
    "ilkFonksiyon()"
   ]
  },
  {
   "cell_type": "markdown",
   "id": "fa9ba8bf",
   "metadata": {},
   "source": [
    "## input-return ( girdi-çıktı or döndürmek)"
   ]
  },
  {
   "cell_type": "code",
   "execution_count": 18,
   "id": "d771b222",
   "metadata": {},
   "outputs": [],
   "source": [
    "def merhabaDunya(yazdirilacakIsim):\n",
    "    print(\"merhaba \")\n",
    "    print(yazdirilacakIsim)"
   ]
  },
  {
   "cell_type": "code",
   "execution_count": 20,
   "id": "d87e9b44",
   "metadata": {},
   "outputs": [
    {
     "name": "stdout",
     "output_type": "stream",
     "text": [
      "merhaba \n",
      "Ali\n"
     ]
    }
   ],
   "source": [
    "merhabaDunya(\"Ali\")"
   ]
  },
  {
   "cell_type": "code",
   "execution_count": 21,
   "id": "e69a1026",
   "metadata": {},
   "outputs": [
    {
     "name": "stdout",
     "output_type": "stream",
     "text": [
      "merhaba \n",
      "Python\n"
     ]
    }
   ],
   "source": [
    "merhabaDunya(\"Python\")"
   ]
  },
  {
   "cell_type": "code",
   "execution_count": 25,
   "id": "6bbde797",
   "metadata": {},
   "outputs": [],
   "source": [
    "def merhaba(isim=\"Onur\"):  # merhaba fonksiyonunun içine isim yazılırsa merhaba *isim* yazar, eğer isim girilmezse onur u kabul eder\n",
    "    print(\"merhaba\")\n",
    "    print(isim)"
   ]
  },
  {
   "cell_type": "code",
   "execution_count": 27,
   "id": "5f3ee323",
   "metadata": {},
   "outputs": [
    {
     "name": "stdout",
     "output_type": "stream",
     "text": [
      "merhaba\n",
      "ali\n"
     ]
    }
   ],
   "source": [
    "merhaba(\"ali\")"
   ]
  },
  {
   "cell_type": "code",
   "execution_count": 28,
   "id": "53e9619e",
   "metadata": {},
   "outputs": [
    {
     "name": "stdout",
     "output_type": "stream",
     "text": [
      "merhaba\n",
      "Onur\n"
     ]
    }
   ],
   "source": [
    "merhaba()"
   ]
  },
  {
   "cell_type": "code",
   "execution_count": 33,
   "id": "dee3a9c0",
   "metadata": {},
   "outputs": [],
   "source": [
    "def toplama(sayi1,sayi2):  # toplama fonksiyonu yazdık\n",
    "    sonuc=sayi1+sayi2\n",
    "    print(sonuc)"
   ]
  },
  {
   "cell_type": "code",
   "execution_count": 34,
   "id": "e4ccace4",
   "metadata": {},
   "outputs": [
    {
     "name": "stdout",
     "output_type": "stream",
     "text": [
      "8\n"
     ]
    }
   ],
   "source": [
    "toplama(3,5)"
   ]
  },
  {
   "cell_type": "code",
   "execution_count": 35,
   "id": "7ad385b5",
   "metadata": {},
   "outputs": [
    {
     "name": "stdout",
     "output_type": "stream",
     "text": [
      "441\n"
     ]
    }
   ],
   "source": [
    "toplama(-546,987)"
   ]
  },
  {
   "cell_type": "code",
   "execution_count": 38,
   "id": "aee8947e",
   "metadata": {},
   "outputs": [],
   "source": [
    "def superToplama(num1,num2,num3): # 3 lü sayı toplama programı\n",
    "    print(num1+num2+num3)"
   ]
  },
  {
   "cell_type": "code",
   "execution_count": 39,
   "id": "da61b724",
   "metadata": {},
   "outputs": [
    {
     "name": "stdout",
     "output_type": "stream",
     "text": [
      "89\n"
     ]
    }
   ],
   "source": [
    "superToplama(10,45,34)"
   ]
  },
  {
   "cell_type": "code",
   "execution_count": 40,
   "id": "cf4474ae",
   "metadata": {},
   "outputs": [
    {
     "name": "stdout",
     "output_type": "stream",
     "text": [
      "30\n"
     ]
    }
   ],
   "source": [
    "yeniDegisken=toplama(10,20)"
   ]
  },
  {
   "cell_type": "code",
   "execution_count": 42,
   "id": "7c4e83f4",
   "metadata": {},
   "outputs": [
    {
     "name": "stdout",
     "output_type": "stream",
     "text": [
      "None\n"
     ]
    }
   ],
   "source": [
    "print(yeniDegisken)"
   ]
  },
  {
   "cell_type": "code",
   "execution_count": 43,
   "id": "483be0f9",
   "metadata": {},
   "outputs": [
    {
     "data": {
      "text/plain": [
       "NoneType"
      ]
     },
     "execution_count": 43,
     "metadata": {},
     "output_type": "execute_result"
    }
   ],
   "source": [
    "type(yeniDegisken) # sonucu fonksiyon içinde print olarak döndürdüğümüz için yeniDegisken e kalıcı deger gelmiyor"
   ]
  },
  {
   "cell_type": "code",
   "execution_count": 45,
   "id": "1708e388",
   "metadata": {},
   "outputs": [],
   "source": [
    "def dondurmeliToplama(num1,num2):\n",
    "    return num1+num2"
   ]
  },
  {
   "cell_type": "code",
   "execution_count": 47,
   "id": "c715439f",
   "metadata": {},
   "outputs": [
    {
     "data": {
      "text/plain": [
       "30"
      ]
     },
     "execution_count": 47,
     "metadata": {},
     "output_type": "execute_result"
    }
   ],
   "source": [
    "dondurmeliToplama(10,20)"
   ]
  },
  {
   "cell_type": "code",
   "execution_count": 48,
   "id": "bcd752b5",
   "metadata": {},
   "outputs": [],
   "source": [
    "yeniSonuc=dondurmeliToplama(10,20) # sonucu return ile döndürdük çünkü yeniSonuc degeri none olmasın"
   ]
  },
  {
   "cell_type": "code",
   "execution_count": 49,
   "id": "c275b254",
   "metadata": {},
   "outputs": [
    {
     "data": {
      "text/plain": [
       "30"
      ]
     },
     "execution_count": 49,
     "metadata": {},
     "output_type": "execute_result"
    }
   ],
   "source": [
    "yeniSonuc"
   ]
  },
  {
   "cell_type": "code",
   "execution_count": 50,
   "id": "173b74a1",
   "metadata": {},
   "outputs": [
    {
     "data": {
      "text/plain": [
       "int"
      ]
     },
     "execution_count": 50,
     "metadata": {},
     "output_type": "execute_result"
    }
   ],
   "source": [
    "type(yeniSonuc)"
   ]
  },
  {
   "cell_type": "code",
   "execution_count": 55,
   "id": "f6218316",
   "metadata": {},
   "outputs": [],
   "source": [
    "def kontrolFonksiyon(s):\n",
    "    if s==\"onur\":\n",
    "        print(\"verdiğiniz string onur\")\n",
    "    else:\n",
    "        print(\"verdiğiniz string onur'dan başka bir şey\")"
   ]
  },
  {
   "cell_type": "code",
   "execution_count": 56,
   "id": "01c8906a",
   "metadata": {},
   "outputs": [
    {
     "name": "stdout",
     "output_type": "stream",
     "text": [
      "verdiğiniz string onur\n"
     ]
    }
   ],
   "source": [
    "kontrolFonksiyon(\"onur\")"
   ]
  },
  {
   "cell_type": "markdown",
   "id": "a13290cd",
   "metadata": {},
   "source": [
    "kontrolFonksiyon(\"ali\")"
   ]
  },
  {
   "cell_type": "markdown",
   "id": "ecfb50b0",
   "metadata": {},
   "source": [
    "## args & kwargs (args and key-value args)\n"
   ]
  },
  {
   "cell_type": "code",
   "execution_count": 59,
   "id": "16702366",
   "metadata": {},
   "outputs": [],
   "source": [
    "def yeniToplama(*args): # args önüne yıldız koyunca istediğimiz kadar girdi olacagını söyledik\n",
    "    return sum(args)"
   ]
  },
  {
   "cell_type": "code",
   "execution_count": 60,
   "id": "dbb53e0f",
   "metadata": {},
   "outputs": [
    {
     "data": {
      "text/plain": [
       "100"
      ]
     },
     "execution_count": 60,
     "metadata": {},
     "output_type": "execute_result"
    }
   ],
   "source": [
    "yeniToplama(10,20,30,40)"
   ]
  },
  {
   "cell_type": "code",
   "execution_count": 61,
   "id": "7694b973",
   "metadata": {},
   "outputs": [],
   "source": [
    "def benimFonksiyonum(*args):\n",
    "    print(args)"
   ]
  },
  {
   "cell_type": "code",
   "execution_count": 62,
   "id": "dfa99109",
   "metadata": {},
   "outputs": [
    {
     "name": "stdout",
     "output_type": "stream",
     "text": [
      "(20, 30, 40)\n"
     ]
    }
   ],
   "source": [
    "benimFonksiyonum(20,30,40)"
   ]
  },
  {
   "cell_type": "code",
   "execution_count": 63,
   "id": "d94a0854",
   "metadata": {},
   "outputs": [
    {
     "data": {
      "text/plain": [
       "function"
      ]
     },
     "execution_count": 63,
     "metadata": {},
     "output_type": "execute_result"
    }
   ],
   "source": [
    "type(benimFonksiyonum)"
   ]
  },
  {
   "cell_type": "code",
   "execution_count": 64,
   "id": "dacd9e25",
   "metadata": {},
   "outputs": [
    {
     "name": "stdout",
     "output_type": "stream",
     "text": [
      "(20, 30, 40)\n"
     ]
    },
    {
     "data": {
      "text/plain": [
       "NoneType"
      ]
     },
     "execution_count": 64,
     "metadata": {},
     "output_type": "execute_result"
    }
   ],
   "source": [
    "type(benimFonksiyonum(20,30,40)) # print ile kullandığımız için tipini bulamadık"
   ]
  },
  {
   "cell_type": "code",
   "execution_count": 65,
   "id": "e9b0e6e3",
   "metadata": {},
   "outputs": [],
   "source": [
    "def benimFonksiyonum1(*args):\n",
    "    return(args)"
   ]
  },
  {
   "cell_type": "code",
   "execution_count": 66,
   "id": "2b016586",
   "metadata": {},
   "outputs": [
    {
     "data": {
      "text/plain": [
       "tuple"
      ]
     },
     "execution_count": 66,
     "metadata": {},
     "output_type": "execute_result"
    }
   ],
   "source": [
    "type(benimFonksiyonum1(20,30,40)) # return ile döndürünce tipini tuple bulduk"
   ]
  },
  {
   "cell_type": "code",
   "execution_count": 67,
   "id": "57ab342d",
   "metadata": {},
   "outputs": [],
   "source": [
    "def ornekFonksiyon(**kwargs):\n",
    "    print(kwargs)"
   ]
  },
  {
   "cell_type": "code",
   "execution_count": 69,
   "id": "5f7606d7",
   "metadata": {},
   "outputs": [
    {
     "name": "stdout",
     "output_type": "stream",
     "text": [
      "{}\n"
     ]
    }
   ],
   "source": [
    "ornekFonksiyon()"
   ]
  },
  {
   "cell_type": "code",
   "execution_count": 70,
   "id": "2ecc1364",
   "metadata": {},
   "outputs": [
    {
     "name": "stdout",
     "output_type": "stream",
     "text": [
      "{'muz': 100, 'elma': 200, 'ananas': 300}\n"
     ]
    }
   ],
   "source": [
    "ornekFonksiyon(muz=100,elma=200,ananas=300)"
   ]
  },
  {
   "cell_type": "code",
   "execution_count": 71,
   "id": "8bb909af",
   "metadata": {},
   "outputs": [
    {
     "name": "stdout",
     "output_type": "stream",
     "text": [
      "{'muz': 100, 'elma': 200, 'ananas': 300}\n"
     ]
    },
    {
     "data": {
      "text/plain": [
       "NoneType"
      ]
     },
     "execution_count": 71,
     "metadata": {},
     "output_type": "execute_result"
    }
   ],
   "source": [
    "type(ornekFonksiyon(muz=100,elma=200,ananas=300))"
   ]
  },
  {
   "cell_type": "code",
   "execution_count": 72,
   "id": "5680de0d",
   "metadata": {},
   "outputs": [],
   "source": [
    "def ornekFonksiyon(**kwargs):\n",
    "    return(kwargs)"
   ]
  },
  {
   "cell_type": "code",
   "execution_count": 73,
   "id": "c16cf4a9",
   "metadata": {},
   "outputs": [
    {
     "data": {
      "text/plain": [
       "dict"
      ]
     },
     "execution_count": 73,
     "metadata": {},
     "output_type": "execute_result"
    }
   ],
   "source": [
    "type(ornekFonksiyon(muz=100,elma=200,ananas=300)) # fonksyonda return kullanınca ornekFonksiyonu bir dictionary yaptı"
   ]
  },
  {
   "cell_type": "code",
   "execution_count": 74,
   "id": "c7b6f779",
   "metadata": {},
   "outputs": [],
   "source": [
    "def keyWordKontrolu(**kwargs):\n",
    "    if \"onur\" in kwargs: # eger kwargs ın içinde onur varsa\n",
    "        print(\"onur var\")\n",
    "    else:\n",
    "        print(\"onur yok\")"
   ]
  },
  {
   "cell_type": "code",
   "execution_count": 76,
   "id": "359ef26e",
   "metadata": {},
   "outputs": [
    {
     "name": "stdout",
     "output_type": "stream",
     "text": [
      "onur var\n"
     ]
    }
   ],
   "source": [
    "keyWordKontrolu(onur=24,ali=28)"
   ]
  },
  {
   "cell_type": "markdown",
   "id": "911d3f01",
   "metadata": {},
   "source": [
    "## kaç girdi alacağımız belli değilken kullanılırlar, args tuple, kwargs dictionary tipinde değerler için kullanılır"
   ]
  },
  {
   "cell_type": "code",
   "execution_count": null,
   "id": "47ef0220",
   "metadata": {},
   "outputs": [],
   "source": []
  }
 ],
 "metadata": {
  "kernelspec": {
   "display_name": "Python 3",
   "language": "python",
   "name": "python3"
  },
  "language_info": {
   "codemirror_mode": {
    "name": "ipython",
    "version": 3
   },
   "file_extension": ".py",
   "mimetype": "text/x-python",
   "name": "python",
   "nbconvert_exporter": "python",
   "pygments_lexer": "ipython3",
   "version": "3.8.8"
  }
 },
 "nbformat": 4,
 "nbformat_minor": 5
}
