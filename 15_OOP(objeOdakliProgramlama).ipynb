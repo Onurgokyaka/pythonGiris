{
 "cells": [
  {
   "cell_type": "code",
   "execution_count": 1,
   "id": "f80a90fb",
   "metadata": {},
   "outputs": [],
   "source": [
    "benimListem=list()  # burada liste sınıfından bir obje oluşturuyoruz"
   ]
  },
  {
   "cell_type": "code",
   "execution_count": 2,
   "id": "79dbe472",
   "metadata": {},
   "outputs": [
    {
     "data": {
      "text/plain": [
       "list"
      ]
     },
     "execution_count": 2,
     "metadata": {},
     "output_type": "execute_result"
    }
   ],
   "source": [
    "type(benimListem)"
   ]
  },
  {
   "cell_type": "markdown",
   "id": "b4c96952",
   "metadata": {},
   "source": [
    "## instance & attribute"
   ]
  },
  {
   "cell_type": "markdown",
   "id": "360c241f",
   "metadata": {},
   "source": [
    "## attribute: özellik "
   ]
  },
  {
   "cell_type": "code",
   "execution_count": 3,
   "id": "9f3ec593",
   "metadata": {},
   "outputs": [],
   "source": [
    "superKahramanadi=\"Superman\"\n",
    "superKahramanYasi=30\n",
    "superKahramanMeslegi=\"Gazeteci\"\n",
    "# birkaç süper kahraman bu şekilde girilebilir ama 200 tae olsa bu acı verici olurdu bu nedenle class kullanacağız"
   ]
  },
  {
   "cell_type": "code",
   "execution_count": 11,
   "id": "1ebce997",
   "metadata": {},
   "outputs": [],
   "source": [
    "class SuperKahraman(): # sınıfların ilk harfleri büyük yazılmalı, küçük harfle yazılan instance dır \n",
    "    def __init__(self,isimInput,yasInput,meslekInput): # init superkahraman sınıfında obje olusturuldugunda çağırılır\n",
    "        print(isimInput,\" \", yasInput, \" yaşında ve mesleği \", meslekInput)\n",
    "        self.isim=isimInput\n",
    "        self.yas=yasInput\n",
    "        self.meslek=meslekInput"
   ]
  },
  {
   "cell_type": "code",
   "execution_count": 20,
   "id": "85c60fcb",
   "metadata": {},
   "outputs": [
    {
     "name": "stdout",
     "output_type": "stream",
     "text": [
      "Superman   30  yaşında ve mesleği  Gazeteci\n"
     ]
    }
   ],
   "source": [
    "superman=SuperKahraman(\"Superman\",30,\"Gazeteci\")"
   ]
  },
  {
   "cell_type": "code",
   "execution_count": 15,
   "id": "32a785be",
   "metadata": {},
   "outputs": [],
   "source": [
    "superman.isim =\" Clark Kent\""
   ]
  },
  {
   "cell_type": "code",
   "execution_count": 16,
   "id": "60ef119b",
   "metadata": {},
   "outputs": [
    {
     "data": {
      "text/plain": [
       "' Clark Kent'"
      ]
     },
     "execution_count": 16,
     "metadata": {},
     "output_type": "execute_result"
    }
   ],
   "source": [
    "superman.isim"
   ]
  },
  {
   "cell_type": "code",
   "execution_count": 17,
   "id": "f5f14c94",
   "metadata": {},
   "outputs": [
    {
     "data": {
      "text/plain": [
       "30"
      ]
     },
     "execution_count": 17,
     "metadata": {},
     "output_type": "execute_result"
    }
   ],
   "source": [
    "superman.yas"
   ]
  },
  {
   "cell_type": "code",
   "execution_count": 31,
   "id": "d6ef7bab",
   "metadata": {},
   "outputs": [],
   "source": [
    "class SuperKahraman(): # sınıfların ilk harfleri büyük yazılmalı, küçük harfle yazılan instance dır \n",
    "    def __init__(self,isimInput,yasInput,meslekInput): # init superkahraman sınıfında obje olusturuldugunda çağırılır\n",
    "        print(isimInput,\" \", yasInput, \" yaşında ve mesleği \", meslekInput)\n",
    "        self.isim=isimInput # def içinde selften sonra gelenler özelliktir, yabi attribute\n",
    "        self.yas=yasInput\n",
    "        self.meslek=meslekInput\n",
    "        \n",
    "    def ornekMethod(self):\n",
    "        print(\"Ben süperkahramanım ve mesleğim: \", self.meslek)"
   ]
  },
  {
   "cell_type": "code",
   "execution_count": 32,
   "id": "ef86b5b0",
   "metadata": {},
   "outputs": [
    {
     "name": "stdout",
     "output_type": "stream",
     "text": [
      "Superman   30  yaşında ve mesleği  Gazeteci\n"
     ]
    }
   ],
   "source": [
    "superman=SuperKahraman(\"Superman\",30,\"Gazeteci\")"
   ]
  },
  {
   "cell_type": "code",
   "execution_count": 33,
   "id": "fa2e422c",
   "metadata": {},
   "outputs": [
    {
     "name": "stdout",
     "output_type": "stream",
     "text": [
      "Ben süperkahramanım ve mesleğim:  Gazeteci\n"
     ]
    }
   ],
   "source": [
    "superman.ornekMethod()"
   ]
  },
  {
   "cell_type": "code",
   "execution_count": 34,
   "id": "3af42470",
   "metadata": {},
   "outputs": [],
   "source": [
    "class Kopek():\n",
    "    def __init__(self,yas):\n",
    "        self.yas =yas"
   ]
  },
  {
   "cell_type": "code",
   "execution_count": 37,
   "id": "983b9c1c",
   "metadata": {},
   "outputs": [],
   "source": [
    "benimKopek= Kopek(4)"
   ]
  },
  {
   "cell_type": "code",
   "execution_count": 38,
   "id": "a3950f16",
   "metadata": {},
   "outputs": [
    {
     "data": {
      "text/plain": [
       "4"
      ]
     },
     "execution_count": 38,
     "metadata": {},
     "output_type": "execute_result"
    }
   ],
   "source": [
    "benimKopek.yas"
   ]
  },
  {
   "cell_type": "code",
   "execution_count": 42,
   "id": "e61407b9",
   "metadata": {},
   "outputs": [],
   "source": [
    "class Kopek():\n",
    "    def __init__(self,yas=5): # yas=5 girilmesi, yas için herhangi bir değer verilmezse otomatikmen 5 kabul et demektir\n",
    "        self.yas =yas"
   ]
  },
  {
   "cell_type": "code",
   "execution_count": 43,
   "id": "05bed74c",
   "metadata": {},
   "outputs": [],
   "source": [
    "benimKopek= Kopek()"
   ]
  },
  {
   "cell_type": "code",
   "execution_count": 44,
   "id": "1c88e000",
   "metadata": {},
   "outputs": [
    {
     "data": {
      "text/plain": [
       "5"
      ]
     },
     "execution_count": 44,
     "metadata": {},
     "output_type": "execute_result"
    }
   ],
   "source": [
    "benimKopek.yas"
   ]
  },
  {
   "cell_type": "code",
   "execution_count": 48,
   "id": "64f2ff64",
   "metadata": {},
   "outputs": [],
   "source": [
    " # köpeğin insan yaşını hesaplayalım(köpek yaşı*7= insan yaşı )\n",
    "#yol 1 \n",
    "    class Kopek():\n",
    "    def __init__(self,yas=5): # yas=5 girilmesi, yas için herhangi bir değer verilmezse otomatikmen 5 kabul et demektir\n",
    "        self.yas =yas\n",
    "    def insanyasi(self):\n",
    "        print(\"Köpeğimin insan yasi \",self.yas*7)"
   ]
  },
  {
   "cell_type": "code",
   "execution_count": 49,
   "id": "c1c17fb7",
   "metadata": {},
   "outputs": [],
   "source": [
    "benimKopek= Kopek(7)"
   ]
  },
  {
   "cell_type": "code",
   "execution_count": 50,
   "id": "f7a5f691",
   "metadata": {},
   "outputs": [
    {
     "data": {
      "text/plain": [
       "7"
      ]
     },
     "execution_count": 50,
     "metadata": {},
     "output_type": "execute_result"
    }
   ],
   "source": [
    "benimKopek.yas"
   ]
  },
  {
   "cell_type": "code",
   "execution_count": 52,
   "id": "ecb6b1e0",
   "metadata": {},
   "outputs": [
    {
     "name": "stdout",
     "output_type": "stream",
     "text": [
      "Köpeğimin insan yasi  49\n"
     ]
    }
   ],
   "source": [
    "benimKopek.insanyasi()"
   ]
  },
  {
   "cell_type": "code",
   "execution_count": 57,
   "id": "4f3d13eb",
   "metadata": {},
   "outputs": [],
   "source": [
    "#yol 2\n",
    "class Kopek():\n",
    "    \n",
    "    yilCarpani=7\n",
    "    \n",
    "    def __init__(self,yas=5): # yas=5 girilmesi, yas için herhangi bir değer verilmezse otomatikmen 5 kabul et demektir\n",
    "        self.yas =yas\n",
    "    def insanyasi(self):\n",
    "        return self.yas*self.yilCarpani"
   ]
  },
  {
   "cell_type": "code",
   "execution_count": 61,
   "id": "e2565d8b",
   "metadata": {},
   "outputs": [],
   "source": [
    "benimKopek= Kopek()"
   ]
  },
  {
   "cell_type": "code",
   "execution_count": 62,
   "id": "c42cdfa8",
   "metadata": {},
   "outputs": [
    {
     "data": {
      "text/plain": [
       "5"
      ]
     },
     "execution_count": 62,
     "metadata": {},
     "output_type": "execute_result"
    }
   ],
   "source": [
    "benimKopek.yas"
   ]
  },
  {
   "cell_type": "code",
   "execution_count": 63,
   "id": "dd155b85",
   "metadata": {},
   "outputs": [
    {
     "data": {
      "text/plain": [
       "35"
      ]
     },
     "execution_count": 63,
     "metadata": {},
     "output_type": "execute_result"
    }
   ],
   "source": [
    "benimKopek.insanyasi()"
   ]
  },
  {
   "cell_type": "code",
   "execution_count": 64,
   "id": "9531b027",
   "metadata": {},
   "outputs": [],
   "source": [
    "class Kopek():\n",
    "    \n",
    "    yilCarpani=7\n",
    "    \n",
    "    def __init__(self,yas=5): # yas=5 girilmesi, yas için herhangi bir değer verilmezse otomatikmen 5 kabul et demektir\n",
    "        self.yas =yas\n",
    "    def insanyasi(self):\n",
    "        return self.yas*Kopek.yilCarpani"
   ]
  },
  {
   "cell_type": "code",
   "execution_count": 68,
   "id": "5d1b9921",
   "metadata": {},
   "outputs": [],
   "source": [
    "benimKopek= Kopek(2)"
   ]
  },
  {
   "cell_type": "code",
   "execution_count": 69,
   "id": "45a1c154",
   "metadata": {},
   "outputs": [
    {
     "data": {
      "text/plain": [
       "2"
      ]
     },
     "execution_count": 69,
     "metadata": {},
     "output_type": "execute_result"
    }
   ],
   "source": [
    "benimKopek.yas"
   ]
  },
  {
   "cell_type": "code",
   "execution_count": 70,
   "id": "b0cc9bfb",
   "metadata": {},
   "outputs": [
    {
     "data": {
      "text/plain": [
       "14"
      ]
     },
     "execution_count": 70,
     "metadata": {},
     "output_type": "execute_result"
    }
   ],
   "source": [
    "benimKopek.insanyasi()"
   ]
  },
  {
   "cell_type": "markdown",
   "id": "88e8be35",
   "metadata": {},
   "source": [
    "## inheritance (miras)"
   ]
  },
  {
   "cell_type": "code",
   "execution_count": 71,
   "id": "366aeeb3",
   "metadata": {},
   "outputs": [],
   "source": [
    "# bir sınıfın özelliklerini miras almak\n",
    "class Hayvan ():\n",
    "    def __init__(self):\n",
    "        print(\"hayvan sınıfı init çağırıldı\")\n",
    "    def method1(self):\n",
    "        print(\"hayvan sınıfı method1 çağırıldı\")\n",
    "    def method2(self):\n",
    "        print(\"hayvan sınıfı method2 çağırıldı\")"
   ]
  },
  {
   "cell_type": "code",
   "execution_count": 72,
   "id": "c9c4a599",
   "metadata": {},
   "outputs": [
    {
     "name": "stdout",
     "output_type": "stream",
     "text": [
      "hayvan sınıfı init çağırıldı\n"
     ]
    }
   ],
   "source": [
    "benimHayvanim=Hayvan()"
   ]
  },
  {
   "cell_type": "code",
   "execution_count": 73,
   "id": "68859e76",
   "metadata": {},
   "outputs": [
    {
     "name": "stdout",
     "output_type": "stream",
     "text": [
      "hayvan sınıfı method1 çağırıldı\n"
     ]
    }
   ],
   "source": [
    "benimHayvanim.method1()"
   ]
  },
  {
   "cell_type": "code",
   "execution_count": 75,
   "id": "6b5396ac",
   "metadata": {},
   "outputs": [
    {
     "name": "stdout",
     "output_type": "stream",
     "text": [
      "hayvan sınıfı method2 çağırıldı\n"
     ]
    }
   ],
   "source": [
    "benimHayvanim.method2()"
   ]
  },
  {
   "cell_type": "code",
   "execution_count": 79,
   "id": "1cfbc528",
   "metadata": {},
   "outputs": [],
   "source": [
    "class Kedi(Hayvan):\n",
    "    def __init__(self):\n",
    "        Hayvan.__init__(self)\n",
    "        print(\"kedi sınıfı oluşturuldu\")\n",
    "    def miyavla(self):\n",
    "        print(\"miyav\")"
   ]
  },
  {
   "cell_type": "code",
   "execution_count": 80,
   "id": "1175e207",
   "metadata": {},
   "outputs": [
    {
     "name": "stdout",
     "output_type": "stream",
     "text": [
      "hayvan sınıfı init çağırıldı\n",
      "kedi sınıfı oluşturuldu\n"
     ]
    }
   ],
   "source": [
    "benimKedim=Kedi()"
   ]
  },
  {
   "cell_type": "code",
   "execution_count": 81,
   "id": "9bfcf443",
   "metadata": {},
   "outputs": [
    {
     "name": "stdout",
     "output_type": "stream",
     "text": [
      "hayvan sınıfı method1 çağırıldı\n"
     ]
    }
   ],
   "source": [
    "benimKedim.method1()"
   ]
  },
  {
   "cell_type": "code",
   "execution_count": 83,
   "id": "9a810ff3",
   "metadata": {},
   "outputs": [
    {
     "name": "stdout",
     "output_type": "stream",
     "text": [
      "miyav\n"
     ]
    }
   ],
   "source": [
    "benimKedim.miyavla()"
   ]
  },
  {
   "cell_type": "markdown",
   "id": "6d2eb93c",
   "metadata": {},
   "source": [
    "## Polymorphism"
   ]
  },
  {
   "cell_type": "code",
   "execution_count": 25,
   "id": "0147e820",
   "metadata": {},
   "outputs": [],
   "source": [
    "class Elma():\n",
    "    def __init__(self,isim):\n",
    "        self.isim=isim\n",
    "    \n",
    "    def bilgiVer(self):\n",
    "        return self.isim +\" 100 kaloridir\""
   ]
  },
  {
   "cell_type": "code",
   "execution_count": 26,
   "id": "eff2d8a7",
   "metadata": {},
   "outputs": [],
   "source": [
    "class Muz():\n",
    "    def __init__(self,isim):\n",
    "        self.isim=isim\n",
    "    def bilgiVer(self):\n",
    "        return self.isim + \" 200 kaloridir\""
   ]
  },
  {
   "cell_type": "code",
   "execution_count": 31,
   "id": "cf4f43b8",
   "metadata": {},
   "outputs": [],
   "source": [
    "elma=Elma(\"elma\")"
   ]
  },
  {
   "cell_type": "code",
   "execution_count": 32,
   "id": "42033fbb",
   "metadata": {},
   "outputs": [],
   "source": [
    "muz=Muz(\"Muz\")"
   ]
  },
  {
   "cell_type": "code",
   "execution_count": 33,
   "id": "65b84c9f",
   "metadata": {},
   "outputs": [
    {
     "data": {
      "text/plain": [
       "'Muz 200 kaloridir'"
      ]
     },
     "execution_count": 33,
     "metadata": {},
     "output_type": "execute_result"
    }
   ],
   "source": [
    "muz.bilgiVer()"
   ]
  },
  {
   "cell_type": "code",
   "execution_count": 34,
   "id": "212e6fd7",
   "metadata": {},
   "outputs": [],
   "source": [
    "meyveListesi= [elma,muz] # listedekiler string değil sınıflardaki objeler"
   ]
  },
  {
   "cell_type": "code",
   "execution_count": 35,
   "id": "f2e84306",
   "metadata": {},
   "outputs": [
    {
     "name": "stdout",
     "output_type": "stream",
     "text": [
      "elma 100 kaloridir\n",
      "Muz 200 kaloridir\n"
     ]
    }
   ],
   "source": [
    "for meyve in meyveListesi: # hem elma sınıfından hem muz sınıfından veri çekildi\n",
    "    print (meyve.bilgiVer())"
   ]
  },
  {
   "cell_type": "code",
   "execution_count": 38,
   "id": "126f330f",
   "metadata": {},
   "outputs": [],
   "source": [
    "def bilgiAl(meyve): # fonksiyon çağırılırken muz veya elma sınıfı olarak kendisi seçer ve sonucu farklı sınıflara göre aktarır\n",
    "    print(meyve.bilgiVer())"
   ]
  },
  {
   "cell_type": "code",
   "execution_count": 39,
   "id": "27965f01",
   "metadata": {},
   "outputs": [
    {
     "name": "stdout",
     "output_type": "stream",
     "text": [
      "Muz 200 kaloridir\n"
     ]
    }
   ],
   "source": [
    "bilgiAl(muz)"
   ]
  },
  {
   "cell_type": "code",
   "execution_count": 40,
   "id": "30fef0fa",
   "metadata": {},
   "outputs": [
    {
     "name": "stdout",
     "output_type": "stream",
     "text": [
      "elma 100 kaloridir\n"
     ]
    }
   ],
   "source": [
    "bilgiAl(elma)"
   ]
  },
  {
   "cell_type": "code",
   "execution_count": null,
   "id": "0ba9eade",
   "metadata": {},
   "outputs": [],
   "source": []
  }
 ],
 "metadata": {
  "kernelspec": {
   "display_name": "Python 3",
   "language": "python",
   "name": "python3"
  },
  "language_info": {
   "codemirror_mode": {
    "name": "ipython",
    "version": 3
   },
   "file_extension": ".py",
   "mimetype": "text/x-python",
   "name": "python",
   "nbconvert_exporter": "python",
   "pygments_lexer": "ipython3",
   "version": "3.8.8"
  }
 },
 "nbformat": 4,
 "nbformat_minor": 5
}
