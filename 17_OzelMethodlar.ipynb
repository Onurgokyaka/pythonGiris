{
 "cells": [
  {
   "cell_type": "code",
   "execution_count": 1,
   "id": "d1347504",
   "metadata": {},
   "outputs": [],
   "source": [
    "class Meyve():\n",
    "    def __init__ (self,isim,kalori):\n",
    "        self.isim=isim\n",
    "        self.kalori=kalori\n"
   ]
  },
  {
   "cell_type": "code",
   "execution_count": 3,
   "id": "3cd3b0bd",
   "metadata": {},
   "outputs": [],
   "source": [
    "muz=Meyve(\"Muz\" , 150)"
   ]
  },
  {
   "cell_type": "code",
   "execution_count": 4,
   "id": "4ae8df7d",
   "metadata": {},
   "outputs": [
    {
     "data": {
      "text/plain": [
       "150"
      ]
     },
     "execution_count": 4,
     "metadata": {},
     "output_type": "execute_result"
    }
   ],
   "source": [
    "muz.kalori"
   ]
  },
  {
   "cell_type": "code",
   "execution_count": 5,
   "id": "1c26b5ac",
   "metadata": {},
   "outputs": [
    {
     "data": {
      "text/plain": [
       "'Muz'"
      ]
     },
     "execution_count": 5,
     "metadata": {},
     "output_type": "execute_result"
    }
   ],
   "source": [
    "muz.isim"
   ]
  },
  {
   "cell_type": "code",
   "execution_count": 6,
   "id": "b4be931a",
   "metadata": {},
   "outputs": [
    {
     "name": "stdout",
     "output_type": "stream",
     "text": [
      "<__main__.Meyve object at 0x0000028221BC4880>\n"
     ]
    }
   ],
   "source": [
    "print(muz)"
   ]
  },
  {
   "cell_type": "code",
   "execution_count": 7,
   "id": "fa262ce2",
   "metadata": {},
   "outputs": [],
   "source": [
    "benimListem=[1,2,3,\"a\",4.5]"
   ]
  },
  {
   "cell_type": "code",
   "execution_count": 8,
   "id": "9fc88b61",
   "metadata": {},
   "outputs": [
    {
     "name": "stdout",
     "output_type": "stream",
     "text": [
      "[1, 2, 3, 'a', 4.5]\n"
     ]
    }
   ],
   "source": [
    "print(benimListem)"
   ]
  },
  {
   "cell_type": "code",
   "execution_count": 9,
   "id": "7feb0fa6",
   "metadata": {},
   "outputs": [
    {
     "data": {
      "text/plain": [
       "5"
      ]
     },
     "execution_count": 9,
     "metadata": {},
     "output_type": "execute_result"
    }
   ],
   "source": [
    "len(benimListem)"
   ]
  },
  {
   "cell_type": "code",
   "execution_count": 32,
   "id": "45030d20",
   "metadata": {},
   "outputs": [],
   "source": [
    "class Meyve():\n",
    "    def __init__ (self,isim,kalori):\n",
    "        self.isim=isim\n",
    "        self.kalori=kalori\n",
    "    \n",
    "    def __str__(self):\n",
    "        return f\"{self.isim} şu kadar kaloriye sahiptir:  {self.kalori}\" \n",
    "    def __len__(self):\n",
    "        return self.kalori"
   ]
  },
  {
   "cell_type": "code",
   "execution_count": 33,
   "id": "021372de",
   "metadata": {},
   "outputs": [],
   "source": [
    "muz=Meyve(\"Muz\" , 150)"
   ]
  },
  {
   "cell_type": "code",
   "execution_count": 34,
   "id": "f057b4c1",
   "metadata": {},
   "outputs": [
    {
     "data": {
      "text/plain": [
       "150"
      ]
     },
     "execution_count": 34,
     "metadata": {},
     "output_type": "execute_result"
    }
   ],
   "source": [
    "muz.kalori"
   ]
  },
  {
   "cell_type": "code",
   "execution_count": 35,
   "id": "96bfcfe5",
   "metadata": {},
   "outputs": [
    {
     "data": {
      "text/plain": [
       "'Muz'"
      ]
     },
     "execution_count": 35,
     "metadata": {},
     "output_type": "execute_result"
    }
   ],
   "source": [
    "muz.isim"
   ]
  },
  {
   "cell_type": "code",
   "execution_count": 26,
   "id": "60528c54",
   "metadata": {},
   "outputs": [
    {
     "name": "stdout",
     "output_type": "stream",
     "text": [
      "Muz şu kadar kaloriye sahiptir: , 150\n"
     ]
    }
   ],
   "source": [
    "print(muz)"
   ]
  },
  {
   "cell_type": "code",
   "execution_count": 36,
   "id": "3a3eb85c",
   "metadata": {},
   "outputs": [
    {
     "data": {
      "text/plain": [
       "150"
      ]
     },
     "execution_count": 36,
     "metadata": {},
     "output_type": "execute_result"
    }
   ],
   "source": [
    "len(muz)"
   ]
  },
  {
   "cell_type": "code",
   "execution_count": 37,
   "id": "49fe0bdc",
   "metadata": {},
   "outputs": [
    {
     "data": {
      "text/plain": [
       "'Muz şu kadar kaloriye sahiptir:  150'"
      ]
     },
     "execution_count": 37,
     "metadata": {},
     "output_type": "execute_result"
    }
   ],
   "source": [
    "str(muz)"
   ]
  },
  {
   "cell_type": "code",
   "execution_count": 39,
   "id": "d0ea80d5",
   "metadata": {},
   "outputs": [],
   "source": [
    "elma=Meyve(\"Elma\", 200 )"
   ]
  },
  {
   "cell_type": "code",
   "execution_count": 41,
   "id": "e0dcbfc6",
   "metadata": {},
   "outputs": [
    {
     "data": {
      "text/plain": [
       "200"
      ]
     },
     "execution_count": 41,
     "metadata": {},
     "output_type": "execute_result"
    }
   ],
   "source": [
    "len(elma)"
   ]
  },
  {
   "cell_type": "code",
   "execution_count": 42,
   "id": "5863b88c",
   "metadata": {},
   "outputs": [
    {
     "name": "stdout",
     "output_type": "stream",
     "text": [
      "Elma şu kadar kaloriye sahiptir:  200\n"
     ]
    }
   ],
   "source": [
    "print(elma)"
   ]
  },
  {
   "cell_type": "code",
   "execution_count": 43,
   "id": "0da58ede",
   "metadata": {},
   "outputs": [
    {
     "data": {
      "text/plain": [
       "'Elma şu kadar kaloriye sahiptir:  200'"
      ]
     },
     "execution_count": 43,
     "metadata": {},
     "output_type": "execute_result"
    }
   ],
   "source": [
    "str(elma)"
   ]
  },
  {
   "cell_type": "code",
   "execution_count": null,
   "id": "2aa2c5b0",
   "metadata": {},
   "outputs": [],
   "source": []
  }
 ],
 "metadata": {
  "kernelspec": {
   "display_name": "Python 3",
   "language": "python",
   "name": "python3"
  },
  "language_info": {
   "codemirror_mode": {
    "name": "ipython",
    "version": 3
   },
   "file_extension": ".py",
   "mimetype": "text/x-python",
   "name": "python",
   "nbconvert_exporter": "python",
   "pygments_lexer": "ipython3",
   "version": "3.8.8"
  }
 },
 "nbformat": 4,
 "nbformat_minor": 5
}
