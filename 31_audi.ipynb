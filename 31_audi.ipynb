{
 "cells": [
  {
   "cell_type": "code",
   "execution_count": 207,
   "id": "38cb8514",
   "metadata": {},
   "outputs": [],
   "source": [
    "import pandas as pd\n",
    "import numpy as np\n",
    "import matplotlib.pyplot as plt\n",
    "import seaborn as sbn\n",
    "import tensorflow as tf"
   ]
  },
  {
   "cell_type": "code",
   "execution_count": 208,
   "id": "dbbc38a2",
   "metadata": {
    "scrolled": true
   },
   "outputs": [],
   "source": [
    "df=pd.read_csv(\"audi.csv\")"
   ]
  },
  {
   "cell_type": "code",
   "execution_count": 209,
   "id": "eed1b0b7",
   "metadata": {},
   "outputs": [
    {
     "data": {
      "text/html": [
       "<div>\n",
       "<style scoped>\n",
       "    .dataframe tbody tr th:only-of-type {\n",
       "        vertical-align: middle;\n",
       "    }\n",
       "\n",
       "    .dataframe tbody tr th {\n",
       "        vertical-align: top;\n",
       "    }\n",
       "\n",
       "    .dataframe thead th {\n",
       "        text-align: right;\n",
       "    }\n",
       "</style>\n",
       "<table border=\"1\" class=\"dataframe\">\n",
       "  <thead>\n",
       "    <tr style=\"text-align: right;\">\n",
       "      <th></th>\n",
       "      <th>model</th>\n",
       "      <th>year</th>\n",
       "      <th>price</th>\n",
       "      <th>transmission</th>\n",
       "      <th>mileage</th>\n",
       "      <th>fuelType</th>\n",
       "      <th>tax</th>\n",
       "      <th>mpg</th>\n",
       "      <th>engineSize</th>\n",
       "    </tr>\n",
       "  </thead>\n",
       "  <tbody>\n",
       "    <tr>\n",
       "      <th>0</th>\n",
       "      <td>A1</td>\n",
       "      <td>2017</td>\n",
       "      <td>12500</td>\n",
       "      <td>Manual</td>\n",
       "      <td>15735</td>\n",
       "      <td>Petrol</td>\n",
       "      <td>150</td>\n",
       "      <td>55.4</td>\n",
       "      <td>1.4</td>\n",
       "    </tr>\n",
       "    <tr>\n",
       "      <th>1</th>\n",
       "      <td>A6</td>\n",
       "      <td>2016</td>\n",
       "      <td>16500</td>\n",
       "      <td>Automatic</td>\n",
       "      <td>36203</td>\n",
       "      <td>Diesel</td>\n",
       "      <td>20</td>\n",
       "      <td>64.2</td>\n",
       "      <td>2.0</td>\n",
       "    </tr>\n",
       "    <tr>\n",
       "      <th>2</th>\n",
       "      <td>A1</td>\n",
       "      <td>2016</td>\n",
       "      <td>11000</td>\n",
       "      <td>Manual</td>\n",
       "      <td>29946</td>\n",
       "      <td>Petrol</td>\n",
       "      <td>30</td>\n",
       "      <td>55.4</td>\n",
       "      <td>1.4</td>\n",
       "    </tr>\n",
       "    <tr>\n",
       "      <th>3</th>\n",
       "      <td>A4</td>\n",
       "      <td>2017</td>\n",
       "      <td>16800</td>\n",
       "      <td>Automatic</td>\n",
       "      <td>25952</td>\n",
       "      <td>Diesel</td>\n",
       "      <td>145</td>\n",
       "      <td>67.3</td>\n",
       "      <td>2.0</td>\n",
       "    </tr>\n",
       "    <tr>\n",
       "      <th>4</th>\n",
       "      <td>A3</td>\n",
       "      <td>2019</td>\n",
       "      <td>17300</td>\n",
       "      <td>Manual</td>\n",
       "      <td>1998</td>\n",
       "      <td>Petrol</td>\n",
       "      <td>145</td>\n",
       "      <td>49.6</td>\n",
       "      <td>1.0</td>\n",
       "    </tr>\n",
       "  </tbody>\n",
       "</table>\n",
       "</div>"
      ],
      "text/plain": [
       "  model  year  price transmission  mileage fuelType  tax   mpg  engineSize\n",
       "0    A1  2017  12500       Manual    15735   Petrol  150  55.4         1.4\n",
       "1    A6  2016  16500    Automatic    36203   Diesel   20  64.2         2.0\n",
       "2    A1  2016  11000       Manual    29946   Petrol   30  55.4         1.4\n",
       "3    A4  2017  16800    Automatic    25952   Diesel  145  67.3         2.0\n",
       "4    A3  2019  17300       Manual     1998   Petrol  145  49.6         1.0"
      ]
     },
     "execution_count": 209,
     "metadata": {},
     "output_type": "execute_result"
    }
   ],
   "source": [
    "df.head()\n",
    "# model,yıl,fiyat,vites,km,yakıt tipi,vergi, mpg,motor boyutu"
   ]
  },
  {
   "cell_type": "code",
   "execution_count": 210,
   "id": "3629c9fe",
   "metadata": {},
   "outputs": [
    {
     "data": {
      "text/html": [
       "<div>\n",
       "<style scoped>\n",
       "    .dataframe tbody tr th:only-of-type {\n",
       "        vertical-align: middle;\n",
       "    }\n",
       "\n",
       "    .dataframe tbody tr th {\n",
       "        vertical-align: top;\n",
       "    }\n",
       "\n",
       "    .dataframe thead th {\n",
       "        text-align: right;\n",
       "    }\n",
       "</style>\n",
       "<table border=\"1\" class=\"dataframe\">\n",
       "  <thead>\n",
       "    <tr style=\"text-align: right;\">\n",
       "      <th></th>\n",
       "      <th>year</th>\n",
       "      <th>price</th>\n",
       "      <th>mileage</th>\n",
       "      <th>tax</th>\n",
       "      <th>mpg</th>\n",
       "      <th>engineSize</th>\n",
       "    </tr>\n",
       "  </thead>\n",
       "  <tbody>\n",
       "    <tr>\n",
       "      <th>count</th>\n",
       "      <td>10668.000000</td>\n",
       "      <td>10668.000000</td>\n",
       "      <td>10668.000000</td>\n",
       "      <td>10668.000000</td>\n",
       "      <td>10668.000000</td>\n",
       "      <td>10668.000000</td>\n",
       "    </tr>\n",
       "    <tr>\n",
       "      <th>mean</th>\n",
       "      <td>2017.100675</td>\n",
       "      <td>22896.685039</td>\n",
       "      <td>24827.244001</td>\n",
       "      <td>126.011436</td>\n",
       "      <td>50.770022</td>\n",
       "      <td>1.930709</td>\n",
       "    </tr>\n",
       "    <tr>\n",
       "      <th>std</th>\n",
       "      <td>2.167494</td>\n",
       "      <td>11714.841888</td>\n",
       "      <td>23505.257205</td>\n",
       "      <td>67.170294</td>\n",
       "      <td>12.949782</td>\n",
       "      <td>0.602957</td>\n",
       "    </tr>\n",
       "    <tr>\n",
       "      <th>min</th>\n",
       "      <td>1997.000000</td>\n",
       "      <td>1490.000000</td>\n",
       "      <td>1.000000</td>\n",
       "      <td>0.000000</td>\n",
       "      <td>18.900000</td>\n",
       "      <td>0.000000</td>\n",
       "    </tr>\n",
       "    <tr>\n",
       "      <th>25%</th>\n",
       "      <td>2016.000000</td>\n",
       "      <td>15130.750000</td>\n",
       "      <td>5968.750000</td>\n",
       "      <td>125.000000</td>\n",
       "      <td>40.900000</td>\n",
       "      <td>1.500000</td>\n",
       "    </tr>\n",
       "    <tr>\n",
       "      <th>50%</th>\n",
       "      <td>2017.000000</td>\n",
       "      <td>20200.000000</td>\n",
       "      <td>19000.000000</td>\n",
       "      <td>145.000000</td>\n",
       "      <td>49.600000</td>\n",
       "      <td>2.000000</td>\n",
       "    </tr>\n",
       "    <tr>\n",
       "      <th>75%</th>\n",
       "      <td>2019.000000</td>\n",
       "      <td>27990.000000</td>\n",
       "      <td>36464.500000</td>\n",
       "      <td>145.000000</td>\n",
       "      <td>58.900000</td>\n",
       "      <td>2.000000</td>\n",
       "    </tr>\n",
       "    <tr>\n",
       "      <th>max</th>\n",
       "      <td>2020.000000</td>\n",
       "      <td>145000.000000</td>\n",
       "      <td>323000.000000</td>\n",
       "      <td>580.000000</td>\n",
       "      <td>188.300000</td>\n",
       "      <td>6.300000</td>\n",
       "    </tr>\n",
       "  </tbody>\n",
       "</table>\n",
       "</div>"
      ],
      "text/plain": [
       "               year          price        mileage           tax           mpg  \\\n",
       "count  10668.000000   10668.000000   10668.000000  10668.000000  10668.000000   \n",
       "mean    2017.100675   22896.685039   24827.244001    126.011436     50.770022   \n",
       "std        2.167494   11714.841888   23505.257205     67.170294     12.949782   \n",
       "min     1997.000000    1490.000000       1.000000      0.000000     18.900000   \n",
       "25%     2016.000000   15130.750000    5968.750000    125.000000     40.900000   \n",
       "50%     2017.000000   20200.000000   19000.000000    145.000000     49.600000   \n",
       "75%     2019.000000   27990.000000   36464.500000    145.000000     58.900000   \n",
       "max     2020.000000  145000.000000  323000.000000    580.000000    188.300000   \n",
       "\n",
       "         engineSize  \n",
       "count  10668.000000  \n",
       "mean       1.930709  \n",
       "std        0.602957  \n",
       "min        0.000000  \n",
       "25%        1.500000  \n",
       "50%        2.000000  \n",
       "75%        2.000000  \n",
       "max        6.300000  "
      ]
     },
     "execution_count": 210,
     "metadata": {},
     "output_type": "execute_result"
    }
   ],
   "source": [
    "df.describe()"
   ]
  },
  {
   "cell_type": "code",
   "execution_count": 211,
   "id": "fade9aed",
   "metadata": {},
   "outputs": [
    {
     "data": {
      "text/html": [
       "<div>\n",
       "<style scoped>\n",
       "    .dataframe tbody tr th:only-of-type {\n",
       "        vertical-align: middle;\n",
       "    }\n",
       "\n",
       "    .dataframe tbody tr th {\n",
       "        vertical-align: top;\n",
       "    }\n",
       "\n",
       "    .dataframe thead th {\n",
       "        text-align: right;\n",
       "    }\n",
       "</style>\n",
       "<table border=\"1\" class=\"dataframe\">\n",
       "  <thead>\n",
       "    <tr style=\"text-align: right;\">\n",
       "      <th></th>\n",
       "      <th>model</th>\n",
       "      <th>year</th>\n",
       "      <th>price</th>\n",
       "      <th>transmission</th>\n",
       "      <th>mileage</th>\n",
       "      <th>fuelType</th>\n",
       "      <th>tax</th>\n",
       "      <th>mpg</th>\n",
       "      <th>engineSize</th>\n",
       "    </tr>\n",
       "  </thead>\n",
       "  <tbody>\n",
       "    <tr>\n",
       "      <th>0</th>\n",
       "      <td>False</td>\n",
       "      <td>False</td>\n",
       "      <td>False</td>\n",
       "      <td>False</td>\n",
       "      <td>False</td>\n",
       "      <td>False</td>\n",
       "      <td>False</td>\n",
       "      <td>False</td>\n",
       "      <td>False</td>\n",
       "    </tr>\n",
       "    <tr>\n",
       "      <th>1</th>\n",
       "      <td>False</td>\n",
       "      <td>False</td>\n",
       "      <td>False</td>\n",
       "      <td>False</td>\n",
       "      <td>False</td>\n",
       "      <td>False</td>\n",
       "      <td>False</td>\n",
       "      <td>False</td>\n",
       "      <td>False</td>\n",
       "    </tr>\n",
       "    <tr>\n",
       "      <th>2</th>\n",
       "      <td>False</td>\n",
       "      <td>False</td>\n",
       "      <td>False</td>\n",
       "      <td>False</td>\n",
       "      <td>False</td>\n",
       "      <td>False</td>\n",
       "      <td>False</td>\n",
       "      <td>False</td>\n",
       "      <td>False</td>\n",
       "    </tr>\n",
       "    <tr>\n",
       "      <th>3</th>\n",
       "      <td>False</td>\n",
       "      <td>False</td>\n",
       "      <td>False</td>\n",
       "      <td>False</td>\n",
       "      <td>False</td>\n",
       "      <td>False</td>\n",
       "      <td>False</td>\n",
       "      <td>False</td>\n",
       "      <td>False</td>\n",
       "    </tr>\n",
       "    <tr>\n",
       "      <th>4</th>\n",
       "      <td>False</td>\n",
       "      <td>False</td>\n",
       "      <td>False</td>\n",
       "      <td>False</td>\n",
       "      <td>False</td>\n",
       "      <td>False</td>\n",
       "      <td>False</td>\n",
       "      <td>False</td>\n",
       "      <td>False</td>\n",
       "    </tr>\n",
       "    <tr>\n",
       "      <th>...</th>\n",
       "      <td>...</td>\n",
       "      <td>...</td>\n",
       "      <td>...</td>\n",
       "      <td>...</td>\n",
       "      <td>...</td>\n",
       "      <td>...</td>\n",
       "      <td>...</td>\n",
       "      <td>...</td>\n",
       "      <td>...</td>\n",
       "    </tr>\n",
       "    <tr>\n",
       "      <th>10663</th>\n",
       "      <td>False</td>\n",
       "      <td>False</td>\n",
       "      <td>False</td>\n",
       "      <td>False</td>\n",
       "      <td>False</td>\n",
       "      <td>False</td>\n",
       "      <td>False</td>\n",
       "      <td>False</td>\n",
       "      <td>False</td>\n",
       "    </tr>\n",
       "    <tr>\n",
       "      <th>10664</th>\n",
       "      <td>False</td>\n",
       "      <td>False</td>\n",
       "      <td>False</td>\n",
       "      <td>False</td>\n",
       "      <td>False</td>\n",
       "      <td>False</td>\n",
       "      <td>False</td>\n",
       "      <td>False</td>\n",
       "      <td>False</td>\n",
       "    </tr>\n",
       "    <tr>\n",
       "      <th>10665</th>\n",
       "      <td>False</td>\n",
       "      <td>False</td>\n",
       "      <td>False</td>\n",
       "      <td>False</td>\n",
       "      <td>False</td>\n",
       "      <td>False</td>\n",
       "      <td>False</td>\n",
       "      <td>False</td>\n",
       "      <td>False</td>\n",
       "    </tr>\n",
       "    <tr>\n",
       "      <th>10666</th>\n",
       "      <td>False</td>\n",
       "      <td>False</td>\n",
       "      <td>False</td>\n",
       "      <td>False</td>\n",
       "      <td>False</td>\n",
       "      <td>False</td>\n",
       "      <td>False</td>\n",
       "      <td>False</td>\n",
       "      <td>False</td>\n",
       "    </tr>\n",
       "    <tr>\n",
       "      <th>10667</th>\n",
       "      <td>False</td>\n",
       "      <td>False</td>\n",
       "      <td>False</td>\n",
       "      <td>False</td>\n",
       "      <td>False</td>\n",
       "      <td>False</td>\n",
       "      <td>False</td>\n",
       "      <td>False</td>\n",
       "      <td>False</td>\n",
       "    </tr>\n",
       "  </tbody>\n",
       "</table>\n",
       "<p>10668 rows × 9 columns</p>\n",
       "</div>"
      ],
      "text/plain": [
       "       model   year  price  transmission  mileage  fuelType    tax    mpg  \\\n",
       "0      False  False  False         False    False     False  False  False   \n",
       "1      False  False  False         False    False     False  False  False   \n",
       "2      False  False  False         False    False     False  False  False   \n",
       "3      False  False  False         False    False     False  False  False   \n",
       "4      False  False  False         False    False     False  False  False   \n",
       "...      ...    ...    ...           ...      ...       ...    ...    ...   \n",
       "10663  False  False  False         False    False     False  False  False   \n",
       "10664  False  False  False         False    False     False  False  False   \n",
       "10665  False  False  False         False    False     False  False  False   \n",
       "10666  False  False  False         False    False     False  False  False   \n",
       "10667  False  False  False         False    False     False  False  False   \n",
       "\n",
       "       engineSize  \n",
       "0           False  \n",
       "1           False  \n",
       "2           False  \n",
       "3           False  \n",
       "4           False  \n",
       "...           ...  \n",
       "10663       False  \n",
       "10664       False  \n",
       "10665       False  \n",
       "10666       False  \n",
       "10667       False  \n",
       "\n",
       "[10668 rows x 9 columns]"
      ]
     },
     "execution_count": 211,
     "metadata": {},
     "output_type": "execute_result"
    }
   ],
   "source": [
    "df.isnull()"
   ]
  },
  {
   "cell_type": "code",
   "execution_count": 212,
   "id": "329b4b92",
   "metadata": {},
   "outputs": [
    {
     "data": {
      "text/plain": [
       "model           0\n",
       "year            0\n",
       "price           0\n",
       "transmission    0\n",
       "mileage         0\n",
       "fuelType        0\n",
       "tax             0\n",
       "mpg             0\n",
       "engineSize      0\n",
       "dtype: int64"
      ]
     },
     "execution_count": 212,
     "metadata": {},
     "output_type": "execute_result"
    }
   ],
   "source": [
    "df.isnull().sum() # hiç null değer yok"
   ]
  },
  {
   "cell_type": "code",
   "execution_count": 213,
   "id": "469391b1",
   "metadata": {},
   "outputs": [
    {
     "name": "stdout",
     "output_type": "stream",
     "text": [
      "<class 'pandas.core.frame.DataFrame'>\n",
      "RangeIndex: 10668 entries, 0 to 10667\n",
      "Data columns (total 9 columns):\n",
      " #   Column        Non-Null Count  Dtype  \n",
      "---  ------        --------------  -----  \n",
      " 0   model         10668 non-null  object \n",
      " 1   year          10668 non-null  int64  \n",
      " 2   price         10668 non-null  int64  \n",
      " 3   transmission  10668 non-null  object \n",
      " 4   mileage       10668 non-null  int64  \n",
      " 5   fuelType      10668 non-null  object \n",
      " 6   tax           10668 non-null  int64  \n",
      " 7   mpg           10668 non-null  float64\n",
      " 8   engineSize    10668 non-null  float64\n",
      "dtypes: float64(2), int64(4), object(3)\n",
      "memory usage: 750.2+ KB\n"
     ]
    }
   ],
   "source": [
    "df.info()"
   ]
  },
  {
   "cell_type": "code",
   "execution_count": 214,
   "id": "f99616ea",
   "metadata": {},
   "outputs": [
    {
     "data": {
      "text/plain": [
       "<AxesSubplot:>"
      ]
     },
     "execution_count": 214,
     "metadata": {},
     "output_type": "execute_result"
    },
    {
     "data": {
      "image/png": "[encoded data removed]",
      "text/plain": [
       "<Figure size 432x288 with 2 Axes>"
      ]
     },
     "metadata": {
      "needs_background": "light"
     },
     "output_type": "display_data"
    }
   ],
   "source": [
    "sbn.heatmap(df.corr(),annot=True, cmap='Blues')"
   ]
  },
  {
   "cell_type": "code",
   "execution_count": 215,
   "id": "8f4c7725",
   "metadata": {},
   "outputs": [
    {
     "data": {
      "text/plain": [
       "mpg          -0.600334\n",
       "mileage      -0.535357\n",
       "tax           0.356157\n",
       "engineSize    0.591262\n",
       "year          0.592581\n",
       "price         1.000000\n",
       "Name: price, dtype: float64"
      ]
     },
     "execution_count": 215,
     "metadata": {},
     "output_type": "execute_result"
    }
   ],
   "source": [
    "df.corr()[\"price\"].sort_values()  # fiyat ile olan korelasyonlar, küçükten büyüğe sırala"
   ]
  },
  {
   "cell_type": "code",
   "execution_count": 216,
   "id": "007913e9",
   "metadata": {},
   "outputs": [
    {
     "name": "stderr",
     "output_type": "stream",
     "text": [
      "C:\\Users\\Onur\\.conda\\envs\\tensorflow\\lib\\site-packages\\seaborn\\distributions.py:2619: FutureWarning: `distplot` is a deprecated function and will be removed in a future version. Please adapt your code to use either `displot` (a figure-level function with similar flexibility) or `histplot` (an axes-level function for histograms).\n",
      "  warnings.warn(msg, FutureWarning)\n"
     ]
    },
    {
     "data": {
      "text/plain": [
       "<AxesSubplot:xlabel='price', ylabel='Density'>"
      ]
     },
     "execution_count": 216,
     "metadata": {},
     "output_type": "execute_result"
    },
    {
     "data": {
      "image/png": "[encoded data removed]",
      "text/plain": [
       "<Figure size 504x360 with 1 Axes>"
      ]
     },
     "metadata": {
      "needs_background": "light"
     },
     "output_type": "display_data"
    }
   ],
   "source": [
    "plt.figure(figsize=(7,5)) # grafiği büyütmek için \n",
    "sbn.distplot(df[\"price\"])"
   ]
  },
  {
   "cell_type": "code",
   "execution_count": 217,
   "id": "05f4cd41",
   "metadata": {},
   "outputs": [
    {
     "name": "stderr",
     "output_type": "stream",
     "text": [
      "C:\\Users\\Onur\\.conda\\envs\\tensorflow\\lib\\site-packages\\seaborn\\_decorators.py:36: FutureWarning: Pass the following variable as a keyword arg: x. From version 0.12, the only valid positional argument will be `data`, and passing other arguments without an explicit keyword will result in an error or misinterpretation.\n",
      "  warnings.warn(\n"
     ]
    },
    {
     "data": {
      "text/plain": [
       "<AxesSubplot:xlabel='year', ylabel='count'>"
      ]
     },
     "execution_count": 217,
     "metadata": {},
     "output_type": "execute_result"
    },
    {
     "data": {
      "image/png": "[encoded data removed]",
      "text/plain": [
       "<Figure size 432x288 with 1 Axes>"
      ]
     },
     "metadata": {
      "needs_background": "light"
     },
     "output_type": "display_data"
    }
   ],
   "source": [
    "sbn.countplot(df[\"year\"])"
   ]
  },
  {
   "cell_type": "code",
   "execution_count": 218,
   "id": "49558ca7",
   "metadata": {},
   "outputs": [
    {
     "data": {
      "text/plain": [
       "<AxesSubplot:xlabel='price', ylabel='Count'>"
      ]
     },
     "execution_count": 218,
     "metadata": {},
     "output_type": "execute_result"
    },
    {
     "data": {
      "image/png": "[encoded data removed]",
      "text/plain": [
       "<Figure size 432x288 with 1 Axes>"
      ]
     },
     "metadata": {
      "needs_background": "light"
     },
     "output_type": "display_data"
    }
   ],
   "source": [
    "sbn.histplot(df[\"price\"])"
   ]
  },
  {
   "cell_type": "code",
   "execution_count": 219,
   "id": "e3ba014f",
   "metadata": {},
   "outputs": [
    {
     "data": {
      "text/html": [
       "<div>\n",
       "<style scoped>\n",
       "    .dataframe tbody tr th:only-of-type {\n",
       "        vertical-align: middle;\n",
       "    }\n",
       "\n",
       "    .dataframe tbody tr th {\n",
       "        vertical-align: top;\n",
       "    }\n",
       "\n",
       "    .dataframe thead th {\n",
       "        text-align: right;\n",
       "    }\n",
       "</style>\n",
       "<table border=\"1\" class=\"dataframe\">\n",
       "  <thead>\n",
       "    <tr style=\"text-align: right;\">\n",
       "      <th></th>\n",
       "      <th>year</th>\n",
       "      <th>price</th>\n",
       "      <th>mileage</th>\n",
       "      <th>tax</th>\n",
       "      <th>mpg</th>\n",
       "      <th>engineSize</th>\n",
       "    </tr>\n",
       "  </thead>\n",
       "  <tbody>\n",
       "    <tr>\n",
       "      <th>count</th>\n",
       "      <td>10668.000000</td>\n",
       "      <td>10668.000000</td>\n",
       "      <td>10668.000000</td>\n",
       "      <td>10668.000000</td>\n",
       "      <td>10668.000000</td>\n",
       "      <td>10668.000000</td>\n",
       "    </tr>\n",
       "    <tr>\n",
       "      <th>mean</th>\n",
       "      <td>2017.100675</td>\n",
       "      <td>22896.685039</td>\n",
       "      <td>24827.244001</td>\n",
       "      <td>126.011436</td>\n",
       "      <td>50.770022</td>\n",
       "      <td>1.930709</td>\n",
       "    </tr>\n",
       "    <tr>\n",
       "      <th>std</th>\n",
       "      <td>2.167494</td>\n",
       "      <td>11714.841888</td>\n",
       "      <td>23505.257205</td>\n",
       "      <td>67.170294</td>\n",
       "      <td>12.949782</td>\n",
       "      <td>0.602957</td>\n",
       "    </tr>\n",
       "    <tr>\n",
       "      <th>min</th>\n",
       "      <td>1997.000000</td>\n",
       "      <td>1490.000000</td>\n",
       "      <td>1.000000</td>\n",
       "      <td>0.000000</td>\n",
       "      <td>18.900000</td>\n",
       "      <td>0.000000</td>\n",
       "    </tr>\n",
       "    <tr>\n",
       "      <th>25%</th>\n",
       "      <td>2016.000000</td>\n",
       "      <td>15130.750000</td>\n",
       "      <td>5968.750000</td>\n",
       "      <td>125.000000</td>\n",
       "      <td>40.900000</td>\n",
       "      <td>1.500000</td>\n",
       "    </tr>\n",
       "    <tr>\n",
       "      <th>50%</th>\n",
       "      <td>2017.000000</td>\n",
       "      <td>20200.000000</td>\n",
       "      <td>19000.000000</td>\n",
       "      <td>145.000000</td>\n",
       "      <td>49.600000</td>\n",
       "      <td>2.000000</td>\n",
       "    </tr>\n",
       "    <tr>\n",
       "      <th>75%</th>\n",
       "      <td>2019.000000</td>\n",
       "      <td>27990.000000</td>\n",
       "      <td>36464.500000</td>\n",
       "      <td>145.000000</td>\n",
       "      <td>58.900000</td>\n",
       "      <td>2.000000</td>\n",
       "    </tr>\n",
       "    <tr>\n",
       "      <th>max</th>\n",
       "      <td>2020.000000</td>\n",
       "      <td>145000.000000</td>\n",
       "      <td>323000.000000</td>\n",
       "      <td>580.000000</td>\n",
       "      <td>188.300000</td>\n",
       "      <td>6.300000</td>\n",
       "    </tr>\n",
       "  </tbody>\n",
       "</table>\n",
       "</div>"
      ],
      "text/plain": [
       "               year          price        mileage           tax           mpg  \\\n",
       "count  10668.000000   10668.000000   10668.000000  10668.000000  10668.000000   \n",
       "mean    2017.100675   22896.685039   24827.244001    126.011436     50.770022   \n",
       "std        2.167494   11714.841888   23505.257205     67.170294     12.949782   \n",
       "min     1997.000000    1490.000000       1.000000      0.000000     18.900000   \n",
       "25%     2016.000000   15130.750000    5968.750000    125.000000     40.900000   \n",
       "50%     2017.000000   20200.000000   19000.000000    145.000000     49.600000   \n",
       "75%     2019.000000   27990.000000   36464.500000    145.000000     58.900000   \n",
       "max     2020.000000  145000.000000  323000.000000    580.000000    188.300000   \n",
       "\n",
       "         engineSize  \n",
       "count  10668.000000  \n",
       "mean       1.930709  \n",
       "std        0.602957  \n",
       "min        0.000000  \n",
       "25%        1.500000  \n",
       "50%        2.000000  \n",
       "75%        2.000000  \n",
       "max        6.300000  "
      ]
     },
     "execution_count": 219,
     "metadata": {},
     "output_type": "execute_result"
    }
   ],
   "source": [
    "df.describe()"
   ]
  },
  {
   "cell_type": "code",
   "execution_count": 220,
   "id": "0a045062",
   "metadata": {},
   "outputs": [],
   "source": [
    "#df[df.mileage != 323000.000000].groupby(\"year\").mean()[\"price\"]"
   ]
  },
  {
   "cell_type": "code",
   "execution_count": 221,
   "id": "b53cca81",
   "metadata": {},
   "outputs": [],
   "source": [
    "#df=df[df.mileage != 323000.000000] # 1 tane yüksek km vardı onu attık"
   ]
  },
  {
   "cell_type": "code",
   "execution_count": 222,
   "id": "976f1f36",
   "metadata": {},
   "outputs": [
    {
     "data": {
      "text/html": [
       "<div>\n",
       "<style scoped>\n",
       "    .dataframe tbody tr th:only-of-type {\n",
       "        vertical-align: middle;\n",
       "    }\n",
       "\n",
       "    .dataframe tbody tr th {\n",
       "        vertical-align: top;\n",
       "    }\n",
       "\n",
       "    .dataframe thead th {\n",
       "        text-align: right;\n",
       "    }\n",
       "</style>\n",
       "<table border=\"1\" class=\"dataframe\">\n",
       "  <thead>\n",
       "    <tr style=\"text-align: right;\">\n",
       "      <th></th>\n",
       "      <th>year</th>\n",
       "      <th>price</th>\n",
       "      <th>mileage</th>\n",
       "      <th>tax</th>\n",
       "      <th>mpg</th>\n",
       "      <th>engineSize</th>\n",
       "    </tr>\n",
       "  </thead>\n",
       "  <tbody>\n",
       "    <tr>\n",
       "      <th>count</th>\n",
       "      <td>10668.000000</td>\n",
       "      <td>10668.000000</td>\n",
       "      <td>10668.000000</td>\n",
       "      <td>10668.000000</td>\n",
       "      <td>10668.000000</td>\n",
       "      <td>10668.000000</td>\n",
       "    </tr>\n",
       "    <tr>\n",
       "      <th>mean</th>\n",
       "      <td>2017.100675</td>\n",
       "      <td>22896.685039</td>\n",
       "      <td>24827.244001</td>\n",
       "      <td>126.011436</td>\n",
       "      <td>50.770022</td>\n",
       "      <td>1.930709</td>\n",
       "    </tr>\n",
       "    <tr>\n",
       "      <th>std</th>\n",
       "      <td>2.167494</td>\n",
       "      <td>11714.841888</td>\n",
       "      <td>23505.257205</td>\n",
       "      <td>67.170294</td>\n",
       "      <td>12.949782</td>\n",
       "      <td>0.602957</td>\n",
       "    </tr>\n",
       "    <tr>\n",
       "      <th>min</th>\n",
       "      <td>1997.000000</td>\n",
       "      <td>1490.000000</td>\n",
       "      <td>1.000000</td>\n",
       "      <td>0.000000</td>\n",
       "      <td>18.900000</td>\n",
       "      <td>0.000000</td>\n",
       "    </tr>\n",
       "    <tr>\n",
       "      <th>25%</th>\n",
       "      <td>2016.000000</td>\n",
       "      <td>15130.750000</td>\n",
       "      <td>5968.750000</td>\n",
       "      <td>125.000000</td>\n",
       "      <td>40.900000</td>\n",
       "      <td>1.500000</td>\n",
       "    </tr>\n",
       "    <tr>\n",
       "      <th>50%</th>\n",
       "      <td>2017.000000</td>\n",
       "      <td>20200.000000</td>\n",
       "      <td>19000.000000</td>\n",
       "      <td>145.000000</td>\n",
       "      <td>49.600000</td>\n",
       "      <td>2.000000</td>\n",
       "    </tr>\n",
       "    <tr>\n",
       "      <th>75%</th>\n",
       "      <td>2019.000000</td>\n",
       "      <td>27990.000000</td>\n",
       "      <td>36464.500000</td>\n",
       "      <td>145.000000</td>\n",
       "      <td>58.900000</td>\n",
       "      <td>2.000000</td>\n",
       "    </tr>\n",
       "    <tr>\n",
       "      <th>max</th>\n",
       "      <td>2020.000000</td>\n",
       "      <td>145000.000000</td>\n",
       "      <td>323000.000000</td>\n",
       "      <td>580.000000</td>\n",
       "      <td>188.300000</td>\n",
       "      <td>6.300000</td>\n",
       "    </tr>\n",
       "  </tbody>\n",
       "</table>\n",
       "</div>"
      ],
      "text/plain": [
       "               year          price        mileage           tax           mpg  \\\n",
       "count  10668.000000   10668.000000   10668.000000  10668.000000  10668.000000   \n",
       "mean    2017.100675   22896.685039   24827.244001    126.011436     50.770022   \n",
       "std        2.167494   11714.841888   23505.257205     67.170294     12.949782   \n",
       "min     1997.000000    1490.000000       1.000000      0.000000     18.900000   \n",
       "25%     2016.000000   15130.750000    5968.750000    125.000000     40.900000   \n",
       "50%     2017.000000   20200.000000   19000.000000    145.000000     49.600000   \n",
       "75%     2019.000000   27990.000000   36464.500000    145.000000     58.900000   \n",
       "max     2020.000000  145000.000000  323000.000000    580.000000    188.300000   \n",
       "\n",
       "         engineSize  \n",
       "count  10668.000000  \n",
       "mean       1.930709  \n",
       "std        0.602957  \n",
       "min        0.000000  \n",
       "25%        1.500000  \n",
       "50%        2.000000  \n",
       "75%        2.000000  \n",
       "max        6.300000  "
      ]
     },
     "execution_count": 222,
     "metadata": {},
     "output_type": "execute_result"
    }
   ],
   "source": [
    "df.describe()"
   ]
  },
  {
   "cell_type": "code",
   "execution_count": 223,
   "id": "ec672d4e",
   "metadata": {},
   "outputs": [
    {
     "data": {
      "text/plain": [
       "<AxesSubplot:xlabel='mileage', ylabel='price'>"
      ]
     },
     "execution_count": 223,
     "metadata": {},
     "output_type": "execute_result"
    },
    {
     "data": {
      "image/png": "[encoded data removed]",
      "text/plain": [
       "<Figure size 432x288 with 1 Axes>"
      ]
     },
     "metadata": {
      "needs_background": "light"
     },
     "output_type": "display_data"
    }
   ],
   "source": [
    "sbn.scatterplot(x= \"mileage\",y =\"price\",data=df) # yeni grafik daha düzgün"
   ]
  },
  {
   "cell_type": "code",
   "execution_count": 224,
   "id": "a60cfa19",
   "metadata": {},
   "outputs": [],
   "source": [
    "df=df.drop(\"transmission\",axis=1)"
   ]
  },
  {
   "cell_type": "code",
   "execution_count": 225,
   "id": "2e214cb7",
   "metadata": {},
   "outputs": [],
   "source": [
    "df=df.drop(\"model\",axis=1)\n",
    "df=df.drop(\"fuelType\",axis=1)"
   ]
  },
  {
   "cell_type": "code",
   "execution_count": 226,
   "id": "f4789f43",
   "metadata": {},
   "outputs": [],
   "source": [
    "y=df[\"price\"].values # y yi numpy dizisine ekledik\n",
    "x=df.drop(\"price\",axis=1).values\n"
   ]
  },
  {
   "cell_type": "code",
   "execution_count": 227,
   "id": "22c4fb56",
   "metadata": {
    "scrolled": true
   },
   "outputs": [
    {
     "data": {
      "text/plain": [
       "array([[2.0170e+03, 1.5735e+04, 1.5000e+02, 5.5400e+01, 1.4000e+00],\n",
       "       [2.0160e+03, 3.6203e+04, 2.0000e+01, 6.4200e+01, 2.0000e+00],\n",
       "       [2.0160e+03, 2.9946e+04, 3.0000e+01, 5.5400e+01, 1.4000e+00],\n",
       "       ...,\n",
       "       [2.0200e+03, 6.0900e+02, 1.5000e+02, 4.9600e+01, 1.0000e+00],\n",
       "       [2.0170e+03, 8.6460e+03, 1.5000e+02, 4.7900e+01, 1.4000e+00],\n",
       "       [2.0160e+03, 1.1855e+04, 1.5000e+02, 4.7900e+01, 1.4000e+00]])"
      ]
     },
     "execution_count": 227,
     "metadata": {},
     "output_type": "execute_result"
    }
   ],
   "source": [
    "x"
   ]
  },
  {
   "cell_type": "code",
   "execution_count": 228,
   "id": "8ff34307",
   "metadata": {},
   "outputs": [
    {
     "data": {
      "text/plain": [
       "array([12500, 16500, 11000, ..., 17199, 19499, 15999], dtype=int64)"
      ]
     },
     "execution_count": 228,
     "metadata": {},
     "output_type": "execute_result"
    }
   ],
   "source": [
    "y"
   ]
  },
  {
   "cell_type": "code",
   "execution_count": 229,
   "id": "3b2a9857",
   "metadata": {},
   "outputs": [],
   "source": [
    "from sklearn.model_selection import train_test_split"
   ]
  },
  {
   "cell_type": "code",
   "execution_count": 230,
   "id": "a496661f",
   "metadata": {},
   "outputs": [],
   "source": [
    "x_train,x_test,y_train,y_test= train_test_split(x,y,test_size=0.3,random_state=12)"
   ]
  },
  {
   "cell_type": "code",
   "execution_count": 231,
   "id": "16e95614",
   "metadata": {},
   "outputs": [
    {
     "data": {
      "text/plain": [
       "7467"
      ]
     },
     "execution_count": 231,
     "metadata": {},
     "output_type": "execute_result"
    }
   ],
   "source": [
    "len(x_train)"
   ]
  },
  {
   "cell_type": "code",
   "execution_count": 232,
   "id": "c5c4a245",
   "metadata": {},
   "outputs": [
    {
     "data": {
      "text/plain": [
       "3201"
      ]
     },
     "execution_count": 232,
     "metadata": {},
     "output_type": "execute_result"
    }
   ],
   "source": [
    "len(x_test)"
   ]
  },
  {
   "cell_type": "code",
   "execution_count": 233,
   "id": "b4a4bf63",
   "metadata": {},
   "outputs": [
    {
     "data": {
      "text/plain": [
       "10668"
      ]
     },
     "execution_count": 233,
     "metadata": {},
     "output_type": "execute_result"
    }
   ],
   "source": [
    "len(df)"
   ]
  },
  {
   "cell_type": "code",
   "execution_count": 234,
   "id": "ca9953cd",
   "metadata": {},
   "outputs": [],
   "source": [
    "from sklearn.preprocessing import MinMaxScaler"
   ]
  },
  {
   "cell_type": "code",
   "execution_count": 235,
   "id": "9238e0cf",
   "metadata": {},
   "outputs": [],
   "source": [
    "scaler=MinMaxScaler()"
   ]
  },
  {
   "cell_type": "code",
   "execution_count": 236,
   "id": "bea60cbb",
   "metadata": {},
   "outputs": [],
   "source": [
    "x_train=scaler.fit_transform(x_train) # x değerleri skayl ediliyor"
   ]
  },
  {
   "cell_type": "code",
   "execution_count": 237,
   "id": "74d94c82",
   "metadata": {},
   "outputs": [],
   "source": [
    "x_test=scaler.fit_transform(x_test)"
   ]
  },
  {
   "cell_type": "code",
   "execution_count": 238,
   "id": "764ecfe6",
   "metadata": {},
   "outputs": [],
   "source": [
    "from tensorflow.keras.models import Sequential\n",
    "from tensorflow.keras.layers import Dense"
   ]
  },
  {
   "cell_type": "code",
   "execution_count": 239,
   "id": "f76db99c",
   "metadata": {},
   "outputs": [
    {
     "data": {
      "text/plain": [
       "(7467, 5)"
      ]
     },
     "execution_count": 239,
     "metadata": {},
     "output_type": "execute_result"
    }
   ],
   "source": [
    "x_train.shape"
   ]
  },
  {
   "cell_type": "code",
   "execution_count": 240,
   "id": "b1bba1e3",
   "metadata": {},
   "outputs": [
    {
     "data": {
      "text/plain": [
       "(3201, 5)"
      ]
     },
     "execution_count": 240,
     "metadata": {},
     "output_type": "execute_result"
    }
   ],
   "source": [
    "x_test.shape"
   ]
  },
  {
   "cell_type": "code",
   "execution_count": 316,
   "id": "424a77f8",
   "metadata": {},
   "outputs": [
    {
     "data": {
      "text/plain": [
       "(3201,)"
      ]
     },
     "execution_count": 316,
     "metadata": {},
     "output_type": "execute_result"
    }
   ],
   "source": [
    "y_test.shape"
   ]
  },
  {
   "cell_type": "code",
   "execution_count": 317,
   "id": "232706fd",
   "metadata": {},
   "outputs": [
    {
     "data": {
      "text/plain": [
       "(7467,)"
      ]
     },
     "execution_count": 317,
     "metadata": {},
     "output_type": "execute_result"
    }
   ],
   "source": [
    "y_train.shape"
   ]
  },
  {
   "cell_type": "code",
   "execution_count": 318,
   "id": "00d4bc60",
   "metadata": {},
   "outputs": [],
   "source": [
    "model=Sequential()\n",
    "\n",
    "model.add(Dense(12,activation=\"relu\"))\n",
    "model.add(Dense(12,activation=\"relu\"))\n",
    "model.add(Dense(12,activation=\"relu\"))\n",
    "model.add(Dense(12,activation=\"relu\"))\n",
    "\n",
    "model.add(Dense(1))\n",
    "\n",
    "model.compile(optimizer=\"adam\",loss=\"mse\")\n",
    "\n"
   ]
  },
  {
   "cell_type": "code",
   "execution_count": 319,
   "id": "87bb8852",
   "metadata": {},
   "outputs": [
    {
     "name": "stdout",
     "output_type": "stream",
     "text": [
      "Epoch 1/300\n",
      "30/30 [==============================] - 0s 8ms/step - loss: 660944512.0000 - val_loss: 662693120.0000\n",
      "Epoch 2/300\n",
      "30/30 [==============================] - 0s 2ms/step - loss: 660908480.0000 - val_loss: 662636672.0000\n",
      "Epoch 3/300\n",
      "30/30 [==============================] - 0s 2ms/step - loss: 660814208.0000 - val_loss: 662483968.0000\n",
      "Epoch 4/300\n",
      "30/30 [==============================] - 0s 2ms/step - loss: 660563968.0000 - val_loss: 662091200.0000\n",
      "Epoch 5/300\n",
      "30/30 [==============================] - 0s 2ms/step - loss: 659962432.0000 - val_loss: 661180032.0000\n",
      "Epoch 6/300\n",
      "30/30 [==============================] - 0s 2ms/step - loss: 658640192.0000 - val_loss: 659243136.0000\n",
      "Epoch 7/300\n",
      "30/30 [==============================] - 0s 3ms/step - loss: 655951424.0000 - val_loss: 655454528.0000\n",
      "Epoch 8/300\n",
      "30/30 [==============================] - 0s 2ms/step - loss: 650869504.0000 - val_loss: 648424896.0000\n",
      "Epoch 9/300\n",
      "30/30 [==============================] - 0s 2ms/step - loss: 641814656.0000 - val_loss: 636412864.0000\n",
      "Epoch 10/300\n",
      "30/30 [==============================] - 0s 2ms/step - loss: 626933504.0000 - val_loss: 617197760.0000\n",
      "Epoch 11/300\n",
      "30/30 [==============================] - 0s 2ms/step - loss: 603935232.0000 - val_loss: 588435392.0000\n",
      "Epoch 12/300\n",
      "30/30 [==============================] - 0s 2ms/step - loss: 570683968.0000 - val_loss: 547899904.0000\n",
      "Epoch 13/300\n",
      "30/30 [==============================] - 0s 2ms/step - loss: 525282336.0000 - val_loss: 494490432.0000\n",
      "Epoch 14/300\n",
      "30/30 [==============================] - 0s 2ms/step - loss: 467288800.0000 - val_loss: 429053088.0000\n",
      "Epoch 15/300\n",
      "30/30 [==============================] - 0s 2ms/step - loss: 398848320.0000 - val_loss: 354584576.0000\n",
      "Epoch 16/300\n",
      "30/30 [==============================] - 0s 2ms/step - loss: 324784160.0000 - val_loss: 278933472.0000\n",
      "Epoch 17/300\n",
      "30/30 [==============================] - 0s 2ms/step - loss: 253273760.0000 - val_loss: 211625264.0000\n",
      "Epoch 18/300\n",
      "30/30 [==============================] - 0s 2ms/step - loss: 194172352.0000 - val_loss: 161630880.0000\n",
      "Epoch 19/300\n",
      "30/30 [==============================] - 0s 2ms/step - loss: 153771376.0000 - val_loss: 132802072.0000\n",
      "Epoch 20/300\n",
      "30/30 [==============================] - 0s 2ms/step - loss: 132398904.0000 - val_loss: 120081144.0000\n",
      "Epoch 21/300\n",
      "30/30 [==============================] - 0s 2ms/step - loss: 123774328.0000 - val_loss: 115734568.0000\n",
      "Epoch 22/300\n",
      "30/30 [==============================] - 0s 2ms/step - loss: 120651904.0000 - val_loss: 114092488.0000\n",
      "Epoch 23/300\n",
      "30/30 [==============================] - 0s 2ms/step - loss: 119370280.0000 - val_loss: 112953664.0000\n",
      "Epoch 24/300\n",
      "30/30 [==============================] - 0s 2ms/step - loss: 118497408.0000 - val_loss: 111873760.0000\n",
      "Epoch 25/300\n",
      "30/30 [==============================] - 0s 2ms/step - loss: 117712800.0000 - val_loss: 110837840.0000\n",
      "Epoch 26/300\n",
      "30/30 [==============================] - 0s 2ms/step - loss: 116970304.0000 - val_loss: 109819912.0000\n",
      "Epoch 27/300\n",
      "30/30 [==============================] - 0s 2ms/step - loss: 116249664.0000 - val_loss: 108828632.0000\n",
      "Epoch 28/300\n",
      "30/30 [==============================] - 0s 2ms/step - loss: 115538880.0000 - val_loss: 107873456.0000\n",
      "Epoch 29/300\n",
      "30/30 [==============================] - 0s 2ms/step - loss: 114838376.0000 - val_loss: 106941360.0000\n",
      "Epoch 30/300\n",
      "30/30 [==============================] - 0s 2ms/step - loss: 114170960.0000 - val_loss: 106024912.0000\n",
      "Epoch 31/300\n",
      "30/30 [==============================] - 0s 2ms/step - loss: 113486960.0000 - val_loss: 105113784.0000\n",
      "Epoch 32/300\n",
      "30/30 [==============================] - 0s 2ms/step - loss: 112810864.0000 - val_loss: 104237560.0000\n",
      "Epoch 33/300\n",
      "30/30 [==============================] - 0s 2ms/step - loss: 112153680.0000 - val_loss: 103359536.0000\n",
      "Epoch 34/300\n",
      "30/30 [==============================] - 0s 2ms/step - loss: 111493424.0000 - val_loss: 102494120.0000\n",
      "Epoch 35/300\n",
      "30/30 [==============================] - 0s 2ms/step - loss: 110834408.0000 - val_loss: 101643128.0000\n",
      "Epoch 36/300\n",
      "30/30 [==============================] - 0s 2ms/step - loss: 110191896.0000 - val_loss: 100791608.0000\n",
      "Epoch 37/300\n",
      "30/30 [==============================] - 0s 2ms/step - loss: 109543992.0000 - val_loss: 99952176.0000\n",
      "Epoch 38/300\n",
      "30/30 [==============================] - 0s 2ms/step - loss: 108895728.0000 - val_loss: 99121544.0000\n",
      "Epoch 39/300\n",
      "30/30 [==============================] - 0s 2ms/step - loss: 108243216.0000 - val_loss: 98282024.0000\n",
      "Epoch 40/300\n",
      "30/30 [==============================] - 0s 2ms/step - loss: 107601008.0000 - val_loss: 97460576.0000\n",
      "Epoch 41/300\n",
      "30/30 [==============================] - 0s 2ms/step - loss: 106949600.0000 - val_loss: 96641056.0000\n",
      "Epoch 42/300\n",
      "30/30 [==============================] - 0s 2ms/step - loss: 106318488.0000 - val_loss: 95826104.0000\n",
      "Epoch 43/300\n",
      "30/30 [==============================] - 0s 2ms/step - loss: 105662632.0000 - val_loss: 95004800.0000\n",
      "Epoch 44/300\n",
      "30/30 [==============================] - 0s 2ms/step - loss: 105018808.0000 - val_loss: 94180176.0000\n",
      "Epoch 45/300\n",
      "30/30 [==============================] - 0s 2ms/step - loss: 104373592.0000 - val_loss: 93360168.0000\n",
      "Epoch 46/300\n",
      "30/30 [==============================] - 0s 2ms/step - loss: 103720504.0000 - val_loss: 92545184.0000\n",
      "Epoch 47/300\n",
      "30/30 [==============================] - 0s 2ms/step - loss: 103074392.0000 - val_loss: 91731976.0000\n",
      "Epoch 48/300\n",
      "30/30 [==============================] - 0s 2ms/step - loss: 102414728.0000 - val_loss: 90934304.0000\n",
      "Epoch 49/300\n",
      "30/30 [==============================] - 0s 2ms/step - loss: 101769640.0000 - val_loss: 90098096.0000\n",
      "Epoch 50/300\n",
      "30/30 [==============================] - 0s 2ms/step - loss: 101112280.0000 - val_loss: 89291456.0000\n",
      "Epoch 51/300\n",
      "30/30 [==============================] - 0s 2ms/step - loss: 100449208.0000 - val_loss: 88455784.0000\n",
      "Epoch 52/300\n",
      "30/30 [==============================] - 0s 2ms/step - loss: 99804848.0000 - val_loss: 87656328.0000\n",
      "Epoch 53/300\n",
      "30/30 [==============================] - 0s 2ms/step - loss: 99108256.0000 - val_loss: 86812544.0000\n",
      "Epoch 54/300\n",
      "30/30 [==============================] - 0s 2ms/step - loss: 98431872.0000 - val_loss: 85982240.0000\n",
      "Epoch 55/300\n",
      "30/30 [==============================] - 0s 2ms/step - loss: 97752384.0000 - val_loss: 85159888.0000\n",
      "Epoch 56/300\n",
      "30/30 [==============================] - 0s 2ms/step - loss: 97069296.0000 - val_loss: 84320496.0000\n",
      "Epoch 57/300\n",
      "30/30 [==============================] - 0s 2ms/step - loss: 96369552.0000 - val_loss: 83500144.0000\n",
      "Epoch 58/300\n",
      "30/30 [==============================] - 0s 2ms/step - loss: 95674968.0000 - val_loss: 82648352.0000\n",
      "Epoch 59/300\n",
      "30/30 [==============================] - 0s 2ms/step - loss: 94970544.0000 - val_loss: 81800104.0000\n",
      "Epoch 60/300\n",
      "30/30 [==============================] - 0s 2ms/step - loss: 94264304.0000 - val_loss: 80935368.0000\n",
      "Epoch 61/300\n",
      "30/30 [==============================] - 0s 2ms/step - loss: 93547288.0000 - val_loss: 80086544.0000\n",
      "Epoch 62/300\n",
      "30/30 [==============================] - 0s 2ms/step - loss: 92813792.0000 - val_loss: 79234888.0000\n",
      "Epoch 63/300\n",
      "30/30 [==============================] - 0s 2ms/step - loss: 92103864.0000 - val_loss: 78382472.0000\n",
      "Epoch 64/300\n",
      "30/30 [==============================] - 0s 2ms/step - loss: 91344552.0000 - val_loss: 77474160.0000\n",
      "Epoch 65/300\n",
      "30/30 [==============================] - 0s 2ms/step - loss: 90591688.0000 - val_loss: 76573200.0000\n",
      "Epoch 66/300\n",
      "30/30 [==============================] - 0s 2ms/step - loss: 89829264.0000 - val_loss: 75704840.0000\n",
      "Epoch 67/300\n",
      "30/30 [==============================] - 0s 2ms/step - loss: 89054720.0000 - val_loss: 74765928.0000\n",
      "Epoch 68/300\n",
      "30/30 [==============================] - 0s 2ms/step - loss: 88275936.0000 - val_loss: 73884600.0000\n",
      "Epoch 69/300\n",
      "30/30 [==============================] - 0s 2ms/step - loss: 87471304.0000 - val_loss: 72958048.0000\n",
      "Epoch 70/300\n",
      "30/30 [==============================] - 0s 2ms/step - loss: 86694976.0000 - val_loss: 72029704.0000\n",
      "Epoch 71/300\n",
      "30/30 [==============================] - 0s 2ms/step - loss: 85849384.0000 - val_loss: 71078480.0000\n",
      "Epoch 72/300\n"
     ]
    },
    {
     "name": "stdout",
     "output_type": "stream",
     "text": [
      "30/30 [==============================] - 0s 2ms/step - loss: 85006632.0000 - val_loss: 70163624.0000\n",
      "Epoch 73/300\n",
      "30/30 [==============================] - 0s 2ms/step - loss: 84163744.0000 - val_loss: 69212288.0000\n",
      "Epoch 74/300\n",
      "30/30 [==============================] - 0s 2ms/step - loss: 83309384.0000 - val_loss: 68231968.0000\n",
      "Epoch 75/300\n",
      "30/30 [==============================] - 0s 2ms/step - loss: 82422136.0000 - val_loss: 67249976.0000\n",
      "Epoch 76/300\n",
      "30/30 [==============================] - 0s 2ms/step - loss: 81540952.0000 - val_loss: 66302876.0000\n",
      "Epoch 77/300\n",
      "30/30 [==============================] - 0s 2ms/step - loss: 80652968.0000 - val_loss: 65259052.0000\n",
      "Epoch 78/300\n",
      "30/30 [==============================] - 0s 2ms/step - loss: 79711448.0000 - val_loss: 64269148.0000\n",
      "Epoch 79/300\n",
      "30/30 [==============================] - 0s 2ms/step - loss: 78762392.0000 - val_loss: 63244380.0000\n",
      "Epoch 80/300\n",
      "30/30 [==============================] - 0s 2ms/step - loss: 77813136.0000 - val_loss: 62214936.0000\n",
      "Epoch 81/300\n",
      "30/30 [==============================] - 0s 2ms/step - loss: 76836344.0000 - val_loss: 61208064.0000\n",
      "Epoch 82/300\n",
      "30/30 [==============================] - 0s 2ms/step - loss: 75862512.0000 - val_loss: 60137268.0000\n",
      "Epoch 83/300\n",
      "30/30 [==============================] - 0s 2ms/step - loss: 74827936.0000 - val_loss: 59136296.0000\n",
      "Epoch 84/300\n",
      "30/30 [==============================] - 0s 2ms/step - loss: 73779096.0000 - val_loss: 58061844.0000\n",
      "Epoch 85/300\n",
      "30/30 [==============================] - 0s 2ms/step - loss: 72730128.0000 - val_loss: 57011200.0000\n",
      "Epoch 86/300\n",
      "30/30 [==============================] - 0s 2ms/step - loss: 71662272.0000 - val_loss: 55953960.0000\n",
      "Epoch 87/300\n",
      "30/30 [==============================] - 0s 2ms/step - loss: 70546784.0000 - val_loss: 54868660.0000\n",
      "Epoch 88/300\n",
      "30/30 [==============================] - 0s 2ms/step - loss: 69488920.0000 - val_loss: 53812232.0000\n",
      "Epoch 89/300\n",
      "30/30 [==============================] - 0s 2ms/step - loss: 68305496.0000 - val_loss: 52761792.0000\n",
      "Epoch 90/300\n",
      "30/30 [==============================] - 0s 2ms/step - loss: 67169888.0000 - val_loss: 51705248.0000\n",
      "Epoch 91/300\n",
      "30/30 [==============================] - 0s 2ms/step - loss: 66014812.0000 - val_loss: 50654928.0000\n",
      "Epoch 92/300\n",
      "30/30 [==============================] - 0s 2ms/step - loss: 64823780.0000 - val_loss: 49619084.0000\n",
      "Epoch 93/300\n",
      "30/30 [==============================] - 0s 2ms/step - loss: 63641364.0000 - val_loss: 48552132.0000\n",
      "Epoch 94/300\n",
      "30/30 [==============================] - 0s 2ms/step - loss: 62422268.0000 - val_loss: 47583020.0000\n",
      "Epoch 95/300\n",
      "30/30 [==============================] - 0s 2ms/step - loss: 61211824.0000 - val_loss: 46573136.0000\n",
      "Epoch 96/300\n",
      "30/30 [==============================] - 0s 2ms/step - loss: 59990960.0000 - val_loss: 45578620.0000\n",
      "Epoch 97/300\n",
      "30/30 [==============================] - 0s 2ms/step - loss: 58775740.0000 - val_loss: 44639940.0000\n",
      "Epoch 98/300\n",
      "30/30 [==============================] - 0s 2ms/step - loss: 57560304.0000 - val_loss: 43676672.0000\n",
      "Epoch 99/300\n",
      "30/30 [==============================] - 0s 2ms/step - loss: 56285708.0000 - val_loss: 42833952.0000\n",
      "Epoch 100/300\n",
      "30/30 [==============================] - 0s 2ms/step - loss: 55046064.0000 - val_loss: 41942340.0000\n",
      "Epoch 101/300\n",
      "30/30 [==============================] - 0s 2ms/step - loss: 53844012.0000 - val_loss: 41095680.0000\n",
      "Epoch 102/300\n",
      "30/30 [==============================] - 0s 2ms/step - loss: 52618764.0000 - val_loss: 40297984.0000\n",
      "Epoch 103/300\n",
      "30/30 [==============================] - 0s 2ms/step - loss: 51406636.0000 - val_loss: 39552504.0000\n",
      "Epoch 104/300\n",
      "30/30 [==============================] - 0s 2ms/step - loss: 50211568.0000 - val_loss: 38853304.0000\n",
      "Epoch 105/300\n",
      "30/30 [==============================] - 0s 2ms/step - loss: 49060396.0000 - val_loss: 38213636.0000\n",
      "Epoch 106/300\n",
      "30/30 [==============================] - 0s 2ms/step - loss: 47904592.0000 - val_loss: 37593368.0000\n",
      "Epoch 107/300\n",
      "30/30 [==============================] - 0s 2ms/step - loss: 46759980.0000 - val_loss: 37017164.0000\n",
      "Epoch 108/300\n",
      "30/30 [==============================] - 0s 2ms/step - loss: 45632356.0000 - val_loss: 36520756.0000\n",
      "Epoch 109/300\n",
      "30/30 [==============================] - 0s 2ms/step - loss: 44544568.0000 - val_loss: 36044000.0000\n",
      "Epoch 110/300\n",
      "30/30 [==============================] - 0s 2ms/step - loss: 43486736.0000 - val_loss: 35633248.0000\n",
      "Epoch 111/300\n",
      "30/30 [==============================] - 0s 2ms/step - loss: 42458640.0000 - val_loss: 35272880.0000\n",
      "Epoch 112/300\n",
      "30/30 [==============================] - 0s 2ms/step - loss: 41468340.0000 - val_loss: 35021388.0000\n",
      "Epoch 113/300\n",
      "30/30 [==============================] - 0s 2ms/step - loss: 40558728.0000 - val_loss: 34659112.0000\n",
      "Epoch 114/300\n",
      "30/30 [==============================] - 0s 2ms/step - loss: 39630516.0000 - val_loss: 34476804.0000\n",
      "Epoch 115/300\n",
      "30/30 [==============================] - 0s 2ms/step - loss: 38709680.0000 - val_loss: 34286276.0000\n",
      "Epoch 116/300\n",
      "30/30 [==============================] - 0s 2ms/step - loss: 37863276.0000 - val_loss: 34088212.0000\n",
      "Epoch 117/300\n",
      "30/30 [==============================] - 0s 2ms/step - loss: 37081184.0000 - val_loss: 33960216.0000\n",
      "Epoch 118/300\n",
      "30/30 [==============================] - 0s 2ms/step - loss: 36302376.0000 - val_loss: 33843124.0000\n",
      "Epoch 119/300\n",
      "30/30 [==============================] - 0s 2ms/step - loss: 35567160.0000 - val_loss: 33690076.0000\n",
      "Epoch 120/300\n",
      "30/30 [==============================] - 0s 2ms/step - loss: 34876432.0000 - val_loss: 33714668.0000\n",
      "Epoch 121/300\n",
      "30/30 [==============================] - 0s 2ms/step - loss: 34216692.0000 - val_loss: 33751260.0000\n",
      "Epoch 122/300\n",
      "30/30 [==============================] - 0s 2ms/step - loss: 33549904.0000 - val_loss: 33527650.0000\n",
      "Epoch 123/300\n",
      "30/30 [==============================] - 0s 2ms/step - loss: 32937776.0000 - val_loss: 33726224.0000\n",
      "Epoch 124/300\n",
      "30/30 [==============================] - 0s 2ms/step - loss: 32383748.0000 - val_loss: 33546838.0000\n",
      "Epoch 125/300\n",
      "30/30 [==============================] - 0s 2ms/step - loss: 31811974.0000 - val_loss: 33642884.0000\n",
      "Epoch 126/300\n",
      "30/30 [==============================] - 0s 2ms/step - loss: 31266094.0000 - val_loss: 33868288.0000\n",
      "Epoch 127/300\n",
      "30/30 [==============================] - 0s 2ms/step - loss: 30774144.0000 - val_loss: 33572872.0000\n",
      "Epoch 128/300\n",
      "30/30 [==============================] - 0s 2ms/step - loss: 30289182.0000 - val_loss: 33634728.0000\n",
      "Epoch 129/300\n",
      "30/30 [==============================] - 0s 2ms/step - loss: 29844638.0000 - val_loss: 33624064.0000\n",
      "Epoch 130/300\n",
      "30/30 [==============================] - 0s 2ms/step - loss: 29377840.0000 - val_loss: 33809212.0000\n",
      "Epoch 131/300\n",
      "30/30 [==============================] - 0s 2ms/step - loss: 28982038.0000 - val_loss: 33840888.0000\n",
      "Epoch 132/300\n",
      "30/30 [==============================] - 0s 2ms/step - loss: 28554280.0000 - val_loss: 33734272.0000\n",
      "Epoch 133/300\n",
      "30/30 [==============================] - 0s 2ms/step - loss: 28134528.0000 - val_loss: 33750528.0000\n",
      "Epoch 134/300\n",
      "30/30 [==============================] - 0s 2ms/step - loss: 27770932.0000 - val_loss: 33609892.0000\n",
      "Epoch 135/300\n",
      "30/30 [==============================] - 0s 2ms/step - loss: 27397882.0000 - val_loss: 33670880.0000\n",
      "Epoch 136/300\n",
      "30/30 [==============================] - 0s 2ms/step - loss: 27015050.0000 - val_loss: 33796364.0000\n",
      "Epoch 137/300\n",
      "30/30 [==============================] - 0s 2ms/step - loss: 26681240.0000 - val_loss: 33911508.0000\n",
      "Epoch 138/300\n",
      "30/30 [==============================] - 0s 2ms/step - loss: 26304236.0000 - val_loss: 33583232.0000\n",
      "Epoch 139/300\n",
      "30/30 [==============================] - 0s 2ms/step - loss: 25947684.0000 - val_loss: 33713872.0000\n",
      "Epoch 140/300\n",
      "30/30 [==============================] - 0s 2ms/step - loss: 25578788.0000 - val_loss: 33500504.0000\n",
      "Epoch 141/300\n",
      "30/30 [==============================] - 0s 2ms/step - loss: 25231058.0000 - val_loss: 33180220.0000\n",
      "Epoch 142/300\n",
      "30/30 [==============================] - 0s 2ms/step - loss: 24920000.0000 - val_loss: 32900874.0000\n",
      "Epoch 143/300\n"
     ]
    },
    {
     "name": "stdout",
     "output_type": "stream",
     "text": [
      "30/30 [==============================] - 0s 2ms/step - loss: 24563100.0000 - val_loss: 33211850.0000\n",
      "Epoch 144/300\n",
      "30/30 [==============================] - 0s 2ms/step - loss: 24266562.0000 - val_loss: 33312332.0000\n",
      "Epoch 145/300\n",
      "30/30 [==============================] - 0s 2ms/step - loss: 23931234.0000 - val_loss: 32385320.0000\n",
      "Epoch 146/300\n",
      "30/30 [==============================] - 0s 2ms/step - loss: 23618132.0000 - val_loss: 32840546.0000\n",
      "Epoch 147/300\n",
      "30/30 [==============================] - 0s 2ms/step - loss: 23330394.0000 - val_loss: 31989318.0000\n",
      "Epoch 148/300\n",
      "30/30 [==============================] - 0s 2ms/step - loss: 23107358.0000 - val_loss: 32365110.0000\n",
      "Epoch 149/300\n",
      "30/30 [==============================] - 0s 2ms/step - loss: 22816074.0000 - val_loss: 32426270.0000\n",
      "Epoch 150/300\n",
      "30/30 [==============================] - 0s 2ms/step - loss: 22594438.0000 - val_loss: 31981872.0000\n",
      "Epoch 151/300\n",
      "30/30 [==============================] - 0s 2ms/step - loss: 22368930.0000 - val_loss: 32429372.0000\n",
      "Epoch 152/300\n",
      "30/30 [==============================] - 0s 2ms/step - loss: 22118700.0000 - val_loss: 32256664.0000\n",
      "Epoch 153/300\n",
      "30/30 [==============================] - 0s 2ms/step - loss: 21919798.0000 - val_loss: 32453154.0000\n",
      "Epoch 154/300\n",
      "30/30 [==============================] - 0s 2ms/step - loss: 21732654.0000 - val_loss: 32167332.0000\n",
      "Epoch 155/300\n",
      "30/30 [==============================] - 0s 2ms/step - loss: 21537098.0000 - val_loss: 32381056.0000\n",
      "Epoch 156/300\n",
      "30/30 [==============================] - 0s 2ms/step - loss: 21361196.0000 - val_loss: 32265686.0000\n",
      "Epoch 157/300\n",
      "30/30 [==============================] - 0s 2ms/step - loss: 21171840.0000 - val_loss: 32472106.0000\n",
      "Epoch 158/300\n",
      "30/30 [==============================] - 0s 2ms/step - loss: 20995592.0000 - val_loss: 32460642.0000\n",
      "Epoch 159/300\n",
      "30/30 [==============================] - 0s 2ms/step - loss: 20803726.0000 - val_loss: 32619060.0000\n",
      "Epoch 160/300\n",
      "30/30 [==============================] - 0s 2ms/step - loss: 20661472.0000 - val_loss: 32580874.0000\n",
      "Epoch 161/300\n",
      "30/30 [==============================] - 0s 2ms/step - loss: 20499864.0000 - val_loss: 33045662.0000\n",
      "Epoch 162/300\n",
      "30/30 [==============================] - 0s 2ms/step - loss: 20366448.0000 - val_loss: 32904572.0000\n",
      "Epoch 163/300\n",
      "30/30 [==============================] - 0s 2ms/step - loss: 20258492.0000 - val_loss: 33347264.0000\n",
      "Epoch 164/300\n",
      "30/30 [==============================] - 0s 2ms/step - loss: 20119462.0000 - val_loss: 33041784.0000\n",
      "Epoch 165/300\n",
      "30/30 [==============================] - 0s 2ms/step - loss: 20051736.0000 - val_loss: 32912218.0000\n",
      "Epoch 166/300\n",
      "30/30 [==============================] - 0s 2ms/step - loss: 19941222.0000 - val_loss: 34022720.0000\n",
      "Epoch 167/300\n",
      "30/30 [==============================] - 0s 2ms/step - loss: 19816168.0000 - val_loss: 33205606.0000\n",
      "Epoch 168/300\n",
      "30/30 [==============================] - 0s 2ms/step - loss: 19720240.0000 - val_loss: 33668652.0000\n",
      "Epoch 169/300\n",
      "30/30 [==============================] - 0s 2ms/step - loss: 19610764.0000 - val_loss: 33911880.0000\n",
      "Epoch 170/300\n",
      "30/30 [==============================] - 0s 2ms/step - loss: 19534312.0000 - val_loss: 33032910.0000\n",
      "Epoch 171/300\n",
      "30/30 [==============================] - 0s 2ms/step - loss: 19434842.0000 - val_loss: 33840600.0000\n",
      "Epoch 172/300\n",
      "30/30 [==============================] - 0s 2ms/step - loss: 19362206.0000 - val_loss: 33376586.0000\n",
      "Epoch 173/300\n",
      "30/30 [==============================] - 0s 2ms/step - loss: 19238784.0000 - val_loss: 33748208.0000\n",
      "Epoch 174/300\n",
      "30/30 [==============================] - 0s 2ms/step - loss: 19139118.0000 - val_loss: 33086698.0000\n",
      "Epoch 175/300\n",
      "30/30 [==============================] - 0s 2ms/step - loss: 19028964.0000 - val_loss: 33900248.0000\n",
      "Epoch 176/300\n",
      "30/30 [==============================] - 0s 2ms/step - loss: 18941178.0000 - val_loss: 33440818.0000\n",
      "Epoch 177/300\n",
      "30/30 [==============================] - 0s 2ms/step - loss: 18804564.0000 - val_loss: 33079112.0000\n",
      "Epoch 178/300\n",
      "30/30 [==============================] - 0s 2ms/step - loss: 18698066.0000 - val_loss: 33118908.0000\n",
      "Epoch 179/300\n",
      "30/30 [==============================] - 0s 2ms/step - loss: 18594488.0000 - val_loss: 32725950.0000\n",
      "Epoch 180/300\n",
      "30/30 [==============================] - 0s 2ms/step - loss: 18476118.0000 - val_loss: 33214982.0000\n",
      "Epoch 181/300\n",
      "30/30 [==============================] - 0s 2ms/step - loss: 18395234.0000 - val_loss: 33889780.0000\n",
      "Epoch 182/300\n",
      "30/30 [==============================] - 0s 2ms/step - loss: 18313942.0000 - val_loss: 33593132.0000\n",
      "Epoch 183/300\n",
      "30/30 [==============================] - 0s 2ms/step - loss: 18253802.0000 - val_loss: 33990132.0000\n",
      "Epoch 184/300\n",
      "30/30 [==============================] - 0s 2ms/step - loss: 18194416.0000 - val_loss: 33413448.0000\n",
      "Epoch 185/300\n",
      "30/30 [==============================] - 0s 2ms/step - loss: 18123742.0000 - val_loss: 33881860.0000\n",
      "Epoch 186/300\n",
      "30/30 [==============================] - 0s 2ms/step - loss: 18070116.0000 - val_loss: 33812392.0000\n",
      "Epoch 187/300\n",
      "30/30 [==============================] - 0s 2ms/step - loss: 18014058.0000 - val_loss: 33760564.0000\n",
      "Epoch 188/300\n",
      "30/30 [==============================] - 0s 2ms/step - loss: 17953344.0000 - val_loss: 33875816.0000\n",
      "Epoch 189/300\n",
      "30/30 [==============================] - 0s 2ms/step - loss: 17906076.0000 - val_loss: 34007916.0000\n",
      "Epoch 190/300\n",
      "30/30 [==============================] - 0s 2ms/step - loss: 17846088.0000 - val_loss: 33696568.0000\n",
      "Epoch 191/300\n",
      "30/30 [==============================] - 0s 2ms/step - loss: 17813302.0000 - val_loss: 34529064.0000\n",
      "Epoch 192/300\n",
      "30/30 [==============================] - 0s 2ms/step - loss: 17754256.0000 - val_loss: 33664536.0000\n",
      "Epoch 193/300\n",
      "30/30 [==============================] - 0s 2ms/step - loss: 17697560.0000 - val_loss: 34264128.0000\n",
      "Epoch 194/300\n",
      "30/30 [==============================] - 0s 2ms/step - loss: 17644944.0000 - val_loss: 34128348.0000\n",
      "Epoch 195/300\n",
      "30/30 [==============================] - 0s 2ms/step - loss: 17592144.0000 - val_loss: 34545528.0000\n",
      "Epoch 196/300\n",
      "30/30 [==============================] - 0s 2ms/step - loss: 17564748.0000 - val_loss: 33833860.0000\n",
      "Epoch 197/300\n",
      "30/30 [==============================] - 0s 2ms/step - loss: 17516000.0000 - val_loss: 33774880.0000\n",
      "Epoch 198/300\n",
      "30/30 [==============================] - 0s 2ms/step - loss: 17471046.0000 - val_loss: 33358042.0000\n",
      "Epoch 199/300\n",
      "30/30 [==============================] - 0s 2ms/step - loss: 17400184.0000 - val_loss: 34205624.0000\n",
      "Epoch 200/300\n",
      "30/30 [==============================] - 0s 2ms/step - loss: 17345520.0000 - val_loss: 33786436.0000\n",
      "Epoch 201/300\n",
      "30/30 [==============================] - 0s 2ms/step - loss: 17300648.0000 - val_loss: 34590388.0000\n",
      "Epoch 202/300\n",
      "30/30 [==============================] - 0s 2ms/step - loss: 17267752.0000 - val_loss: 34207400.0000\n",
      "Epoch 203/300\n",
      "30/30 [==============================] - 0s 2ms/step - loss: 17221018.0000 - val_loss: 33784508.0000\n",
      "Epoch 204/300\n",
      "30/30 [==============================] - 0s 2ms/step - loss: 17194966.0000 - val_loss: 33556684.0000\n",
      "Epoch 205/300\n",
      "30/30 [==============================] - 0s 2ms/step - loss: 17153324.0000 - val_loss: 34028100.0000\n",
      "Epoch 206/300\n",
      "30/30 [==============================] - 0s 2ms/step - loss: 17119204.0000 - val_loss: 33976960.0000\n",
      "Epoch 207/300\n",
      "30/30 [==============================] - 0s 2ms/step - loss: 17093982.0000 - val_loss: 34566280.0000\n",
      "Epoch 208/300\n",
      "30/30 [==============================] - 0s 2ms/step - loss: 17090542.0000 - val_loss: 35050356.0000\n",
      "Epoch 209/300\n",
      "30/30 [==============================] - 0s 2ms/step - loss: 17035582.0000 - val_loss: 34137852.0000\n",
      "Epoch 210/300\n",
      "30/30 [==============================] - 0s 2ms/step - loss: 16988990.0000 - val_loss: 33143540.0000\n",
      "Epoch 211/300\n",
      "30/30 [==============================] - 0s 2ms/step - loss: 16951572.0000 - val_loss: 34867604.0000\n",
      "Epoch 212/300\n",
      "30/30 [==============================] - 0s 2ms/step - loss: 16902630.0000 - val_loss: 33319114.0000\n",
      "Epoch 213/300\n",
      "30/30 [==============================] - 0s 2ms/step - loss: 16887926.0000 - val_loss: 33593976.0000\n",
      "Epoch 214/300\n"
     ]
    },
    {
     "name": "stdout",
     "output_type": "stream",
     "text": [
      "30/30 [==============================] - 0s 2ms/step - loss: 16846516.0000 - val_loss: 33511706.0000\n",
      "Epoch 215/300\n",
      "30/30 [==============================] - 0s 2ms/step - loss: 16807480.0000 - val_loss: 33894032.0000\n",
      "Epoch 216/300\n",
      "30/30 [==============================] - 0s 2ms/step - loss: 16808880.0000 - val_loss: 33601876.0000\n",
      "Epoch 217/300\n",
      "30/30 [==============================] - 0s 2ms/step - loss: 16755966.0000 - val_loss: 33376640.0000\n",
      "Epoch 218/300\n",
      "30/30 [==============================] - 0s 2ms/step - loss: 16728877.0000 - val_loss: 33098168.0000\n",
      "Epoch 219/300\n",
      "30/30 [==============================] - 0s 2ms/step - loss: 16688652.0000 - val_loss: 33987712.0000\n",
      "Epoch 220/300\n",
      "30/30 [==============================] - 0s 2ms/step - loss: 16648028.0000 - val_loss: 33311190.0000\n",
      "Epoch 221/300\n",
      "30/30 [==============================] - 0s 2ms/step - loss: 16627320.0000 - val_loss: 33074552.0000\n",
      "Epoch 222/300\n",
      "30/30 [==============================] - 0s 2ms/step - loss: 16601226.0000 - val_loss: 33508950.0000\n",
      "Epoch 223/300\n",
      "30/30 [==============================] - 0s 2ms/step - loss: 16592366.0000 - val_loss: 33020918.0000\n",
      "Epoch 224/300\n",
      "30/30 [==============================] - 0s 2ms/step - loss: 16565670.0000 - val_loss: 33186582.0000\n",
      "Epoch 225/300\n",
      "30/30 [==============================] - 0s 2ms/step - loss: 16518605.0000 - val_loss: 34241588.0000\n",
      "Epoch 226/300\n",
      "30/30 [==============================] - 0s 2ms/step - loss: 16502871.0000 - val_loss: 33855004.0000\n",
      "Epoch 227/300\n",
      "30/30 [==============================] - 0s 2ms/step - loss: 16457525.0000 - val_loss: 33660288.0000\n",
      "Epoch 228/300\n",
      "30/30 [==============================] - 0s 2ms/step - loss: 16440634.0000 - val_loss: 33023840.0000\n",
      "Epoch 229/300\n",
      "30/30 [==============================] - 0s 2ms/step - loss: 16420886.0000 - val_loss: 32981818.0000\n",
      "Epoch 230/300\n",
      "30/30 [==============================] - 0s 2ms/step - loss: 16368957.0000 - val_loss: 33388880.0000\n",
      "Epoch 231/300\n",
      "30/30 [==============================] - 0s 2ms/step - loss: 16342595.0000 - val_loss: 33548430.0000\n",
      "Epoch 232/300\n",
      "30/30 [==============================] - 0s 2ms/step - loss: 16306260.0000 - val_loss: 33688952.0000\n",
      "Epoch 233/300\n",
      "30/30 [==============================] - 0s 2ms/step - loss: 16275898.0000 - val_loss: 33323444.0000\n",
      "Epoch 234/300\n",
      "30/30 [==============================] - 0s 2ms/step - loss: 16252710.0000 - val_loss: 33438482.0000\n",
      "Epoch 235/300\n",
      "30/30 [==============================] - 0s 2ms/step - loss: 16231029.0000 - val_loss: 33299206.0000\n",
      "Epoch 236/300\n",
      "30/30 [==============================] - 0s 2ms/step - loss: 16194487.0000 - val_loss: 33428208.0000\n",
      "Epoch 237/300\n",
      "30/30 [==============================] - 0s 2ms/step - loss: 16205671.0000 - val_loss: 34502208.0000\n",
      "Epoch 238/300\n",
      "30/30 [==============================] - 0s 2ms/step - loss: 16157689.0000 - val_loss: 33457178.0000\n",
      "Epoch 239/300\n",
      "30/30 [==============================] - 0s 2ms/step - loss: 16151233.0000 - val_loss: 33537960.0000\n",
      "Epoch 240/300\n",
      "30/30 [==============================] - 0s 2ms/step - loss: 16115608.0000 - val_loss: 33819500.0000\n",
      "Epoch 241/300\n",
      "30/30 [==============================] - 0s 2ms/step - loss: 16110673.0000 - val_loss: 34193752.0000\n",
      "Epoch 242/300\n",
      "30/30 [==============================] - 0s 2ms/step - loss: 16055463.0000 - val_loss: 33803484.0000\n",
      "Epoch 243/300\n",
      "30/30 [==============================] - 0s 2ms/step - loss: 16084130.0000 - val_loss: 33307776.0000\n",
      "Epoch 244/300\n",
      "30/30 [==============================] - 0s 2ms/step - loss: 16024215.0000 - val_loss: 32637320.0000\n",
      "Epoch 245/300\n",
      "30/30 [==============================] - 0s 2ms/step - loss: 16017707.0000 - val_loss: 33105556.0000\n",
      "Epoch 246/300\n",
      "30/30 [==============================] - 0s 2ms/step - loss: 15963674.0000 - val_loss: 33396360.0000\n",
      "Epoch 247/300\n",
      "30/30 [==============================] - 0s 2ms/step - loss: 15946967.0000 - val_loss: 33542572.0000\n",
      "Epoch 248/300\n",
      "30/30 [==============================] - 0s 2ms/step - loss: 15954584.0000 - val_loss: 33376878.0000\n",
      "Epoch 249/300\n",
      "30/30 [==============================] - 0s 2ms/step - loss: 15900335.0000 - val_loss: 33602656.0000\n",
      "Epoch 250/300\n",
      "30/30 [==============================] - 0s 2ms/step - loss: 15881049.0000 - val_loss: 33765544.0000\n",
      "Epoch 251/300\n",
      "30/30 [==============================] - 0s 2ms/step - loss: 15851196.0000 - val_loss: 32975430.0000\n",
      "Epoch 252/300\n",
      "30/30 [==============================] - 0s 2ms/step - loss: 15860417.0000 - val_loss: 33512676.0000\n",
      "Epoch 253/300\n",
      "30/30 [==============================] - 0s 2ms/step - loss: 15820029.0000 - val_loss: 32925852.0000\n",
      "Epoch 254/300\n",
      "30/30 [==============================] - 0s 2ms/step - loss: 15795308.0000 - val_loss: 33288828.0000\n",
      "Epoch 255/300\n",
      "30/30 [==============================] - 0s 2ms/step - loss: 15806294.0000 - val_loss: 33230432.0000\n",
      "Epoch 256/300\n",
      "30/30 [==============================] - 0s 2ms/step - loss: 15760008.0000 - val_loss: 33120336.0000\n",
      "Epoch 257/300\n",
      "30/30 [==============================] - 0s 2ms/step - loss: 15737913.0000 - val_loss: 33088424.0000\n",
      "Epoch 258/300\n",
      "30/30 [==============================] - 0s 2ms/step - loss: 15720857.0000 - val_loss: 33423266.0000\n",
      "Epoch 259/300\n",
      "30/30 [==============================] - 0s 2ms/step - loss: 15701330.0000 - val_loss: 33518686.0000\n",
      "Epoch 260/300\n",
      "30/30 [==============================] - 0s 2ms/step - loss: 15689370.0000 - val_loss: 33290094.0000\n",
      "Epoch 261/300\n",
      "30/30 [==============================] - 0s 2ms/step - loss: 15655819.0000 - val_loss: 33566272.0000\n",
      "Epoch 262/300\n",
      "30/30 [==============================] - 0s 2ms/step - loss: 15634242.0000 - val_loss: 33717784.0000\n",
      "Epoch 263/300\n",
      "30/30 [==============================] - 0s 2ms/step - loss: 15628758.0000 - val_loss: 33789768.0000\n",
      "Epoch 264/300\n",
      "30/30 [==============================] - 0s 2ms/step - loss: 15606671.0000 - val_loss: 33834088.0000\n",
      "Epoch 265/300\n",
      "30/30 [==============================] - 0s 2ms/step - loss: 15583789.0000 - val_loss: 33172242.0000\n",
      "Epoch 266/300\n",
      "30/30 [==============================] - 0s 2ms/step - loss: 15554988.0000 - val_loss: 33152008.0000\n",
      "Epoch 267/300\n",
      "30/30 [==============================] - 0s 2ms/step - loss: 15530566.0000 - val_loss: 33046960.0000\n",
      "Epoch 268/300\n",
      "30/30 [==============================] - 0s 2ms/step - loss: 15522476.0000 - val_loss: 33124414.0000\n",
      "Epoch 269/300\n",
      "30/30 [==============================] - 0s 2ms/step - loss: 15505312.0000 - val_loss: 33635224.0000\n",
      "Epoch 270/300\n",
      "30/30 [==============================] - 0s 2ms/step - loss: 15479052.0000 - val_loss: 33354624.0000\n",
      "Epoch 271/300\n",
      "30/30 [==============================] - 0s 2ms/step - loss: 15469116.0000 - val_loss: 33532550.0000\n",
      "Epoch 272/300\n",
      "30/30 [==============================] - 0s 2ms/step - loss: 15440803.0000 - val_loss: 33564688.0000\n",
      "Epoch 273/300\n",
      "30/30 [==============================] - 0s 2ms/step - loss: 15420866.0000 - val_loss: 32918834.0000\n",
      "Epoch 274/300\n",
      "30/30 [==============================] - 0s 2ms/step - loss: 15416620.0000 - val_loss: 32848384.0000\n",
      "Epoch 275/300\n",
      "30/30 [==============================] - 0s 2ms/step - loss: 15399969.0000 - val_loss: 33097684.0000\n",
      "Epoch 276/300\n",
      "30/30 [==============================] - 0s 2ms/step - loss: 15383419.0000 - val_loss: 33290064.0000\n",
      "Epoch 277/300\n",
      "30/30 [==============================] - 0s 2ms/step - loss: 15336460.0000 - val_loss: 32517606.0000\n",
      "Epoch 278/300\n",
      "30/30 [==============================] - 0s 2ms/step - loss: 15355484.0000 - val_loss: 32848156.0000\n",
      "Epoch 279/300\n",
      "30/30 [==============================] - 0s 2ms/step - loss: 15324041.0000 - val_loss: 32811734.0000\n",
      "Epoch 280/300\n",
      "30/30 [==============================] - 0s 2ms/step - loss: 15329063.0000 - val_loss: 32506320.0000\n",
      "Epoch 281/300\n",
      "30/30 [==============================] - 0s 2ms/step - loss: 15298010.0000 - val_loss: 33239948.0000\n",
      "Epoch 282/300\n",
      "30/30 [==============================] - 0s 3ms/step - loss: 15282408.0000 - val_loss: 32919274.0000\n",
      "Epoch 283/300\n",
      "30/30 [==============================] - 0s 2ms/step - loss: 15299673.0000 - val_loss: 32856092.0000\n",
      "Epoch 284/300\n",
      "30/30 [==============================] - 0s 2ms/step - loss: 15254353.0000 - val_loss: 32797012.0000\n",
      "Epoch 285/300\n"
     ]
    },
    {
     "name": "stdout",
     "output_type": "stream",
     "text": [
      "30/30 [==============================] - 0s 2ms/step - loss: 15229899.0000 - val_loss: 33532938.0000\n",
      "Epoch 286/300\n",
      "30/30 [==============================] - 0s 3ms/step - loss: 15211983.0000 - val_loss: 32809778.0000\n",
      "Epoch 287/300\n",
      "30/30 [==============================] - 0s 3ms/step - loss: 15208193.0000 - val_loss: 33771484.0000\n",
      "Epoch 288/300\n",
      "30/30 [==============================] - 0s 2ms/step - loss: 15181207.0000 - val_loss: 33598404.0000\n",
      "Epoch 289/300\n",
      "30/30 [==============================] - 0s 2ms/step - loss: 15168100.0000 - val_loss: 33286998.0000\n",
      "Epoch 290/300\n",
      "30/30 [==============================] - 0s 2ms/step - loss: 15145588.0000 - val_loss: 33441116.0000\n",
      "Epoch 291/300\n",
      "30/30 [==============================] - 0s 2ms/step - loss: 15131808.0000 - val_loss: 33407880.0000\n",
      "Epoch 292/300\n",
      "30/30 [==============================] - 0s 2ms/step - loss: 15122224.0000 - val_loss: 33255618.0000\n",
      "Epoch 293/300\n",
      "30/30 [==============================] - 0s 2ms/step - loss: 15108339.0000 - val_loss: 33597224.0000\n",
      "Epoch 294/300\n",
      "30/30 [==============================] - 0s 3ms/step - loss: 15117842.0000 - val_loss: 33833540.0000\n",
      "Epoch 295/300\n",
      "30/30 [==============================] - 0s 2ms/step - loss: 15074090.0000 - val_loss: 33565064.0000\n",
      "Epoch 296/300\n",
      "30/30 [==============================] - 0s 2ms/step - loss: 15112870.0000 - val_loss: 33739228.0000\n",
      "Epoch 297/300\n",
      "30/30 [==============================] - 0s 2ms/step - loss: 15077830.0000 - val_loss: 33013246.0000\n",
      "Epoch 298/300\n",
      "30/30 [==============================] - 0s 2ms/step - loss: 15038532.0000 - val_loss: 32986138.0000\n",
      "Epoch 299/300\n",
      "30/30 [==============================] - 0s 2ms/step - loss: 15076225.0000 - val_loss: 32614162.0000\n",
      "Epoch 300/300\n",
      "30/30 [==============================] - 0s 2ms/step - loss: 15058180.0000 - val_loss: 33633436.0000\n"
     ]
    },
    {
     "data": {
      "text/plain": [
       "<tensorflow.python.keras.callbacks.History at 0x24754c8e610>"
      ]
     },
     "execution_count": 319,
     "metadata": {},
     "output_type": "execute_result"
    }
   ],
   "source": [
    "model.fit(x=x_train,y=y_train,validation_data=(x_test,y_test),batch_size=250,epochs=300)"
   ]
  },
  {
   "cell_type": "code",
   "execution_count": 320,
   "id": "34f70400",
   "metadata": {},
   "outputs": [],
   "source": [
    "lossData=pd.DataFrame(model.history.history)"
   ]
  },
  {
   "cell_type": "code",
   "execution_count": 321,
   "id": "b5a63980",
   "metadata": {},
   "outputs": [
    {
     "data": {
      "text/html": [
       "<div>\n",
       "<style scoped>\n",
       "    .dataframe tbody tr th:only-of-type {\n",
       "        vertical-align: middle;\n",
       "    }\n",
       "\n",
       "    .dataframe tbody tr th {\n",
       "        vertical-align: top;\n",
       "    }\n",
       "\n",
       "    .dataframe thead th {\n",
       "        text-align: right;\n",
       "    }\n",
       "</style>\n",
       "<table border=\"1\" class=\"dataframe\">\n",
       "  <thead>\n",
       "    <tr style=\"text-align: right;\">\n",
       "      <th></th>\n",
       "      <th>loss</th>\n",
       "      <th>val_loss</th>\n",
       "    </tr>\n",
       "  </thead>\n",
       "  <tbody>\n",
       "    <tr>\n",
       "      <th>0</th>\n",
       "      <td>660944512.0</td>\n",
       "      <td>662693120.0</td>\n",
       "    </tr>\n",
       "    <tr>\n",
       "      <th>1</th>\n",
       "      <td>660908480.0</td>\n",
       "      <td>662636672.0</td>\n",
       "    </tr>\n",
       "    <tr>\n",
       "      <th>2</th>\n",
       "      <td>660814208.0</td>\n",
       "      <td>662483968.0</td>\n",
       "    </tr>\n",
       "    <tr>\n",
       "      <th>3</th>\n",
       "      <td>660563968.0</td>\n",
       "      <td>662091200.0</td>\n",
       "    </tr>\n",
       "    <tr>\n",
       "      <th>4</th>\n",
       "      <td>659962432.0</td>\n",
       "      <td>661180032.0</td>\n",
       "    </tr>\n",
       "    <tr>\n",
       "      <th>...</th>\n",
       "      <td>...</td>\n",
       "      <td>...</td>\n",
       "    </tr>\n",
       "    <tr>\n",
       "      <th>295</th>\n",
       "      <td>15112870.0</td>\n",
       "      <td>33739228.0</td>\n",
       "    </tr>\n",
       "    <tr>\n",
       "      <th>296</th>\n",
       "      <td>15077830.0</td>\n",
       "      <td>33013246.0</td>\n",
       "    </tr>\n",
       "    <tr>\n",
       "      <th>297</th>\n",
       "      <td>15038532.0</td>\n",
       "      <td>32986138.0</td>\n",
       "    </tr>\n",
       "    <tr>\n",
       "      <th>298</th>\n",
       "      <td>15076225.0</td>\n",
       "      <td>32614162.0</td>\n",
       "    </tr>\n",
       "    <tr>\n",
       "      <th>299</th>\n",
       "      <td>15058180.0</td>\n",
       "      <td>33633436.0</td>\n",
       "    </tr>\n",
       "  </tbody>\n",
       "</table>\n",
       "<p>300 rows × 2 columns</p>\n",
       "</div>"
      ],
      "text/plain": [
       "            loss     val_loss\n",
       "0    660944512.0  662693120.0\n",
       "1    660908480.0  662636672.0\n",
       "2    660814208.0  662483968.0\n",
       "3    660563968.0  662091200.0\n",
       "4    659962432.0  661180032.0\n",
       "..           ...          ...\n",
       "295   15112870.0   33739228.0\n",
       "296   15077830.0   33013246.0\n",
       "297   15038532.0   32986138.0\n",
       "298   15076225.0   32614162.0\n",
       "299   15058180.0   33633436.0\n",
       "\n",
       "[300 rows x 2 columns]"
      ]
     },
     "execution_count": 321,
     "metadata": {},
     "output_type": "execute_result"
    }
   ],
   "source": [
    "lossData"
   ]
  },
  {
   "cell_type": "code",
   "execution_count": 322,
   "id": "85184c02",
   "metadata": {},
   "outputs": [
    {
     "data": {
      "text/plain": [
       "<AxesSubplot:>"
      ]
     },
     "execution_count": 322,
     "metadata": {},
     "output_type": "execute_result"
    },
    {
     "data": {
      "image/png": "[encoded data removed]",
      "text/plain": [
       "<Figure size 432x288 with 1 Axes>"
      ]
     },
     "metadata": {
      "needs_background": "light"
     },
     "output_type": "display_data"
    }
   ],
   "source": [
    "lossData.plot()"
   ]
  },
  {
   "cell_type": "code",
   "execution_count": 323,
   "id": "311021d7",
   "metadata": {
    "scrolled": true
   },
   "outputs": [],
   "source": [
    "from sklearn.metrics import mean_squared_error,mean_absolute_error  # hata kare ve mutlak hata"
   ]
  },
  {
   "cell_type": "code",
   "execution_count": 324,
   "id": "c4242d55",
   "metadata": {},
   "outputs": [],
   "source": [
    "predictionArray=model.predict(x_test)"
   ]
  },
  {
   "cell_type": "code",
   "execution_count": 325,
   "id": "79101ad2",
   "metadata": {},
   "outputs": [
    {
     "data": {
      "text/plain": [
       "array([[ 9250.587],\n",
       "       [11132.859],\n",
       "       [59240.715],\n",
       "       ...,\n",
       "       [33591.098],\n",
       "       [13947.448],\n",
       "       [34988.63 ]], dtype=float32)"
      ]
     },
     "execution_count": 325,
     "metadata": {},
     "output_type": "execute_result"
    }
   ],
   "source": [
    "predictionArray"
   ]
  },
  {
   "cell_type": "code",
   "execution_count": 326,
   "id": "63c06db3",
   "metadata": {},
   "outputs": [
    {
     "data": {
      "text/plain": [
       "4077.881547674616"
      ]
     },
     "execution_count": 326,
     "metadata": {},
     "output_type": "execute_result"
    }
   ],
   "source": [
    "mean_absolute_error(y_test,predictionArray)  \n",
    "# 4000 poundluk bir mutlak hata var bu da % 17 hata demek, geliştirilebilir bir model"
   ]
  },
  {
   "cell_type": "code",
   "execution_count": 327,
   "id": "587f550e",
   "metadata": {},
   "outputs": [
    {
     "data": {
      "text/html": [
       "<div>\n",
       "<style scoped>\n",
       "    .dataframe tbody tr th:only-of-type {\n",
       "        vertical-align: middle;\n",
       "    }\n",
       "\n",
       "    .dataframe tbody tr th {\n",
       "        vertical-align: top;\n",
       "    }\n",
       "\n",
       "    .dataframe thead th {\n",
       "        text-align: right;\n",
       "    }\n",
       "</style>\n",
       "<table border=\"1\" class=\"dataframe\">\n",
       "  <thead>\n",
       "    <tr style=\"text-align: right;\">\n",
       "      <th></th>\n",
       "      <th>year</th>\n",
       "      <th>price</th>\n",
       "      <th>mileage</th>\n",
       "      <th>tax</th>\n",
       "      <th>mpg</th>\n",
       "      <th>engineSize</th>\n",
       "    </tr>\n",
       "  </thead>\n",
       "  <tbody>\n",
       "    <tr>\n",
       "      <th>count</th>\n",
       "      <td>10668.000000</td>\n",
       "      <td>10668.000000</td>\n",
       "      <td>10668.000000</td>\n",
       "      <td>10668.000000</td>\n",
       "      <td>10668.000000</td>\n",
       "      <td>10668.000000</td>\n",
       "    </tr>\n",
       "    <tr>\n",
       "      <th>mean</th>\n",
       "      <td>2017.100675</td>\n",
       "      <td>22896.685039</td>\n",
       "      <td>24827.244001</td>\n",
       "      <td>126.011436</td>\n",
       "      <td>50.770022</td>\n",
       "      <td>1.930709</td>\n",
       "    </tr>\n",
       "    <tr>\n",
       "      <th>std</th>\n",
       "      <td>2.167494</td>\n",
       "      <td>11714.841888</td>\n",
       "      <td>23505.257205</td>\n",
       "      <td>67.170294</td>\n",
       "      <td>12.949782</td>\n",
       "      <td>0.602957</td>\n",
       "    </tr>\n",
       "    <tr>\n",
       "      <th>min</th>\n",
       "      <td>1997.000000</td>\n",
       "      <td>1490.000000</td>\n",
       "      <td>1.000000</td>\n",
       "      <td>0.000000</td>\n",
       "      <td>18.900000</td>\n",
       "      <td>0.000000</td>\n",
       "    </tr>\n",
       "    <tr>\n",
       "      <th>25%</th>\n",
       "      <td>2016.000000</td>\n",
       "      <td>15130.750000</td>\n",
       "      <td>5968.750000</td>\n",
       "      <td>125.000000</td>\n",
       "      <td>40.900000</td>\n",
       "      <td>1.500000</td>\n",
       "    </tr>\n",
       "    <tr>\n",
       "      <th>50%</th>\n",
       "      <td>2017.000000</td>\n",
       "      <td>20200.000000</td>\n",
       "      <td>19000.000000</td>\n",
       "      <td>145.000000</td>\n",
       "      <td>49.600000</td>\n",
       "      <td>2.000000</td>\n",
       "    </tr>\n",
       "    <tr>\n",
       "      <th>75%</th>\n",
       "      <td>2019.000000</td>\n",
       "      <td>27990.000000</td>\n",
       "      <td>36464.500000</td>\n",
       "      <td>145.000000</td>\n",
       "      <td>58.900000</td>\n",
       "      <td>2.000000</td>\n",
       "    </tr>\n",
       "    <tr>\n",
       "      <th>max</th>\n",
       "      <td>2020.000000</td>\n",
       "      <td>145000.000000</td>\n",
       "      <td>323000.000000</td>\n",
       "      <td>580.000000</td>\n",
       "      <td>188.300000</td>\n",
       "      <td>6.300000</td>\n",
       "    </tr>\n",
       "  </tbody>\n",
       "</table>\n",
       "</div>"
      ],
      "text/plain": [
       "               year          price        mileage           tax           mpg  \\\n",
       "count  10668.000000   10668.000000   10668.000000  10668.000000  10668.000000   \n",
       "mean    2017.100675   22896.685039   24827.244001    126.011436     50.770022   \n",
       "std        2.167494   11714.841888   23505.257205     67.170294     12.949782   \n",
       "min     1997.000000    1490.000000       1.000000      0.000000     18.900000   \n",
       "25%     2016.000000   15130.750000    5968.750000    125.000000     40.900000   \n",
       "50%     2017.000000   20200.000000   19000.000000    145.000000     49.600000   \n",
       "75%     2019.000000   27990.000000   36464.500000    145.000000     58.900000   \n",
       "max     2020.000000  145000.000000  323000.000000    580.000000    188.300000   \n",
       "\n",
       "         engineSize  \n",
       "count  10668.000000  \n",
       "mean       1.930709  \n",
       "std        0.602957  \n",
       "min        0.000000  \n",
       "25%        1.500000  \n",
       "50%        2.000000  \n",
       "75%        2.000000  \n",
       "max        6.300000  "
      ]
     },
     "execution_count": 327,
     "metadata": {},
     "output_type": "execute_result"
    }
   ],
   "source": [
    "df.describe()"
   ]
  },
  {
   "cell_type": "code",
   "execution_count": null,
   "id": "29fd4333",
   "metadata": {},
   "outputs": [],
   "source": []
  },
  {
   "cell_type": "code",
   "execution_count": null,
   "id": "962cefa2",
   "metadata": {},
   "outputs": [],
   "source": []
  },
  {
   "cell_type": "code",
   "execution_count": null,
   "id": "6c596101",
   "metadata": {},
   "outputs": [],
   "source": []
  }
 ],
 "metadata": {
  "kernelspec": {
   "display_name": "Python 3 (ipykernel)",
   "language": "python",
   "name": "python3"
  },
  "language_info": {
   "codemirror_mode": {
    "name": "ipython",
    "version": 3
   },
   "file_extension": ".py",
   "mimetype": "text/x-python",
   "name": "python",
   "nbconvert_exporter": "python",
   "pygments_lexer": "ipython3",
   "version": "3.8.11"
  }
 },
 "nbformat": 4,
 "nbformat_minor": 5
}
