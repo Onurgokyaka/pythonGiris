{
 "cells": [
  {
   "cell_type": "code",
   "execution_count": 93,
   "id": "2d8ca3f3",
   "metadata": {},
   "outputs": [],
   "source": [
    "import pandas as pd\n",
    "import numpy as np"
   ]
  },
  {
   "cell_type": "code",
   "execution_count": 94,
   "id": "3d626b32",
   "metadata": {},
   "outputs": [],
   "source": [
    "data= np.random.randn(4,3) # matris şeklinde 4*3 boyutunda numpy dizisi"
   ]
  },
  {
   "cell_type": "code",
   "execution_count": 95,
   "id": "26bc2722",
   "metadata": {},
   "outputs": [
    {
     "data": {
      "text/plain": [
       "array([[ 1.15994189,  0.9314962 , -0.18020234],\n",
       "       [ 0.58830864,  0.57925915,  0.15381036],\n",
       "       [-0.26899484, -0.12568482,  0.64325887],\n",
       "       [ 0.72691485,  1.143803  , -1.67787145]])"
      ]
     },
     "execution_count": 95,
     "metadata": {},
     "output_type": "execute_result"
    }
   ],
   "source": [
    "data"
   ]
  },
  {
   "cell_type": "code",
   "execution_count": 96,
   "id": "a971fb8e",
   "metadata": {},
   "outputs": [],
   "source": [
    "dataFrame= pd.DataFrame(data)"
   ]
  },
  {
   "cell_type": "code",
   "execution_count": 97,
   "id": "15518b5a",
   "metadata": {},
   "outputs": [
    {
     "data": {
      "text/html": [
       "<div>\n",
       "<style scoped>\n",
       "    .dataframe tbody tr th:only-of-type {\n",
       "        vertical-align: middle;\n",
       "    }\n",
       "\n",
       "    .dataframe tbody tr th {\n",
       "        vertical-align: top;\n",
       "    }\n",
       "\n",
       "    .dataframe thead th {\n",
       "        text-align: right;\n",
       "    }\n",
       "</style>\n",
       "<table border=\"1\" class=\"dataframe\">\n",
       "  <thead>\n",
       "    <tr style=\"text-align: right;\">\n",
       "      <th></th>\n",
       "      <th>0</th>\n",
       "      <th>1</th>\n",
       "      <th>2</th>\n",
       "    </tr>\n",
       "  </thead>\n",
       "  <tbody>\n",
       "    <tr>\n",
       "      <th>0</th>\n",
       "      <td>1.159942</td>\n",
       "      <td>0.931496</td>\n",
       "      <td>-0.180202</td>\n",
       "    </tr>\n",
       "    <tr>\n",
       "      <th>1</th>\n",
       "      <td>0.588309</td>\n",
       "      <td>0.579259</td>\n",
       "      <td>0.153810</td>\n",
       "    </tr>\n",
       "    <tr>\n",
       "      <th>2</th>\n",
       "      <td>-0.268995</td>\n",
       "      <td>-0.125685</td>\n",
       "      <td>0.643259</td>\n",
       "    </tr>\n",
       "    <tr>\n",
       "      <th>3</th>\n",
       "      <td>0.726915</td>\n",
       "      <td>1.143803</td>\n",
       "      <td>-1.677871</td>\n",
       "    </tr>\n",
       "  </tbody>\n",
       "</table>\n",
       "</div>"
      ],
      "text/plain": [
       "          0         1         2\n",
       "0  1.159942  0.931496 -0.180202\n",
       "1  0.588309  0.579259  0.153810\n",
       "2 -0.268995 -0.125685  0.643259\n",
       "3  0.726915  1.143803 -1.677871"
      ]
     },
     "execution_count": 97,
     "metadata": {},
     "output_type": "execute_result"
    }
   ],
   "source": [
    "dataFrame"
   ]
  },
  {
   "cell_type": "code",
   "execution_count": 98,
   "id": "34da329a",
   "metadata": {},
   "outputs": [
    {
     "data": {
      "text/plain": [
       "0    1.159942\n",
       "1    0.588309\n",
       "2   -0.268995\n",
       "3    0.726915\n",
       "Name: 0, dtype: float64"
      ]
     },
     "execution_count": 98,
     "metadata": {},
     "output_type": "execute_result"
    }
   ],
   "source": [
    "dataFrame[0] # sadece 1. sütun"
   ]
  },
  {
   "cell_type": "code",
   "execution_count": 99,
   "id": "8cc67144",
   "metadata": {},
   "outputs": [
    {
     "data": {
      "text/plain": [
       "pandas.core.series.Series"
      ]
     },
     "execution_count": 99,
     "metadata": {},
     "output_type": "execute_result"
    }
   ],
   "source": [
    "type(dataFrame[0]) "
   ]
  },
  {
   "cell_type": "code",
   "execution_count": 100,
   "id": "6a1c160e",
   "metadata": {},
   "outputs": [
    {
     "data": {
      "text/plain": [
       "0    0.588309\n",
       "1    0.579259\n",
       "2    0.153810\n",
       "Name: 1, dtype: float64"
      ]
     },
     "execution_count": 100,
     "metadata": {},
     "output_type": "execute_result"
    }
   ],
   "source": [
    "dataFrame.loc[1,] # sadece 1. satır"
   ]
  },
  {
   "cell_type": "code",
   "execution_count": 101,
   "id": "42559c8b",
   "metadata": {},
   "outputs": [],
   "source": [
    "yeniDataFrame=pd.DataFrame(data,\n",
    "                           index=[\"Onur\",\"Zeynep\",\"Egemen\",\"Ali\"],\n",
    "                           columns=[\"Maaş\",\"Yaş\",\"Çalışma Saati\"])"
   ]
  },
  {
   "cell_type": "code",
   "execution_count": 102,
   "id": "e0d53613",
   "metadata": {},
   "outputs": [
    {
     "data": {
      "text/html": [
       "<div>\n",
       "<style scoped>\n",
       "    .dataframe tbody tr th:only-of-type {\n",
       "        vertical-align: middle;\n",
       "    }\n",
       "\n",
       "    .dataframe tbody tr th {\n",
       "        vertical-align: top;\n",
       "    }\n",
       "\n",
       "    .dataframe thead th {\n",
       "        text-align: right;\n",
       "    }\n",
       "</style>\n",
       "<table border=\"1\" class=\"dataframe\">\n",
       "  <thead>\n",
       "    <tr style=\"text-align: right;\">\n",
       "      <th></th>\n",
       "      <th>Maaş</th>\n",
       "      <th>Yaş</th>\n",
       "      <th>Çalışma Saati</th>\n",
       "    </tr>\n",
       "  </thead>\n",
       "  <tbody>\n",
       "    <tr>\n",
       "      <th>Onur</th>\n",
       "      <td>1.159942</td>\n",
       "      <td>0.931496</td>\n",
       "      <td>-0.180202</td>\n",
       "    </tr>\n",
       "    <tr>\n",
       "      <th>Zeynep</th>\n",
       "      <td>0.588309</td>\n",
       "      <td>0.579259</td>\n",
       "      <td>0.153810</td>\n",
       "    </tr>\n",
       "    <tr>\n",
       "      <th>Egemen</th>\n",
       "      <td>-0.268995</td>\n",
       "      <td>-0.125685</td>\n",
       "      <td>0.643259</td>\n",
       "    </tr>\n",
       "    <tr>\n",
       "      <th>Ali</th>\n",
       "      <td>0.726915</td>\n",
       "      <td>1.143803</td>\n",
       "      <td>-1.677871</td>\n",
       "    </tr>\n",
       "  </tbody>\n",
       "</table>\n",
       "</div>"
      ],
      "text/plain": [
       "            Maaş       Yaş  Çalışma Saati\n",
       "Onur    1.159942  0.931496      -0.180202\n",
       "Zeynep  0.588309  0.579259       0.153810\n",
       "Egemen -0.268995 -0.125685       0.643259\n",
       "Ali     0.726915  1.143803      -1.677871"
      ]
     },
     "execution_count": 102,
     "metadata": {},
     "output_type": "execute_result"
    }
   ],
   "source": [
    "yeniDataFrame"
   ]
  },
  {
   "cell_type": "code",
   "execution_count": 103,
   "id": "fcf25d67",
   "metadata": {},
   "outputs": [
    {
     "data": {
      "text/plain": [
       "Onur      0.931496\n",
       "Zeynep    0.579259\n",
       "Egemen   -0.125685\n",
       "Ali       1.143803\n",
       "Name: Yaş, dtype: float64"
      ]
     },
     "execution_count": 103,
     "metadata": {},
     "output_type": "execute_result"
    }
   ],
   "source": [
    "yeniDataFrame[\"Yaş\"]"
   ]
  },
  {
   "cell_type": "code",
   "execution_count": 104,
   "id": "acd46da5",
   "metadata": {},
   "outputs": [
    {
     "data": {
      "text/plain": [
       "Onur     -0.180202\n",
       "Zeynep    0.153810\n",
       "Egemen    0.643259\n",
       "Ali      -1.677871\n",
       "Name: Çalışma Saati, dtype: float64"
      ]
     },
     "execution_count": 104,
     "metadata": {},
     "output_type": "execute_result"
    }
   ],
   "source": [
    "yeniDataFrame[\"Çalışma Saati\"]"
   ]
  },
  {
   "cell_type": "code",
   "execution_count": 105,
   "id": "f0fb5d2b",
   "metadata": {},
   "outputs": [
    {
     "data": {
      "text/html": [
       "<div>\n",
       "<style scoped>\n",
       "    .dataframe tbody tr th:only-of-type {\n",
       "        vertical-align: middle;\n",
       "    }\n",
       "\n",
       "    .dataframe tbody tr th {\n",
       "        vertical-align: top;\n",
       "    }\n",
       "\n",
       "    .dataframe thead th {\n",
       "        text-align: right;\n",
       "    }\n",
       "</style>\n",
       "<table border=\"1\" class=\"dataframe\">\n",
       "  <thead>\n",
       "    <tr style=\"text-align: right;\">\n",
       "      <th></th>\n",
       "      <th>Yaş</th>\n",
       "      <th>Maaş</th>\n",
       "    </tr>\n",
       "  </thead>\n",
       "  <tbody>\n",
       "    <tr>\n",
       "      <th>Onur</th>\n",
       "      <td>0.931496</td>\n",
       "      <td>1.159942</td>\n",
       "    </tr>\n",
       "    <tr>\n",
       "      <th>Zeynep</th>\n",
       "      <td>0.579259</td>\n",
       "      <td>0.588309</td>\n",
       "    </tr>\n",
       "    <tr>\n",
       "      <th>Egemen</th>\n",
       "      <td>-0.125685</td>\n",
       "      <td>-0.268995</td>\n",
       "    </tr>\n",
       "    <tr>\n",
       "      <th>Ali</th>\n",
       "      <td>1.143803</td>\n",
       "      <td>0.726915</td>\n",
       "    </tr>\n",
       "  </tbody>\n",
       "</table>\n",
       "</div>"
      ],
      "text/plain": [
       "             Yaş      Maaş\n",
       "Onur    0.931496  1.159942\n",
       "Zeynep  0.579259  0.588309\n",
       "Egemen -0.125685 -0.268995\n",
       "Ali     1.143803  0.726915"
      ]
     },
     "execution_count": 105,
     "metadata": {},
     "output_type": "execute_result"
    }
   ],
   "source": [
    "yeniDataFrame[[\"Yaş\",\"Maaş\"]]"
   ]
  },
  {
   "cell_type": "code",
   "execution_count": 106,
   "id": "c3ab9517",
   "metadata": {},
   "outputs": [
    {
     "data": {
      "text/plain": [
       "Maaş             1.159942\n",
       "Yaş              0.931496\n",
       "Çalışma Saati   -0.180202\n",
       "Name: Onur, dtype: float64"
      ]
     },
     "execution_count": 106,
     "metadata": {},
     "output_type": "execute_result"
    }
   ],
   "source": [
    "yeniDataFrame.loc[\"Onur\",] # sadece onurun özelliklerini almak için"
   ]
  },
  {
   "cell_type": "code",
   "execution_count": 107,
   "id": "d604f201",
   "metadata": {},
   "outputs": [
    {
     "data": {
      "text/plain": [
       "Maaş             0.726915\n",
       "Yaş              1.143803\n",
       "Çalışma Saati   -1.677871\n",
       "Name: Ali, dtype: float64"
      ]
     },
     "execution_count": 107,
     "metadata": {},
     "output_type": "execute_result"
    }
   ],
   "source": [
    "yeniDataFrame.loc[\"Ali\"]"
   ]
  },
  {
   "cell_type": "code",
   "execution_count": 108,
   "id": "a2dd86fc",
   "metadata": {},
   "outputs": [
    {
     "data": {
      "text/plain": [
       "Maaş             0.588309\n",
       "Yaş              0.579259\n",
       "Çalışma Saati    0.153810\n",
       "Name: Zeynep, dtype: float64"
      ]
     },
     "execution_count": 108,
     "metadata": {},
     "output_type": "execute_result"
    }
   ],
   "source": [
    "yeniDataFrame.iloc[1]"
   ]
  },
  {
   "cell_type": "code",
   "execution_count": 109,
   "id": "45143758",
   "metadata": {},
   "outputs": [
    {
     "data": {
      "text/html": [
       "<div>\n",
       "<style scoped>\n",
       "    .dataframe tbody tr th:only-of-type {\n",
       "        vertical-align: middle;\n",
       "    }\n",
       "\n",
       "    .dataframe tbody tr th {\n",
       "        vertical-align: top;\n",
       "    }\n",
       "\n",
       "    .dataframe thead th {\n",
       "        text-align: right;\n",
       "    }\n",
       "</style>\n",
       "<table border=\"1\" class=\"dataframe\">\n",
       "  <thead>\n",
       "    <tr style=\"text-align: right;\">\n",
       "      <th></th>\n",
       "      <th>Maaş</th>\n",
       "      <th>Yaş</th>\n",
       "      <th>Çalışma Saati</th>\n",
       "    </tr>\n",
       "  </thead>\n",
       "  <tbody>\n",
       "    <tr>\n",
       "      <th>Onur</th>\n",
       "      <td>1.159942</td>\n",
       "      <td>0.931496</td>\n",
       "      <td>-0.180202</td>\n",
       "    </tr>\n",
       "    <tr>\n",
       "      <th>Zeynep</th>\n",
       "      <td>0.588309</td>\n",
       "      <td>0.579259</td>\n",
       "      <td>0.153810</td>\n",
       "    </tr>\n",
       "    <tr>\n",
       "      <th>Egemen</th>\n",
       "      <td>-0.268995</td>\n",
       "      <td>-0.125685</td>\n",
       "      <td>0.643259</td>\n",
       "    </tr>\n",
       "    <tr>\n",
       "      <th>Ali</th>\n",
       "      <td>0.726915</td>\n",
       "      <td>1.143803</td>\n",
       "      <td>-1.677871</td>\n",
       "    </tr>\n",
       "  </tbody>\n",
       "</table>\n",
       "</div>"
      ],
      "text/plain": [
       "            Maaş       Yaş  Çalışma Saati\n",
       "Onur    1.159942  0.931496      -0.180202\n",
       "Zeynep  0.588309  0.579259       0.153810\n",
       "Egemen -0.268995 -0.125685       0.643259\n",
       "Ali     0.726915  1.143803      -1.677871"
      ]
     },
     "execution_count": 109,
     "metadata": {},
     "output_type": "execute_result"
    }
   ],
   "source": [
    "yeniDataFrame"
   ]
  },
  {
   "cell_type": "code",
   "execution_count": 110,
   "id": "0904b9d5",
   "metadata": {},
   "outputs": [],
   "source": [
    "yeniDataFrame[\"Cinsiyet\"]=[1,2,1,1]"
   ]
  },
  {
   "cell_type": "code",
   "execution_count": 111,
   "id": "54e3e6bf",
   "metadata": {},
   "outputs": [
    {
     "data": {
      "text/html": [
       "<div>\n",
       "<style scoped>\n",
       "    .dataframe tbody tr th:only-of-type {\n",
       "        vertical-align: middle;\n",
       "    }\n",
       "\n",
       "    .dataframe tbody tr th {\n",
       "        vertical-align: top;\n",
       "    }\n",
       "\n",
       "    .dataframe thead th {\n",
       "        text-align: right;\n",
       "    }\n",
       "</style>\n",
       "<table border=\"1\" class=\"dataframe\">\n",
       "  <thead>\n",
       "    <tr style=\"text-align: right;\">\n",
       "      <th></th>\n",
       "      <th>Maaş</th>\n",
       "      <th>Yaş</th>\n",
       "      <th>Çalışma Saati</th>\n",
       "      <th>Cinsiyet</th>\n",
       "    </tr>\n",
       "  </thead>\n",
       "  <tbody>\n",
       "    <tr>\n",
       "      <th>Onur</th>\n",
       "      <td>1.159942</td>\n",
       "      <td>0.931496</td>\n",
       "      <td>-0.180202</td>\n",
       "      <td>1</td>\n",
       "    </tr>\n",
       "    <tr>\n",
       "      <th>Zeynep</th>\n",
       "      <td>0.588309</td>\n",
       "      <td>0.579259</td>\n",
       "      <td>0.153810</td>\n",
       "      <td>2</td>\n",
       "    </tr>\n",
       "    <tr>\n",
       "      <th>Egemen</th>\n",
       "      <td>-0.268995</td>\n",
       "      <td>-0.125685</td>\n",
       "      <td>0.643259</td>\n",
       "      <td>1</td>\n",
       "    </tr>\n",
       "    <tr>\n",
       "      <th>Ali</th>\n",
       "      <td>0.726915</td>\n",
       "      <td>1.143803</td>\n",
       "      <td>-1.677871</td>\n",
       "      <td>1</td>\n",
       "    </tr>\n",
       "  </tbody>\n",
       "</table>\n",
       "</div>"
      ],
      "text/plain": [
       "            Maaş       Yaş  Çalışma Saati  Cinsiyet\n",
       "Onur    1.159942  0.931496      -0.180202         1\n",
       "Zeynep  0.588309  0.579259       0.153810         2\n",
       "Egemen -0.268995 -0.125685       0.643259         1\n",
       "Ali     0.726915  1.143803      -1.677871         1"
      ]
     },
     "execution_count": 111,
     "metadata": {},
     "output_type": "execute_result"
    }
   ],
   "source": [
    "yeniDataFrame"
   ]
  },
  {
   "cell_type": "code",
   "execution_count": 112,
   "id": "154b1bb0",
   "metadata": {},
   "outputs": [
    {
     "data": {
      "text/html": [
       "<div>\n",
       "<style scoped>\n",
       "    .dataframe tbody tr th:only-of-type {\n",
       "        vertical-align: middle;\n",
       "    }\n",
       "\n",
       "    .dataframe tbody tr th {\n",
       "        vertical-align: top;\n",
       "    }\n",
       "\n",
       "    .dataframe thead th {\n",
       "        text-align: right;\n",
       "    }\n",
       "</style>\n",
       "<table border=\"1\" class=\"dataframe\">\n",
       "  <thead>\n",
       "    <tr style=\"text-align: right;\">\n",
       "      <th></th>\n",
       "      <th>Maaş</th>\n",
       "      <th>Yaş</th>\n",
       "      <th>Çalışma Saati</th>\n",
       "    </tr>\n",
       "  </thead>\n",
       "  <tbody>\n",
       "    <tr>\n",
       "      <th>Onur</th>\n",
       "      <td>1.159942</td>\n",
       "      <td>0.931496</td>\n",
       "      <td>-0.180202</td>\n",
       "    </tr>\n",
       "    <tr>\n",
       "      <th>Zeynep</th>\n",
       "      <td>0.588309</td>\n",
       "      <td>0.579259</td>\n",
       "      <td>0.153810</td>\n",
       "    </tr>\n",
       "    <tr>\n",
       "      <th>Egemen</th>\n",
       "      <td>-0.268995</td>\n",
       "      <td>-0.125685</td>\n",
       "      <td>0.643259</td>\n",
       "    </tr>\n",
       "    <tr>\n",
       "      <th>Ali</th>\n",
       "      <td>0.726915</td>\n",
       "      <td>1.143803</td>\n",
       "      <td>-1.677871</td>\n",
       "    </tr>\n",
       "  </tbody>\n",
       "</table>\n",
       "</div>"
      ],
      "text/plain": [
       "            Maaş       Yaş  Çalışma Saati\n",
       "Onur    1.159942  0.931496      -0.180202\n",
       "Zeynep  0.588309  0.579259       0.153810\n",
       "Egemen -0.268995 -0.125685       0.643259\n",
       "Ali     0.726915  1.143803      -1.677871"
      ]
     },
     "execution_count": 112,
     "metadata": {},
     "output_type": "execute_result"
    }
   ],
   "source": [
    "yeniDataFrame.drop(\"Cinsiyet\",axis=1) # axis=1 eksen 1 yani sütun demek, axis=0 satır demek"
   ]
  },
  {
   "cell_type": "code",
   "execution_count": 113,
   "id": "8c2dffb2",
   "metadata": {},
   "outputs": [
    {
     "data": {
      "text/html": [
       "<div>\n",
       "<style scoped>\n",
       "    .dataframe tbody tr th:only-of-type {\n",
       "        vertical-align: middle;\n",
       "    }\n",
       "\n",
       "    .dataframe tbody tr th {\n",
       "        vertical-align: top;\n",
       "    }\n",
       "\n",
       "    .dataframe thead th {\n",
       "        text-align: right;\n",
       "    }\n",
       "</style>\n",
       "<table border=\"1\" class=\"dataframe\">\n",
       "  <thead>\n",
       "    <tr style=\"text-align: right;\">\n",
       "      <th></th>\n",
       "      <th>Maaş</th>\n",
       "      <th>Yaş</th>\n",
       "      <th>Çalışma Saati</th>\n",
       "      <th>Cinsiyet</th>\n",
       "    </tr>\n",
       "  </thead>\n",
       "  <tbody>\n",
       "    <tr>\n",
       "      <th>Onur</th>\n",
       "      <td>1.159942</td>\n",
       "      <td>0.931496</td>\n",
       "      <td>-0.180202</td>\n",
       "      <td>1</td>\n",
       "    </tr>\n",
       "    <tr>\n",
       "      <th>Zeynep</th>\n",
       "      <td>0.588309</td>\n",
       "      <td>0.579259</td>\n",
       "      <td>0.153810</td>\n",
       "      <td>2</td>\n",
       "    </tr>\n",
       "    <tr>\n",
       "      <th>Egemen</th>\n",
       "      <td>-0.268995</td>\n",
       "      <td>-0.125685</td>\n",
       "      <td>0.643259</td>\n",
       "      <td>1</td>\n",
       "    </tr>\n",
       "  </tbody>\n",
       "</table>\n",
       "</div>"
      ],
      "text/plain": [
       "            Maaş       Yaş  Çalışma Saati  Cinsiyet\n",
       "Onur    1.159942  0.931496      -0.180202         1\n",
       "Zeynep  0.588309  0.579259       0.153810         2\n",
       "Egemen -0.268995 -0.125685       0.643259         1"
      ]
     },
     "execution_count": 113,
     "metadata": {},
     "output_type": "execute_result"
    }
   ],
   "source": [
    "yeniDataFrame.drop([\"Ali\"]) # axis girilmezse otomatik 0 sayar"
   ]
  },
  {
   "cell_type": "code",
   "execution_count": 114,
   "id": "edeb84ac",
   "metadata": {},
   "outputs": [
    {
     "data": {
      "text/html": [
       "<div>\n",
       "<style scoped>\n",
       "    .dataframe tbody tr th:only-of-type {\n",
       "        vertical-align: middle;\n",
       "    }\n",
       "\n",
       "    .dataframe tbody tr th {\n",
       "        vertical-align: top;\n",
       "    }\n",
       "\n",
       "    .dataframe thead th {\n",
       "        text-align: right;\n",
       "    }\n",
       "</style>\n",
       "<table border=\"1\" class=\"dataframe\">\n",
       "  <thead>\n",
       "    <tr style=\"text-align: right;\">\n",
       "      <th></th>\n",
       "      <th>Maaş</th>\n",
       "      <th>Yaş</th>\n",
       "      <th>Çalışma Saati</th>\n",
       "      <th>Cinsiyet</th>\n",
       "    </tr>\n",
       "  </thead>\n",
       "  <tbody>\n",
       "    <tr>\n",
       "      <th>Onur</th>\n",
       "      <td>1.159942</td>\n",
       "      <td>0.931496</td>\n",
       "      <td>-0.180202</td>\n",
       "      <td>1</td>\n",
       "    </tr>\n",
       "    <tr>\n",
       "      <th>Zeynep</th>\n",
       "      <td>0.588309</td>\n",
       "      <td>0.579259</td>\n",
       "      <td>0.153810</td>\n",
       "      <td>2</td>\n",
       "    </tr>\n",
       "    <tr>\n",
       "      <th>Egemen</th>\n",
       "      <td>-0.268995</td>\n",
       "      <td>-0.125685</td>\n",
       "      <td>0.643259</td>\n",
       "      <td>1</td>\n",
       "    </tr>\n",
       "    <tr>\n",
       "      <th>Ali</th>\n",
       "      <td>0.726915</td>\n",
       "      <td>1.143803</td>\n",
       "      <td>-1.677871</td>\n",
       "      <td>1</td>\n",
       "    </tr>\n",
       "  </tbody>\n",
       "</table>\n",
       "</div>"
      ],
      "text/plain": [
       "            Maaş       Yaş  Çalışma Saati  Cinsiyet\n",
       "Onur    1.159942  0.931496      -0.180202         1\n",
       "Zeynep  0.588309  0.579259       0.153810         2\n",
       "Egemen -0.268995 -0.125685       0.643259         1\n",
       "Ali     0.726915  1.143803      -1.677871         1"
      ]
     },
     "execution_count": 114,
     "metadata": {},
     "output_type": "execute_result"
    }
   ],
   "source": [
    "yeniDataFrame"
   ]
  },
  {
   "cell_type": "code",
   "execution_count": 115,
   "id": "1e8fef90",
   "metadata": {},
   "outputs": [],
   "source": [
    "yeniDataFrame.drop(\"Cinsiyet\",axis=1,inplace=True) "
   ]
  },
  {
   "cell_type": "code",
   "execution_count": 116,
   "id": "a7689cb9",
   "metadata": {},
   "outputs": [
    {
     "data": {
      "text/html": [
       "<div>\n",
       "<style scoped>\n",
       "    .dataframe tbody tr th:only-of-type {\n",
       "        vertical-align: middle;\n",
       "    }\n",
       "\n",
       "    .dataframe tbody tr th {\n",
       "        vertical-align: top;\n",
       "    }\n",
       "\n",
       "    .dataframe thead th {\n",
       "        text-align: right;\n",
       "    }\n",
       "</style>\n",
       "<table border=\"1\" class=\"dataframe\">\n",
       "  <thead>\n",
       "    <tr style=\"text-align: right;\">\n",
       "      <th></th>\n",
       "      <th>Maaş</th>\n",
       "      <th>Yaş</th>\n",
       "      <th>Çalışma Saati</th>\n",
       "    </tr>\n",
       "  </thead>\n",
       "  <tbody>\n",
       "    <tr>\n",
       "      <th>Onur</th>\n",
       "      <td>1.159942</td>\n",
       "      <td>0.931496</td>\n",
       "      <td>-0.180202</td>\n",
       "    </tr>\n",
       "    <tr>\n",
       "      <th>Zeynep</th>\n",
       "      <td>0.588309</td>\n",
       "      <td>0.579259</td>\n",
       "      <td>0.153810</td>\n",
       "    </tr>\n",
       "    <tr>\n",
       "      <th>Egemen</th>\n",
       "      <td>-0.268995</td>\n",
       "      <td>-0.125685</td>\n",
       "      <td>0.643259</td>\n",
       "    </tr>\n",
       "    <tr>\n",
       "      <th>Ali</th>\n",
       "      <td>0.726915</td>\n",
       "      <td>1.143803</td>\n",
       "      <td>-1.677871</td>\n",
       "    </tr>\n",
       "  </tbody>\n",
       "</table>\n",
       "</div>"
      ],
      "text/plain": [
       "            Maaş       Yaş  Çalışma Saati\n",
       "Onur    1.159942  0.931496      -0.180202\n",
       "Zeynep  0.588309  0.579259       0.153810\n",
       "Egemen -0.268995 -0.125685       0.643259\n",
       "Ali     0.726915  1.143803      -1.677871"
      ]
     },
     "execution_count": 116,
     "metadata": {},
     "output_type": "execute_result"
    }
   ],
   "source": [
    "yeniDataFrame"
   ]
  },
  {
   "cell_type": "code",
   "execution_count": 118,
   "id": "96bb6777",
   "metadata": {},
   "outputs": [
    {
     "data": {
      "text/plain": [
       "Maaş             1.159942\n",
       "Yaş              0.931496\n",
       "Çalışma Saati   -0.180202\n",
       "Name: Onur, dtype: float64"
      ]
     },
     "execution_count": 118,
     "metadata": {},
     "output_type": "execute_result"
    }
   ],
   "source": [
    "yeniDataFrame.loc[\"Onur\"]"
   ]
  },
  {
   "cell_type": "code",
   "execution_count": 119,
   "id": "b060357c",
   "metadata": {},
   "outputs": [
    {
     "data": {
      "text/plain": [
       "0.9314962010483231"
      ]
     },
     "execution_count": 119,
     "metadata": {},
     "output_type": "execute_result"
    }
   ],
   "source": [
    "yeniDataFrame.loc[\"Onur\",\"Yaş\"]"
   ]
  },
  {
   "cell_type": "code",
   "execution_count": 121,
   "id": "d55ad227",
   "metadata": {},
   "outputs": [
    {
     "data": {
      "text/plain": [
       "0.9314962010483231"
      ]
     },
     "execution_count": 121,
     "metadata": {},
     "output_type": "execute_result"
    }
   ],
   "source": [
    "yeniDataFrame.loc[\"Onur\"][\"Yaş\"] # iki şekilde de kullanılabilir"
   ]
  },
  {
   "cell_type": "code",
   "execution_count": 122,
   "id": "86e1d97a",
   "metadata": {},
   "outputs": [
    {
     "data": {
      "text/html": [
       "<div>\n",
       "<style scoped>\n",
       "    .dataframe tbody tr th:only-of-type {\n",
       "        vertical-align: middle;\n",
       "    }\n",
       "\n",
       "    .dataframe tbody tr th {\n",
       "        vertical-align: top;\n",
       "    }\n",
       "\n",
       "    .dataframe thead th {\n",
       "        text-align: right;\n",
       "    }\n",
       "</style>\n",
       "<table border=\"1\" class=\"dataframe\">\n",
       "  <thead>\n",
       "    <tr style=\"text-align: right;\">\n",
       "      <th></th>\n",
       "      <th>Maaş</th>\n",
       "      <th>Yaş</th>\n",
       "      <th>Çalışma Saati</th>\n",
       "    </tr>\n",
       "  </thead>\n",
       "  <tbody>\n",
       "    <tr>\n",
       "      <th>Onur</th>\n",
       "      <td>1.159942</td>\n",
       "      <td>0.931496</td>\n",
       "      <td>-0.180202</td>\n",
       "    </tr>\n",
       "    <tr>\n",
       "      <th>Zeynep</th>\n",
       "      <td>0.588309</td>\n",
       "      <td>0.579259</td>\n",
       "      <td>0.153810</td>\n",
       "    </tr>\n",
       "    <tr>\n",
       "      <th>Egemen</th>\n",
       "      <td>-0.268995</td>\n",
       "      <td>-0.125685</td>\n",
       "      <td>0.643259</td>\n",
       "    </tr>\n",
       "    <tr>\n",
       "      <th>Ali</th>\n",
       "      <td>0.726915</td>\n",
       "      <td>1.143803</td>\n",
       "      <td>-1.677871</td>\n",
       "    </tr>\n",
       "  </tbody>\n",
       "</table>\n",
       "</div>"
      ],
      "text/plain": [
       "            Maaş       Yaş  Çalışma Saati\n",
       "Onur    1.159942  0.931496      -0.180202\n",
       "Zeynep  0.588309  0.579259       0.153810\n",
       "Egemen -0.268995 -0.125685       0.643259\n",
       "Ali     0.726915  1.143803      -1.677871"
      ]
     },
     "execution_count": 122,
     "metadata": {},
     "output_type": "execute_result"
    }
   ],
   "source": [
    "yeniDataFrame"
   ]
  },
  {
   "cell_type": "code",
   "execution_count": 128,
   "id": "85cc3750",
   "metadata": {},
   "outputs": [],
   "source": [
    "df=yeniDataFrame>0"
   ]
  },
  {
   "cell_type": "code",
   "execution_count": 129,
   "id": "31b645bd",
   "metadata": {},
   "outputs": [
    {
     "data": {
      "text/html": [
       "<div>\n",
       "<style scoped>\n",
       "    .dataframe tbody tr th:only-of-type {\n",
       "        vertical-align: middle;\n",
       "    }\n",
       "\n",
       "    .dataframe tbody tr th {\n",
       "        vertical-align: top;\n",
       "    }\n",
       "\n",
       "    .dataframe thead th {\n",
       "        text-align: right;\n",
       "    }\n",
       "</style>\n",
       "<table border=\"1\" class=\"dataframe\">\n",
       "  <thead>\n",
       "    <tr style=\"text-align: right;\">\n",
       "      <th></th>\n",
       "      <th>Maaş</th>\n",
       "      <th>Yaş</th>\n",
       "      <th>Çalışma Saati</th>\n",
       "    </tr>\n",
       "  </thead>\n",
       "  <tbody>\n",
       "    <tr>\n",
       "      <th>Onur</th>\n",
       "      <td>True</td>\n",
       "      <td>True</td>\n",
       "      <td>False</td>\n",
       "    </tr>\n",
       "    <tr>\n",
       "      <th>Zeynep</th>\n",
       "      <td>True</td>\n",
       "      <td>True</td>\n",
       "      <td>True</td>\n",
       "    </tr>\n",
       "    <tr>\n",
       "      <th>Egemen</th>\n",
       "      <td>False</td>\n",
       "      <td>False</td>\n",
       "      <td>True</td>\n",
       "    </tr>\n",
       "    <tr>\n",
       "      <th>Ali</th>\n",
       "      <td>True</td>\n",
       "      <td>True</td>\n",
       "      <td>False</td>\n",
       "    </tr>\n",
       "  </tbody>\n",
       "</table>\n",
       "</div>"
      ],
      "text/plain": [
       "         Maaş    Yaş  Çalışma Saati\n",
       "Onur     True   True          False\n",
       "Zeynep   True   True           True\n",
       "Egemen  False  False           True\n",
       "Ali      True   True          False"
      ]
     },
     "execution_count": 129,
     "metadata": {},
     "output_type": "execute_result"
    }
   ],
   "source": [
    "df"
   ]
  },
  {
   "cell_type": "code",
   "execution_count": 130,
   "id": "a3868785",
   "metadata": {},
   "outputs": [
    {
     "data": {
      "text/html": [
       "<div>\n",
       "<style scoped>\n",
       "    .dataframe tbody tr th:only-of-type {\n",
       "        vertical-align: middle;\n",
       "    }\n",
       "\n",
       "    .dataframe tbody tr th {\n",
       "        vertical-align: top;\n",
       "    }\n",
       "\n",
       "    .dataframe thead th {\n",
       "        text-align: right;\n",
       "    }\n",
       "</style>\n",
       "<table border=\"1\" class=\"dataframe\">\n",
       "  <thead>\n",
       "    <tr style=\"text-align: right;\">\n",
       "      <th></th>\n",
       "      <th>Maaş</th>\n",
       "      <th>Yaş</th>\n",
       "      <th>Çalışma Saati</th>\n",
       "    </tr>\n",
       "  </thead>\n",
       "  <tbody>\n",
       "    <tr>\n",
       "      <th>Onur</th>\n",
       "      <td>1.159942</td>\n",
       "      <td>0.931496</td>\n",
       "      <td>-0.180202</td>\n",
       "    </tr>\n",
       "    <tr>\n",
       "      <th>Zeynep</th>\n",
       "      <td>0.588309</td>\n",
       "      <td>0.579259</td>\n",
       "      <td>0.153810</td>\n",
       "    </tr>\n",
       "    <tr>\n",
       "      <th>Egemen</th>\n",
       "      <td>-0.268995</td>\n",
       "      <td>-0.125685</td>\n",
       "      <td>0.643259</td>\n",
       "    </tr>\n",
       "    <tr>\n",
       "      <th>Ali</th>\n",
       "      <td>0.726915</td>\n",
       "      <td>1.143803</td>\n",
       "      <td>-1.677871</td>\n",
       "    </tr>\n",
       "  </tbody>\n",
       "</table>\n",
       "</div>"
      ],
      "text/plain": [
       "            Maaş       Yaş  Çalışma Saati\n",
       "Onur    1.159942  0.931496      -0.180202\n",
       "Zeynep  0.588309  0.579259       0.153810\n",
       "Egemen -0.268995 -0.125685       0.643259\n",
       "Ali     0.726915  1.143803      -1.677871"
      ]
     },
     "execution_count": 130,
     "metadata": {},
     "output_type": "execute_result"
    }
   ],
   "source": [
    "yeniDataFrame"
   ]
  },
  {
   "cell_type": "code",
   "execution_count": 132,
   "id": "537d6174",
   "metadata": {},
   "outputs": [
    {
     "data": {
      "text/html": [
       "<div>\n",
       "<style scoped>\n",
       "    .dataframe tbody tr th:only-of-type {\n",
       "        vertical-align: middle;\n",
       "    }\n",
       "\n",
       "    .dataframe tbody tr th {\n",
       "        vertical-align: top;\n",
       "    }\n",
       "\n",
       "    .dataframe thead th {\n",
       "        text-align: right;\n",
       "    }\n",
       "</style>\n",
       "<table border=\"1\" class=\"dataframe\">\n",
       "  <thead>\n",
       "    <tr style=\"text-align: right;\">\n",
       "      <th></th>\n",
       "      <th>Maaş</th>\n",
       "      <th>Yaş</th>\n",
       "      <th>Çalışma Saati</th>\n",
       "    </tr>\n",
       "  </thead>\n",
       "  <tbody>\n",
       "    <tr>\n",
       "      <th>Onur</th>\n",
       "      <td>1.159942</td>\n",
       "      <td>0.931496</td>\n",
       "      <td>NaN</td>\n",
       "    </tr>\n",
       "    <tr>\n",
       "      <th>Zeynep</th>\n",
       "      <td>0.588309</td>\n",
       "      <td>0.579259</td>\n",
       "      <td>0.153810</td>\n",
       "    </tr>\n",
       "    <tr>\n",
       "      <th>Egemen</th>\n",
       "      <td>NaN</td>\n",
       "      <td>NaN</td>\n",
       "      <td>0.643259</td>\n",
       "    </tr>\n",
       "    <tr>\n",
       "      <th>Ali</th>\n",
       "      <td>0.726915</td>\n",
       "      <td>1.143803</td>\n",
       "      <td>NaN</td>\n",
       "    </tr>\n",
       "  </tbody>\n",
       "</table>\n",
       "</div>"
      ],
      "text/plain": [
       "            Maaş       Yaş  Çalışma Saati\n",
       "Onur    1.159942  0.931496            NaN\n",
       "Zeynep  0.588309  0.579259       0.153810\n",
       "Egemen       NaN       NaN       0.643259\n",
       "Ali     0.726915  1.143803            NaN"
      ]
     },
     "execution_count": 132,
     "metadata": {},
     "output_type": "execute_result"
    }
   ],
   "source": [
    "yeniDataFrame[df]"
   ]
  },
  {
   "cell_type": "code",
   "execution_count": 133,
   "id": "0e20d26b",
   "metadata": {},
   "outputs": [
    {
     "data": {
      "text/html": [
       "<div>\n",
       "<style scoped>\n",
       "    .dataframe tbody tr th:only-of-type {\n",
       "        vertical-align: middle;\n",
       "    }\n",
       "\n",
       "    .dataframe tbody tr th {\n",
       "        vertical-align: top;\n",
       "    }\n",
       "\n",
       "    .dataframe thead th {\n",
       "        text-align: right;\n",
       "    }\n",
       "</style>\n",
       "<table border=\"1\" class=\"dataframe\">\n",
       "  <thead>\n",
       "    <tr style=\"text-align: right;\">\n",
       "      <th></th>\n",
       "      <th>Maaş</th>\n",
       "      <th>Yaş</th>\n",
       "      <th>Çalışma Saati</th>\n",
       "    </tr>\n",
       "  </thead>\n",
       "  <tbody>\n",
       "    <tr>\n",
       "      <th>Onur</th>\n",
       "      <td>1.159942</td>\n",
       "      <td>0.931496</td>\n",
       "      <td>NaN</td>\n",
       "    </tr>\n",
       "    <tr>\n",
       "      <th>Zeynep</th>\n",
       "      <td>0.588309</td>\n",
       "      <td>0.579259</td>\n",
       "      <td>0.153810</td>\n",
       "    </tr>\n",
       "    <tr>\n",
       "      <th>Egemen</th>\n",
       "      <td>NaN</td>\n",
       "      <td>NaN</td>\n",
       "      <td>0.643259</td>\n",
       "    </tr>\n",
       "    <tr>\n",
       "      <th>Ali</th>\n",
       "      <td>0.726915</td>\n",
       "      <td>1.143803</td>\n",
       "      <td>NaN</td>\n",
       "    </tr>\n",
       "  </tbody>\n",
       "</table>\n",
       "</div>"
      ],
      "text/plain": [
       "            Maaş       Yaş  Çalışma Saati\n",
       "Onur    1.159942  0.931496            NaN\n",
       "Zeynep  0.588309  0.579259       0.153810\n",
       "Egemen       NaN       NaN       0.643259\n",
       "Ali     0.726915  1.143803            NaN"
      ]
     },
     "execution_count": 133,
     "metadata": {},
     "output_type": "execute_result"
    }
   ],
   "source": [
    "yeniDataFrame[yeniDataFrame>0]"
   ]
  },
  {
   "cell_type": "code",
   "execution_count": 134,
   "id": "5113de83",
   "metadata": {},
   "outputs": [
    {
     "data": {
      "text/html": [
       "<div>\n",
       "<style scoped>\n",
       "    .dataframe tbody tr th:only-of-type {\n",
       "        vertical-align: middle;\n",
       "    }\n",
       "\n",
       "    .dataframe tbody tr th {\n",
       "        vertical-align: top;\n",
       "    }\n",
       "\n",
       "    .dataframe thead th {\n",
       "        text-align: right;\n",
       "    }\n",
       "</style>\n",
       "<table border=\"1\" class=\"dataframe\">\n",
       "  <thead>\n",
       "    <tr style=\"text-align: right;\">\n",
       "      <th></th>\n",
       "      <th>Maaş</th>\n",
       "      <th>Yaş</th>\n",
       "      <th>Çalışma Saati</th>\n",
       "    </tr>\n",
       "  </thead>\n",
       "  <tbody>\n",
       "    <tr>\n",
       "      <th>Onur</th>\n",
       "      <td>1.159942</td>\n",
       "      <td>0.931496</td>\n",
       "      <td>-0.180202</td>\n",
       "    </tr>\n",
       "    <tr>\n",
       "      <th>Zeynep</th>\n",
       "      <td>0.588309</td>\n",
       "      <td>0.579259</td>\n",
       "      <td>0.153810</td>\n",
       "    </tr>\n",
       "    <tr>\n",
       "      <th>Ali</th>\n",
       "      <td>0.726915</td>\n",
       "      <td>1.143803</td>\n",
       "      <td>-1.677871</td>\n",
       "    </tr>\n",
       "  </tbody>\n",
       "</table>\n",
       "</div>"
      ],
      "text/plain": [
       "            Maaş       Yaş  Çalışma Saati\n",
       "Onur    1.159942  0.931496      -0.180202\n",
       "Zeynep  0.588309  0.579259       0.153810\n",
       "Ali     0.726915  1.143803      -1.677871"
      ]
     },
     "execution_count": 134,
     "metadata": {},
     "output_type": "execute_result"
    }
   ],
   "source": [
    "yeniDataFrame[yeniDataFrame[\"Yaş\"]>0] # sadece yaşı pozitifleri göster"
   ]
  },
  {
   "cell_type": "code",
   "execution_count": 135,
   "id": "c43bbfb0",
   "metadata": {},
   "outputs": [
    {
     "data": {
      "text/html": [
       "<div>\n",
       "<style scoped>\n",
       "    .dataframe tbody tr th:only-of-type {\n",
       "        vertical-align: middle;\n",
       "    }\n",
       "\n",
       "    .dataframe tbody tr th {\n",
       "        vertical-align: top;\n",
       "    }\n",
       "\n",
       "    .dataframe thead th {\n",
       "        text-align: right;\n",
       "    }\n",
       "</style>\n",
       "<table border=\"1\" class=\"dataframe\">\n",
       "  <thead>\n",
       "    <tr style=\"text-align: right;\">\n",
       "      <th></th>\n",
       "      <th>Maaş</th>\n",
       "      <th>Yaş</th>\n",
       "      <th>Çalışma Saati</th>\n",
       "    </tr>\n",
       "  </thead>\n",
       "  <tbody>\n",
       "    <tr>\n",
       "      <th>Zeynep</th>\n",
       "      <td>0.588309</td>\n",
       "      <td>0.579259</td>\n",
       "      <td>0.153810</td>\n",
       "    </tr>\n",
       "    <tr>\n",
       "      <th>Egemen</th>\n",
       "      <td>-0.268995</td>\n",
       "      <td>-0.125685</td>\n",
       "      <td>0.643259</td>\n",
       "    </tr>\n",
       "  </tbody>\n",
       "</table>\n",
       "</div>"
      ],
      "text/plain": [
       "            Maaş       Yaş  Çalışma Saati\n",
       "Zeynep  0.588309  0.579259       0.153810\n",
       "Egemen -0.268995 -0.125685       0.643259"
      ]
     },
     "execution_count": 135,
     "metadata": {},
     "output_type": "execute_result"
    }
   ],
   "source": [
    "yeniDataFrame[yeniDataFrame[\"Çalışma Saati\"]>0] # çalışma saati 0 dan büyükleri göster"
   ]
  },
  {
   "cell_type": "code",
   "execution_count": 137,
   "id": "23af3f10",
   "metadata": {},
   "outputs": [
    {
     "data": {
      "text/html": [
       "<div>\n",
       "<style scoped>\n",
       "    .dataframe tbody tr th:only-of-type {\n",
       "        vertical-align: middle;\n",
       "    }\n",
       "\n",
       "    .dataframe tbody tr th {\n",
       "        vertical-align: top;\n",
       "    }\n",
       "\n",
       "    .dataframe thead th {\n",
       "        text-align: right;\n",
       "    }\n",
       "</style>\n",
       "<table border=\"1\" class=\"dataframe\">\n",
       "  <thead>\n",
       "    <tr style=\"text-align: right;\">\n",
       "      <th></th>\n",
       "      <th>Maaş</th>\n",
       "      <th>Yaş</th>\n",
       "      <th>Çalışma Saati</th>\n",
       "    </tr>\n",
       "  </thead>\n",
       "  <tbody>\n",
       "    <tr>\n",
       "      <th>Onur</th>\n",
       "      <td>1.159942</td>\n",
       "      <td>0.931496</td>\n",
       "      <td>-0.180202</td>\n",
       "    </tr>\n",
       "    <tr>\n",
       "      <th>Zeynep</th>\n",
       "      <td>0.588309</td>\n",
       "      <td>0.579259</td>\n",
       "      <td>0.153810</td>\n",
       "    </tr>\n",
       "    <tr>\n",
       "      <th>Egemen</th>\n",
       "      <td>-0.268995</td>\n",
       "      <td>-0.125685</td>\n",
       "      <td>0.643259</td>\n",
       "    </tr>\n",
       "    <tr>\n",
       "      <th>Ali</th>\n",
       "      <td>0.726915</td>\n",
       "      <td>1.143803</td>\n",
       "      <td>-1.677871</td>\n",
       "    </tr>\n",
       "  </tbody>\n",
       "</table>\n",
       "</div>"
      ],
      "text/plain": [
       "            Maaş       Yaş  Çalışma Saati\n",
       "Onur    1.159942  0.931496      -0.180202\n",
       "Zeynep  0.588309  0.579259       0.153810\n",
       "Egemen -0.268995 -0.125685       0.643259\n",
       "Ali     0.726915  1.143803      -1.677871"
      ]
     },
     "execution_count": 137,
     "metadata": {},
     "output_type": "execute_result"
    }
   ],
   "source": [
    "yeniDataFrame"
   ]
  },
  {
   "cell_type": "code",
   "execution_count": 138,
   "id": "70e6ba7f",
   "metadata": {},
   "outputs": [
    {
     "data": {
      "text/html": [
       "<div>\n",
       "<style scoped>\n",
       "    .dataframe tbody tr th:only-of-type {\n",
       "        vertical-align: middle;\n",
       "    }\n",
       "\n",
       "    .dataframe tbody tr th {\n",
       "        vertical-align: top;\n",
       "    }\n",
       "\n",
       "    .dataframe thead th {\n",
       "        text-align: right;\n",
       "    }\n",
       "</style>\n",
       "<table border=\"1\" class=\"dataframe\">\n",
       "  <thead>\n",
       "    <tr style=\"text-align: right;\">\n",
       "      <th></th>\n",
       "      <th>index</th>\n",
       "      <th>Maaş</th>\n",
       "      <th>Yaş</th>\n",
       "      <th>Çalışma Saati</th>\n",
       "    </tr>\n",
       "  </thead>\n",
       "  <tbody>\n",
       "    <tr>\n",
       "      <th>0</th>\n",
       "      <td>Onur</td>\n",
       "      <td>1.159942</td>\n",
       "      <td>0.931496</td>\n",
       "      <td>-0.180202</td>\n",
       "    </tr>\n",
       "    <tr>\n",
       "      <th>1</th>\n",
       "      <td>Zeynep</td>\n",
       "      <td>0.588309</td>\n",
       "      <td>0.579259</td>\n",
       "      <td>0.153810</td>\n",
       "    </tr>\n",
       "    <tr>\n",
       "      <th>2</th>\n",
       "      <td>Egemen</td>\n",
       "      <td>-0.268995</td>\n",
       "      <td>-0.125685</td>\n",
       "      <td>0.643259</td>\n",
       "    </tr>\n",
       "    <tr>\n",
       "      <th>3</th>\n",
       "      <td>Ali</td>\n",
       "      <td>0.726915</td>\n",
       "      <td>1.143803</td>\n",
       "      <td>-1.677871</td>\n",
       "    </tr>\n",
       "  </tbody>\n",
       "</table>\n",
       "</div>"
      ],
      "text/plain": [
       "    index      Maaş       Yaş  Çalışma Saati\n",
       "0    Onur  1.159942  0.931496      -0.180202\n",
       "1  Zeynep  0.588309  0.579259       0.153810\n",
       "2  Egemen -0.268995 -0.125685       0.643259\n",
       "3     Ali  0.726915  1.143803      -1.677871"
      ]
     },
     "execution_count": 138,
     "metadata": {},
     "output_type": "execute_result"
    }
   ],
   "source": [
    "yeniDataFrame.reset_index() # indexleri resetle"
   ]
  },
  {
   "cell_type": "code",
   "execution_count": 139,
   "id": "763720a2",
   "metadata": {},
   "outputs": [
    {
     "data": {
      "text/html": [
       "<div>\n",
       "<style scoped>\n",
       "    .dataframe tbody tr th:only-of-type {\n",
       "        vertical-align: middle;\n",
       "    }\n",
       "\n",
       "    .dataframe tbody tr th {\n",
       "        vertical-align: top;\n",
       "    }\n",
       "\n",
       "    .dataframe thead th {\n",
       "        text-align: right;\n",
       "    }\n",
       "</style>\n",
       "<table border=\"1\" class=\"dataframe\">\n",
       "  <thead>\n",
       "    <tr style=\"text-align: right;\">\n",
       "      <th></th>\n",
       "      <th>Maaş</th>\n",
       "      <th>Yaş</th>\n",
       "      <th>Çalışma Saati</th>\n",
       "    </tr>\n",
       "  </thead>\n",
       "  <tbody>\n",
       "    <tr>\n",
       "      <th>Onur</th>\n",
       "      <td>1.159942</td>\n",
       "      <td>0.931496</td>\n",
       "      <td>-0.180202</td>\n",
       "    </tr>\n",
       "    <tr>\n",
       "      <th>Zeynep</th>\n",
       "      <td>0.588309</td>\n",
       "      <td>0.579259</td>\n",
       "      <td>0.153810</td>\n",
       "    </tr>\n",
       "    <tr>\n",
       "      <th>Egemen</th>\n",
       "      <td>-0.268995</td>\n",
       "      <td>-0.125685</td>\n",
       "      <td>0.643259</td>\n",
       "    </tr>\n",
       "    <tr>\n",
       "      <th>Ali</th>\n",
       "      <td>0.726915</td>\n",
       "      <td>1.143803</td>\n",
       "      <td>-1.677871</td>\n",
       "    </tr>\n",
       "  </tbody>\n",
       "</table>\n",
       "</div>"
      ],
      "text/plain": [
       "            Maaş       Yaş  Çalışma Saati\n",
       "Onur    1.159942  0.931496      -0.180202\n",
       "Zeynep  0.588309  0.579259       0.153810\n",
       "Egemen -0.268995 -0.125685       0.643259\n",
       "Ali     0.726915  1.143803      -1.677871"
      ]
     },
     "execution_count": 139,
     "metadata": {},
     "output_type": "execute_result"
    }
   ],
   "source": [
    "yeniDataFrame"
   ]
  },
  {
   "cell_type": "code",
   "execution_count": 141,
   "id": "2bff3e43",
   "metadata": {},
   "outputs": [],
   "source": [
    "yeniIndexListesi= [\"On\",\"Ze\",\"Eg\",\"Al\"]"
   ]
  },
  {
   "cell_type": "code",
   "execution_count": 143,
   "id": "b15ee8d1",
   "metadata": {},
   "outputs": [],
   "source": [
    "yeniDataFrame[\"Yeni Index\"] =yeniIndexListesi"
   ]
  },
  {
   "cell_type": "code",
   "execution_count": 144,
   "id": "df3c4ddc",
   "metadata": {},
   "outputs": [
    {
     "data": {
      "text/html": [
       "<div>\n",
       "<style scoped>\n",
       "    .dataframe tbody tr th:only-of-type {\n",
       "        vertical-align: middle;\n",
       "    }\n",
       "\n",
       "    .dataframe tbody tr th {\n",
       "        vertical-align: top;\n",
       "    }\n",
       "\n",
       "    .dataframe thead th {\n",
       "        text-align: right;\n",
       "    }\n",
       "</style>\n",
       "<table border=\"1\" class=\"dataframe\">\n",
       "  <thead>\n",
       "    <tr style=\"text-align: right;\">\n",
       "      <th></th>\n",
       "      <th>Maaş</th>\n",
       "      <th>Yaş</th>\n",
       "      <th>Çalışma Saati</th>\n",
       "      <th>Yeni Index</th>\n",
       "    </tr>\n",
       "  </thead>\n",
       "  <tbody>\n",
       "    <tr>\n",
       "      <th>Onur</th>\n",
       "      <td>1.159942</td>\n",
       "      <td>0.931496</td>\n",
       "      <td>-0.180202</td>\n",
       "      <td>On</td>\n",
       "    </tr>\n",
       "    <tr>\n",
       "      <th>Zeynep</th>\n",
       "      <td>0.588309</td>\n",
       "      <td>0.579259</td>\n",
       "      <td>0.153810</td>\n",
       "      <td>Ze</td>\n",
       "    </tr>\n",
       "    <tr>\n",
       "      <th>Egemen</th>\n",
       "      <td>-0.268995</td>\n",
       "      <td>-0.125685</td>\n",
       "      <td>0.643259</td>\n",
       "      <td>Eg</td>\n",
       "    </tr>\n",
       "    <tr>\n",
       "      <th>Ali</th>\n",
       "      <td>0.726915</td>\n",
       "      <td>1.143803</td>\n",
       "      <td>-1.677871</td>\n",
       "      <td>Al</td>\n",
       "    </tr>\n",
       "  </tbody>\n",
       "</table>\n",
       "</div>"
      ],
      "text/plain": [
       "            Maaş       Yaş  Çalışma Saati Yeni Index\n",
       "Onur    1.159942  0.931496      -0.180202         On\n",
       "Zeynep  0.588309  0.579259       0.153810         Ze\n",
       "Egemen -0.268995 -0.125685       0.643259         Eg\n",
       "Ali     0.726915  1.143803      -1.677871         Al"
      ]
     },
     "execution_count": 144,
     "metadata": {},
     "output_type": "execute_result"
    }
   ],
   "source": [
    "yeniDataFrame"
   ]
  },
  {
   "cell_type": "code",
   "execution_count": 146,
   "id": "727d18c7",
   "metadata": {},
   "outputs": [
    {
     "data": {
      "text/html": [
       "<div>\n",
       "<style scoped>\n",
       "    .dataframe tbody tr th:only-of-type {\n",
       "        vertical-align: middle;\n",
       "    }\n",
       "\n",
       "    .dataframe tbody tr th {\n",
       "        vertical-align: top;\n",
       "    }\n",
       "\n",
       "    .dataframe thead th {\n",
       "        text-align: right;\n",
       "    }\n",
       "</style>\n",
       "<table border=\"1\" class=\"dataframe\">\n",
       "  <thead>\n",
       "    <tr style=\"text-align: right;\">\n",
       "      <th></th>\n",
       "      <th>Maaş</th>\n",
       "      <th>Yaş</th>\n",
       "      <th>Çalışma Saati</th>\n",
       "    </tr>\n",
       "    <tr>\n",
       "      <th>Yeni Index</th>\n",
       "      <th></th>\n",
       "      <th></th>\n",
       "      <th></th>\n",
       "    </tr>\n",
       "  </thead>\n",
       "  <tbody>\n",
       "    <tr>\n",
       "      <th>On</th>\n",
       "      <td>1.159942</td>\n",
       "      <td>0.931496</td>\n",
       "      <td>-0.180202</td>\n",
       "    </tr>\n",
       "    <tr>\n",
       "      <th>Ze</th>\n",
       "      <td>0.588309</td>\n",
       "      <td>0.579259</td>\n",
       "      <td>0.153810</td>\n",
       "    </tr>\n",
       "    <tr>\n",
       "      <th>Eg</th>\n",
       "      <td>-0.268995</td>\n",
       "      <td>-0.125685</td>\n",
       "      <td>0.643259</td>\n",
       "    </tr>\n",
       "    <tr>\n",
       "      <th>Al</th>\n",
       "      <td>0.726915</td>\n",
       "      <td>1.143803</td>\n",
       "      <td>-1.677871</td>\n",
       "    </tr>\n",
       "  </tbody>\n",
       "</table>\n",
       "</div>"
      ],
      "text/plain": [
       "                Maaş       Yaş  Çalışma Saati\n",
       "Yeni Index                                   \n",
       "On          1.159942  0.931496      -0.180202\n",
       "Ze          0.588309  0.579259       0.153810\n",
       "Eg         -0.268995 -0.125685       0.643259\n",
       "Al          0.726915  1.143803      -1.677871"
      ]
     },
     "execution_count": 146,
     "metadata": {},
     "output_type": "execute_result"
    }
   ],
   "source": [
    "yeniDataFrame.set_index(\"Yeni Index\")"
   ]
  },
  {
   "cell_type": "code",
   "execution_count": 147,
   "id": "c0cf0ffc",
   "metadata": {},
   "outputs": [
    {
     "data": {
      "text/html": [
       "<div>\n",
       "<style scoped>\n",
       "    .dataframe tbody tr th:only-of-type {\n",
       "        vertical-align: middle;\n",
       "    }\n",
       "\n",
       "    .dataframe tbody tr th {\n",
       "        vertical-align: top;\n",
       "    }\n",
       "\n",
       "    .dataframe thead th {\n",
       "        text-align: right;\n",
       "    }\n",
       "</style>\n",
       "<table border=\"1\" class=\"dataframe\">\n",
       "  <thead>\n",
       "    <tr style=\"text-align: right;\">\n",
       "      <th></th>\n",
       "      <th>Maaş</th>\n",
       "      <th>Yaş</th>\n",
       "      <th>Çalışma Saati</th>\n",
       "      <th>Yeni Index</th>\n",
       "    </tr>\n",
       "  </thead>\n",
       "  <tbody>\n",
       "    <tr>\n",
       "      <th>Onur</th>\n",
       "      <td>1.159942</td>\n",
       "      <td>0.931496</td>\n",
       "      <td>-0.180202</td>\n",
       "      <td>On</td>\n",
       "    </tr>\n",
       "    <tr>\n",
       "      <th>Zeynep</th>\n",
       "      <td>0.588309</td>\n",
       "      <td>0.579259</td>\n",
       "      <td>0.153810</td>\n",
       "      <td>Ze</td>\n",
       "    </tr>\n",
       "    <tr>\n",
       "      <th>Egemen</th>\n",
       "      <td>-0.268995</td>\n",
       "      <td>-0.125685</td>\n",
       "      <td>0.643259</td>\n",
       "      <td>Eg</td>\n",
       "    </tr>\n",
       "    <tr>\n",
       "      <th>Ali</th>\n",
       "      <td>0.726915</td>\n",
       "      <td>1.143803</td>\n",
       "      <td>-1.677871</td>\n",
       "      <td>Al</td>\n",
       "    </tr>\n",
       "  </tbody>\n",
       "</table>\n",
       "</div>"
      ],
      "text/plain": [
       "            Maaş       Yaş  Çalışma Saati Yeni Index\n",
       "Onur    1.159942  0.931496      -0.180202         On\n",
       "Zeynep  0.588309  0.579259       0.153810         Ze\n",
       "Egemen -0.268995 -0.125685       0.643259         Eg\n",
       "Ali     0.726915  1.143803      -1.677871         Al"
      ]
     },
     "execution_count": 147,
     "metadata": {},
     "output_type": "execute_result"
    }
   ],
   "source": [
    "yeniDataFrame"
   ]
  },
  {
   "cell_type": "code",
   "execution_count": 148,
   "id": "91337217",
   "metadata": {},
   "outputs": [],
   "source": [
    "yeniDataFrame.set_index(\"Yeni Index\",inplace=True)"
   ]
  },
  {
   "cell_type": "code",
   "execution_count": 149,
   "id": "3e9b3f0d",
   "metadata": {},
   "outputs": [
    {
     "data": {
      "text/html": [
       "<div>\n",
       "<style scoped>\n",
       "    .dataframe tbody tr th:only-of-type {\n",
       "        vertical-align: middle;\n",
       "    }\n",
       "\n",
       "    .dataframe tbody tr th {\n",
       "        vertical-align: top;\n",
       "    }\n",
       "\n",
       "    .dataframe thead th {\n",
       "        text-align: right;\n",
       "    }\n",
       "</style>\n",
       "<table border=\"1\" class=\"dataframe\">\n",
       "  <thead>\n",
       "    <tr style=\"text-align: right;\">\n",
       "      <th></th>\n",
       "      <th>Maaş</th>\n",
       "      <th>Yaş</th>\n",
       "      <th>Çalışma Saati</th>\n",
       "    </tr>\n",
       "    <tr>\n",
       "      <th>Yeni Index</th>\n",
       "      <th></th>\n",
       "      <th></th>\n",
       "      <th></th>\n",
       "    </tr>\n",
       "  </thead>\n",
       "  <tbody>\n",
       "    <tr>\n",
       "      <th>On</th>\n",
       "      <td>1.159942</td>\n",
       "      <td>0.931496</td>\n",
       "      <td>-0.180202</td>\n",
       "    </tr>\n",
       "    <tr>\n",
       "      <th>Ze</th>\n",
       "      <td>0.588309</td>\n",
       "      <td>0.579259</td>\n",
       "      <td>0.153810</td>\n",
       "    </tr>\n",
       "    <tr>\n",
       "      <th>Eg</th>\n",
       "      <td>-0.268995</td>\n",
       "      <td>-0.125685</td>\n",
       "      <td>0.643259</td>\n",
       "    </tr>\n",
       "    <tr>\n",
       "      <th>Al</th>\n",
       "      <td>0.726915</td>\n",
       "      <td>1.143803</td>\n",
       "      <td>-1.677871</td>\n",
       "    </tr>\n",
       "  </tbody>\n",
       "</table>\n",
       "</div>"
      ],
      "text/plain": [
       "                Maaş       Yaş  Çalışma Saati\n",
       "Yeni Index                                   \n",
       "On          1.159942  0.931496      -0.180202\n",
       "Ze          0.588309  0.579259       0.153810\n",
       "Eg         -0.268995 -0.125685       0.643259\n",
       "Al          0.726915  1.143803      -1.677871"
      ]
     },
     "execution_count": 149,
     "metadata": {},
     "output_type": "execute_result"
    }
   ],
   "source": [
    "yeniDataFrame"
   ]
  },
  {
   "cell_type": "code",
   "execution_count": 150,
   "id": "48fdcdda",
   "metadata": {},
   "outputs": [
    {
     "data": {
      "text/plain": [
       "Maaş             1.159942\n",
       "Yaş              0.931496\n",
       "Çalışma Saati   -0.180202\n",
       "Name: On, dtype: float64"
      ]
     },
     "execution_count": 150,
     "metadata": {},
     "output_type": "execute_result"
    }
   ],
   "source": [
    "yeniDataFrame.loc[\"On\"]"
   ]
  },
  {
   "cell_type": "code",
   "execution_count": 151,
   "id": "e6d99694",
   "metadata": {},
   "outputs": [],
   "source": [
    "ilkIndeksler= [\"Simpson\",\"Simpson\",\"Simpson\",\"South Park\",\"South Park\",\"South Park\"]"
   ]
  },
  {
   "cell_type": "code",
   "execution_count": 152,
   "id": "160a80d2",
   "metadata": {},
   "outputs": [],
   "source": [
    "içIndeksler=[\"Homer\",\"Bart\",\"Marge\",\"Cartmen\",\"Keny\",\"Kyle\"]"
   ]
  },
  {
   "cell_type": "code",
   "execution_count": 153,
   "id": "c06876fe",
   "metadata": {},
   "outputs": [],
   "source": [
    "birlesmisIndex=list(zip(ilkIndeksler,içIndeksler))"
   ]
  },
  {
   "cell_type": "code",
   "execution_count": 154,
   "id": "c2afb323",
   "metadata": {},
   "outputs": [
    {
     "data": {
      "text/plain": [
       "[('Simpson', 'Homer'),\n",
       " ('Simpson', 'Bart'),\n",
       " ('Simpson', 'Marge'),\n",
       " ('South Park', 'Cartmen'),\n",
       " ('South Park', 'Keny'),\n",
       " ('South Park', 'Kyle')]"
      ]
     },
     "execution_count": 154,
     "metadata": {},
     "output_type": "execute_result"
    }
   ],
   "source": [
    "birlesmisIndex"
   ]
  },
  {
   "cell_type": "code",
   "execution_count": 156,
   "id": "a6f87eec",
   "metadata": {},
   "outputs": [],
   "source": [
    "birlesmisIndex=pd.MultiIndex.from_tuples(birlesmisIndex)"
   ]
  },
  {
   "cell_type": "code",
   "execution_count": 157,
   "id": "6384e124",
   "metadata": {},
   "outputs": [
    {
     "data": {
      "text/plain": [
       "MultiIndex([(   'Simpson',   'Homer'),\n",
       "            (   'Simpson',    'Bart'),\n",
       "            (   'Simpson',   'Marge'),\n",
       "            ('South Park', 'Cartmen'),\n",
       "            ('South Park',    'Keny'),\n",
       "            ('South Park',    'Kyle')],\n",
       "           )"
      ]
     },
     "execution_count": 157,
     "metadata": {},
     "output_type": "execute_result"
    }
   ],
   "source": [
    "birlesmisIndex"
   ]
  },
  {
   "cell_type": "code",
   "execution_count": 158,
   "id": "121a69b6",
   "metadata": {},
   "outputs": [
    {
     "data": {
      "text/plain": [
       "pandas.core.indexes.multi.MultiIndex"
      ]
     },
     "execution_count": 158,
     "metadata": {},
     "output_type": "execute_result"
    }
   ],
   "source": [
    "type(birlesmisIndex)"
   ]
  },
  {
   "cell_type": "code",
   "execution_count": 162,
   "id": "7db3e2db",
   "metadata": {},
   "outputs": [],
   "source": [
    "benimCizgiFilmListem= [[40,\"A\"],[10,\"B\"],[30,\"C\"],[11,\"D\"],[9,\"E\"],[10,\"F\"]]"
   ]
  },
  {
   "cell_type": "code",
   "execution_count": 164,
   "id": "cef6dd1f",
   "metadata": {},
   "outputs": [],
   "source": [
    "cizgiFilmNumpyDizisi= np.array(benimCizgiFilmListem)"
   ]
  },
  {
   "cell_type": "code",
   "execution_count": 166,
   "id": "d0b73a79",
   "metadata": {},
   "outputs": [],
   "source": [
    "cizgiFilmDataFrame=pd.DataFrame(cizgiFilmNumpyDizisi,index=birlesmisIndex,columns=[\"Yas\",\"Meslek\"])"
   ]
  },
  {
   "cell_type": "code",
   "execution_count": 167,
   "id": "98d210d4",
   "metadata": {},
   "outputs": [
    {
     "data": {
      "text/html": [
       "<div>\n",
       "<style scoped>\n",
       "    .dataframe tbody tr th:only-of-type {\n",
       "        vertical-align: middle;\n",
       "    }\n",
       "\n",
       "    .dataframe tbody tr th {\n",
       "        vertical-align: top;\n",
       "    }\n",
       "\n",
       "    .dataframe thead th {\n",
       "        text-align: right;\n",
       "    }\n",
       "</style>\n",
       "<table border=\"1\" class=\"dataframe\">\n",
       "  <thead>\n",
       "    <tr style=\"text-align: right;\">\n",
       "      <th></th>\n",
       "      <th></th>\n",
       "      <th>Yas</th>\n",
       "      <th>Meslek</th>\n",
       "    </tr>\n",
       "  </thead>\n",
       "  <tbody>\n",
       "    <tr>\n",
       "      <th rowspan=\"3\" valign=\"top\">Simpson</th>\n",
       "      <th>Homer</th>\n",
       "      <td>40</td>\n",
       "      <td>A</td>\n",
       "    </tr>\n",
       "    <tr>\n",
       "      <th>Bart</th>\n",
       "      <td>10</td>\n",
       "      <td>B</td>\n",
       "    </tr>\n",
       "    <tr>\n",
       "      <th>Marge</th>\n",
       "      <td>30</td>\n",
       "      <td>C</td>\n",
       "    </tr>\n",
       "    <tr>\n",
       "      <th rowspan=\"3\" valign=\"top\">South Park</th>\n",
       "      <th>Cartmen</th>\n",
       "      <td>11</td>\n",
       "      <td>D</td>\n",
       "    </tr>\n",
       "    <tr>\n",
       "      <th>Keny</th>\n",
       "      <td>9</td>\n",
       "      <td>E</td>\n",
       "    </tr>\n",
       "    <tr>\n",
       "      <th>Kyle</th>\n",
       "      <td>10</td>\n",
       "      <td>F</td>\n",
       "    </tr>\n",
       "  </tbody>\n",
       "</table>\n",
       "</div>"
      ],
      "text/plain": [
       "                   Yas Meslek\n",
       "Simpson    Homer    40      A\n",
       "           Bart     10      B\n",
       "           Marge    30      C\n",
       "South Park Cartmen  11      D\n",
       "           Keny      9      E\n",
       "           Kyle     10      F"
      ]
     },
     "execution_count": 167,
     "metadata": {},
     "output_type": "execute_result"
    }
   ],
   "source": [
    "cizgiFilmDataFrame"
   ]
  },
  {
   "cell_type": "code",
   "execution_count": 168,
   "id": "7999d161",
   "metadata": {},
   "outputs": [
    {
     "data": {
      "text/html": [
       "<div>\n",
       "<style scoped>\n",
       "    .dataframe tbody tr th:only-of-type {\n",
       "        vertical-align: middle;\n",
       "    }\n",
       "\n",
       "    .dataframe tbody tr th {\n",
       "        vertical-align: top;\n",
       "    }\n",
       "\n",
       "    .dataframe thead th {\n",
       "        text-align: right;\n",
       "    }\n",
       "</style>\n",
       "<table border=\"1\" class=\"dataframe\">\n",
       "  <thead>\n",
       "    <tr style=\"text-align: right;\">\n",
       "      <th></th>\n",
       "      <th>Yas</th>\n",
       "      <th>Meslek</th>\n",
       "    </tr>\n",
       "  </thead>\n",
       "  <tbody>\n",
       "    <tr>\n",
       "      <th>Homer</th>\n",
       "      <td>40</td>\n",
       "      <td>A</td>\n",
       "    </tr>\n",
       "    <tr>\n",
       "      <th>Bart</th>\n",
       "      <td>10</td>\n",
       "      <td>B</td>\n",
       "    </tr>\n",
       "    <tr>\n",
       "      <th>Marge</th>\n",
       "      <td>30</td>\n",
       "      <td>C</td>\n",
       "    </tr>\n",
       "  </tbody>\n",
       "</table>\n",
       "</div>"
      ],
      "text/plain": [
       "      Yas Meslek\n",
       "Homer  40      A\n",
       "Bart   10      B\n",
       "Marge  30      C"
      ]
     },
     "execution_count": 168,
     "metadata": {},
     "output_type": "execute_result"
    }
   ],
   "source": [
    "cizgiFilmDataFrame.loc[\"Simpson\"]"
   ]
  },
  {
   "cell_type": "code",
   "execution_count": 169,
   "id": "98165412",
   "metadata": {},
   "outputs": [
    {
     "data": {
      "text/plain": [
       "Yas       40\n",
       "Meslek     A\n",
       "Name: Homer, dtype: object"
      ]
     },
     "execution_count": 169,
     "metadata": {},
     "output_type": "execute_result"
    }
   ],
   "source": [
    "cizgiFilmDataFrame.loc[\"Simpson\"].loc[\"Homer\"]"
   ]
  },
  {
   "cell_type": "code",
   "execution_count": 170,
   "id": "b9ea3c2c",
   "metadata": {},
   "outputs": [
    {
     "data": {
      "text/html": [
       "<div>\n",
       "<style scoped>\n",
       "    .dataframe tbody tr th:only-of-type {\n",
       "        vertical-align: middle;\n",
       "    }\n",
       "\n",
       "    .dataframe tbody tr th {\n",
       "        vertical-align: top;\n",
       "    }\n",
       "\n",
       "    .dataframe thead th {\n",
       "        text-align: right;\n",
       "    }\n",
       "</style>\n",
       "<table border=\"1\" class=\"dataframe\">\n",
       "  <thead>\n",
       "    <tr style=\"text-align: right;\">\n",
       "      <th></th>\n",
       "      <th></th>\n",
       "      <th>Yas</th>\n",
       "      <th>Meslek</th>\n",
       "    </tr>\n",
       "  </thead>\n",
       "  <tbody>\n",
       "    <tr>\n",
       "      <th rowspan=\"3\" valign=\"top\">Simpson</th>\n",
       "      <th>Homer</th>\n",
       "      <td>40</td>\n",
       "      <td>A</td>\n",
       "    </tr>\n",
       "    <tr>\n",
       "      <th>Bart</th>\n",
       "      <td>10</td>\n",
       "      <td>B</td>\n",
       "    </tr>\n",
       "    <tr>\n",
       "      <th>Marge</th>\n",
       "      <td>30</td>\n",
       "      <td>C</td>\n",
       "    </tr>\n",
       "    <tr>\n",
       "      <th rowspan=\"3\" valign=\"top\">South Park</th>\n",
       "      <th>Cartmen</th>\n",
       "      <td>11</td>\n",
       "      <td>D</td>\n",
       "    </tr>\n",
       "    <tr>\n",
       "      <th>Keny</th>\n",
       "      <td>9</td>\n",
       "      <td>E</td>\n",
       "    </tr>\n",
       "    <tr>\n",
       "      <th>Kyle</th>\n",
       "      <td>10</td>\n",
       "      <td>F</td>\n",
       "    </tr>\n",
       "  </tbody>\n",
       "</table>\n",
       "</div>"
      ],
      "text/plain": [
       "                   Yas Meslek\n",
       "Simpson    Homer    40      A\n",
       "           Bart     10      B\n",
       "           Marge    30      C\n",
       "South Park Cartmen  11      D\n",
       "           Keny      9      E\n",
       "           Kyle     10      F"
      ]
     },
     "execution_count": 170,
     "metadata": {},
     "output_type": "execute_result"
    }
   ],
   "source": [
    "cizgiFilmDataFrame"
   ]
  },
  {
   "cell_type": "code",
   "execution_count": 171,
   "id": "34f69b79",
   "metadata": {},
   "outputs": [],
   "source": [
    "cizgiFilmDataFrame.index.names=[\"Film Adı\",\"İsim\"]"
   ]
  },
  {
   "cell_type": "code",
   "execution_count": 172,
   "id": "1ebf5d82",
   "metadata": {},
   "outputs": [
    {
     "data": {
      "text/html": [
       "<div>\n",
       "<style scoped>\n",
       "    .dataframe tbody tr th:only-of-type {\n",
       "        vertical-align: middle;\n",
       "    }\n",
       "\n",
       "    .dataframe tbody tr th {\n",
       "        vertical-align: top;\n",
       "    }\n",
       "\n",
       "    .dataframe thead th {\n",
       "        text-align: right;\n",
       "    }\n",
       "</style>\n",
       "<table border=\"1\" class=\"dataframe\">\n",
       "  <thead>\n",
       "    <tr style=\"text-align: right;\">\n",
       "      <th></th>\n",
       "      <th></th>\n",
       "      <th>Yas</th>\n",
       "      <th>Meslek</th>\n",
       "    </tr>\n",
       "    <tr>\n",
       "      <th>Film Adı</th>\n",
       "      <th>İsim</th>\n",
       "      <th></th>\n",
       "      <th></th>\n",
       "    </tr>\n",
       "  </thead>\n",
       "  <tbody>\n",
       "    <tr>\n",
       "      <th rowspan=\"3\" valign=\"top\">Simpson</th>\n",
       "      <th>Homer</th>\n",
       "      <td>40</td>\n",
       "      <td>A</td>\n",
       "    </tr>\n",
       "    <tr>\n",
       "      <th>Bart</th>\n",
       "      <td>10</td>\n",
       "      <td>B</td>\n",
       "    </tr>\n",
       "    <tr>\n",
       "      <th>Marge</th>\n",
       "      <td>30</td>\n",
       "      <td>C</td>\n",
       "    </tr>\n",
       "    <tr>\n",
       "      <th rowspan=\"3\" valign=\"top\">South Park</th>\n",
       "      <th>Cartmen</th>\n",
       "      <td>11</td>\n",
       "      <td>D</td>\n",
       "    </tr>\n",
       "    <tr>\n",
       "      <th>Keny</th>\n",
       "      <td>9</td>\n",
       "      <td>E</td>\n",
       "    </tr>\n",
       "    <tr>\n",
       "      <th>Kyle</th>\n",
       "      <td>10</td>\n",
       "      <td>F</td>\n",
       "    </tr>\n",
       "  </tbody>\n",
       "</table>\n",
       "</div>"
      ],
      "text/plain": [
       "                   Yas Meslek\n",
       "Film Adı   İsim              \n",
       "Simpson    Homer    40      A\n",
       "           Bart     10      B\n",
       "           Marge    30      C\n",
       "South Park Cartmen  11      D\n",
       "           Keny      9      E\n",
       "           Kyle     10      F"
      ]
     },
     "execution_count": 172,
     "metadata": {},
     "output_type": "execute_result"
    }
   ],
   "source": [
    "cizgiFilmDataFrame"
   ]
  },
  {
   "cell_type": "code",
   "execution_count": null,
   "id": "e468277b",
   "metadata": {},
   "outputs": [],
   "source": []
  }
 ],
 "metadata": {
  "kernelspec": {
   "display_name": "Python 3",
   "language": "python",
   "name": "python3"
  },
  "language_info": {
   "codemirror_mode": {
    "name": "ipython",
    "version": 3
   },
   "file_extension": ".py",
   "mimetype": "text/x-python",
   "name": "python",
   "nbconvert_exporter": "python",
   "pygments_lexer": "ipython3",
   "version": "3.8.8"
  }
 },
 "nbformat": 4,
 "nbformat_minor": 5
}
