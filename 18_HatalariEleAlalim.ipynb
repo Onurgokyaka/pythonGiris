{
 "cells": [
  {
   "cell_type": "code",
   "execution_count": 1,
   "id": "8ef97de3",
   "metadata": {},
   "outputs": [],
   "source": [
    "def toplama(numara1,numara2):\n",
    "    return numara1+numara2"
   ]
  },
  {
   "cell_type": "code",
   "execution_count": 4,
   "id": "855594bd",
   "metadata": {},
   "outputs": [
    {
     "name": "stdout",
     "output_type": "stream",
     "text": [
      "İlk numarayi giriniz: 5\n",
      "İkinci numarayi giriniz: 6\n"
     ]
    },
    {
     "data": {
      "text/plain": [
       "11"
      ]
     },
     "execution_count": 4,
     "metadata": {},
     "output_type": "execute_result"
    }
   ],
   "source": [
    "x=int(input(\"İlk numarayi giriniz: \"))\n",
    "y=int(input(\"İkinci numarayi giriniz: \"))\n",
    "toplama(x,y)"
   ]
  },
  {
   "cell_type": "code",
   "execution_count": 5,
   "id": "770dc3c5",
   "metadata": {},
   "outputs": [],
   "source": [
    "# Yukarıda inputta string girilirse, kendimizi garantiye almak için kodu geliştirmeliyiz"
   ]
  },
  {
   "cell_type": "markdown",
   "id": "66a2ccbe",
   "metadata": {},
   "source": [
    "## try & except & else & finally"
   ]
  },
  {
   "cell_type": "code",
   "execution_count": 7,
   "id": "c2177adc",
   "metadata": {},
   "outputs": [
    {
     "name": "stdout",
     "output_type": "stream",
     "text": [
      "Numaranızı giriniza\n",
      " Lütfen numara giriniz\n",
      "finally çağırıldı\n",
      "Numaranızı giriniz10\n",
      "Teşekkürler\n",
      "finally çağırıldı\n"
     ]
    }
   ],
   "source": [
    "while True:\n",
    "    try:\n",
    "        benimInt = int(input(\"Numaranızı giriniz\"))\n",
    "    except:\n",
    "        print (\" Lütfen numara giriniz\")\n",
    "        continue \n",
    "    else:\n",
    "        print(\"Teşekkürler\")\n",
    "        break\n",
    "    finally:\n",
    "        print(\"finally çağırıldı\")"
   ]
  },
  {
   "cell_type": "code",
   "execution_count": null,
   "id": "9e84f818",
   "metadata": {},
   "outputs": [],
   "source": []
  }
 ],
 "metadata": {
  "kernelspec": {
   "display_name": "Python 3",
   "language": "python",
   "name": "python3"
  },
  "language_info": {
   "codemirror_mode": {
    "name": "ipython",
    "version": 3
   },
   "file_extension": ".py",
   "mimetype": "text/x-python",
   "name": "python",
   "nbconvert_exporter": "python",
   "pygments_lexer": "ipython3",
   "version": "3.8.8"
  }
 },
 "nbformat": 4,
 "nbformat_minor": 5
}
