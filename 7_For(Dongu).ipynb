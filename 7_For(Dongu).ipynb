{
 "cells": [
  {
   "cell_type": "code",
   "execution_count": 1,
   "id": "808286a3",
   "metadata": {},
   "outputs": [],
   "source": [
    "benimListem=[10,20,30,40,50]"
   ]
  },
  {
   "cell_type": "code",
   "execution_count": 2,
   "id": "0aeab043",
   "metadata": {},
   "outputs": [
    {
     "name": "stdout",
     "output_type": "stream",
     "text": [
      "evet içerisinde mevcut\n"
     ]
    }
   ],
   "source": [
    "if 10 in benimListem:\n",
    "    print(\"evet içerisinde mevcut\")"
   ]
  },
  {
   "cell_type": "code",
   "execution_count": 3,
   "id": "d7ed3c1b",
   "metadata": {},
   "outputs": [
    {
     "data": {
      "text/plain": [
       "16.666666666666668"
      ]
     },
     "execution_count": 3,
     "metadata": {},
     "output_type": "execute_result"
    }
   ],
   "source": [
    "benimListem[0]*5/3"
   ]
  },
  {
   "cell_type": "code",
   "execution_count": 4,
   "id": "42bec709",
   "metadata": {},
   "outputs": [
    {
     "data": {
      "text/plain": [
       "33.333333333333336"
      ]
     },
     "execution_count": 4,
     "metadata": {},
     "output_type": "execute_result"
    }
   ],
   "source": [
    "benimListem[1]*5/3"
   ]
  },
  {
   "cell_type": "code",
   "execution_count": 6,
   "id": "d5d2239f",
   "metadata": {},
   "outputs": [
    {
     "name": "stdout",
     "output_type": "stream",
     "text": [
      "döngü başladı\n",
      "10\n",
      "20\n",
      "30\n",
      "40\n",
      "50\n",
      "döngü bitti\n"
     ]
    }
   ],
   "source": [
    "print(\"döngü başladı\")\n",
    "for numara in benimListem:\n",
    "    print(numara)\n",
    "print(\"döngü bitti\")"
   ]
  },
  {
   "cell_type": "code",
   "execution_count": 7,
   "id": "73e7eaaf",
   "metadata": {},
   "outputs": [
    {
     "name": "stdout",
     "output_type": "stream",
     "text": [
      "döngü başladı\n",
      "16.666666666666668\n",
      "33.333333333333336\n",
      "50.0\n",
      "66.66666666666667\n",
      "83.33333333333333\n",
      "döngü bitti\n"
     ]
    }
   ],
   "source": [
    "print(\"döngü başladı\")\n",
    "for numara in benimListem:\n",
    "    print(numara*5/3)\n",
    "print(\"döngü bitti\")"
   ]
  },
  {
   "cell_type": "code",
   "execution_count": 8,
   "id": "47749e1b",
   "metadata": {},
   "outputs": [
    {
     "name": "stdout",
     "output_type": "stream",
     "text": [
      "25.0\n",
      "50.0\n",
      "75.0\n",
      "100.0\n",
      "125.0\n"
     ]
    }
   ],
   "source": [
    "for num in benimListem:\n",
    "    yeniNumara= num*5/2\n",
    "    print(yeniNumara)"
   ]
  },
  {
   "cell_type": "code",
   "execution_count": 9,
   "id": "1c9fe0bb",
   "metadata": {},
   "outputs": [],
   "source": [
    "yeniListe=[1,2,3,4,5,6]"
   ]
  },
  {
   "cell_type": "code",
   "execution_count": 11,
   "id": "5f1b9ecb",
   "metadata": {},
   "outputs": [
    {
     "name": "stdout",
     "output_type": "stream",
     "text": [
      "1\n",
      "2\n",
      "3\n",
      "4\n",
      "5\n",
      "6\n"
     ]
    }
   ],
   "source": [
    "for rakam in yeniListe:\n",
    "    print(rakam)"
   ]
  },
  {
   "cell_type": "code",
   "execution_count": 14,
   "id": "3c9d9e10",
   "metadata": {},
   "outputs": [
    {
     "name": "stdout",
     "output_type": "stream",
     "text": [
      "1  sayisi tek\n",
      "2  sayisi çift\n",
      "3  sayisi tek\n",
      "4  sayisi çift\n",
      "5  sayisi tek\n",
      "6  sayisi çift\n"
     ]
    }
   ],
   "source": [
    "for i in yeniListe:\n",
    "    if i%2==0:\n",
    "        print(i ,\" sayisi çift\")\n",
    "    else:\n",
    "        print(i, \" sayisi tek\")"
   ]
  },
  {
   "cell_type": "code",
   "execution_count": 15,
   "id": "60130d5d",
   "metadata": {},
   "outputs": [],
   "source": [
    "yeniString=\"Onur Gökyaka\""
   ]
  },
  {
   "cell_type": "code",
   "execution_count": 16,
   "id": "b3c7c368",
   "metadata": {},
   "outputs": [
    {
     "name": "stdout",
     "output_type": "stream",
     "text": [
      "O\n",
      "n\n",
      "u\n",
      "r\n",
      " \n",
      "G\n",
      "ö\n",
      "k\n",
      "y\n",
      "a\n",
      "k\n",
      "a\n"
     ]
    }
   ],
   "source": [
    "for harf in yeniString:\n",
    "    print(harf)"
   ]
  },
  {
   "cell_type": "code",
   "execution_count": 17,
   "id": "0f58413f",
   "metadata": {},
   "outputs": [],
   "source": [
    "benimTuple=(1,2,3,4,5)"
   ]
  },
  {
   "cell_type": "code",
   "execution_count": 18,
   "id": "dd8d91f6",
   "metadata": {},
   "outputs": [
    {
     "name": "stdout",
     "output_type": "stream",
     "text": [
      "1\n",
      "2\n",
      "3\n",
      "4\n",
      "5\n"
     ]
    }
   ],
   "source": [
    "for eleman in  benimTuple:\n",
    "    print(eleman)"
   ]
  },
  {
   "cell_type": "code",
   "execution_count": 19,
   "id": "dd03fbab",
   "metadata": {},
   "outputs": [
    {
     "name": "stdout",
     "output_type": "stream",
     "text": [
      "-9\n",
      "-8\n",
      "-7\n",
      "-6\n",
      "-5\n"
     ]
    }
   ],
   "source": [
    "for eleman in  benimTuple:\n",
    "    print(eleman-10)"
   ]
  },
  {
   "cell_type": "code",
   "execution_count": 25,
   "id": "16435efd",
   "metadata": {},
   "outputs": [],
   "source": [
    "kordinatListesi =[(10.2,15.3),(32.4,16.2),(40.2,20.2)]"
   ]
  },
  {
   "cell_type": "code",
   "execution_count": 26,
   "id": "01ee81d1",
   "metadata": {},
   "outputs": [
    {
     "data": {
      "text/plain": [
       "list"
      ]
     },
     "execution_count": 26,
     "metadata": {},
     "output_type": "execute_result"
    }
   ],
   "source": [
    "type(kordinatListesi)"
   ]
  },
  {
   "cell_type": "code",
   "execution_count": 27,
   "id": "67c0c534",
   "metadata": {},
   "outputs": [
    {
     "data": {
      "text/plain": [
       "tuple"
      ]
     },
     "execution_count": 27,
     "metadata": {},
     "output_type": "execute_result"
    }
   ],
   "source": [
    "type(kordinatListesi[1])"
   ]
  },
  {
   "cell_type": "code",
   "execution_count": 28,
   "id": "ff7b3bb2",
   "metadata": {},
   "outputs": [
    {
     "name": "stdout",
     "output_type": "stream",
     "text": [
      "(10.2, 15.3)\n",
      "(32.4, 16.2)\n",
      "(40.2, 20.2)\n"
     ]
    }
   ],
   "source": [
    "for eleman in kordinatListesi:\n",
    "    print(eleman)"
   ]
  },
  {
   "cell_type": "code",
   "execution_count": 30,
   "id": "4e7a6df1",
   "metadata": {},
   "outputs": [
    {
     "name": "stdout",
     "output_type": "stream",
     "text": [
      "10.2\n",
      "32.4\n",
      "40.2\n"
     ]
    }
   ],
   "source": [
    "for eleman in kordinatListesi:\n",
    "    print(eleman[0])"
   ]
  },
  {
   "cell_type": "code",
   "execution_count": 31,
   "id": "6ec2fa8d",
   "metadata": {},
   "outputs": [
    {
     "name": "stdout",
     "output_type": "stream",
     "text": [
      "15.3\n",
      "16.2\n",
      "20.2\n"
     ]
    }
   ],
   "source": [
    "for (x,y) in kordinatListesi:\n",
    "    print(y)"
   ]
  },
  {
   "cell_type": "code",
   "execution_count": 32,
   "id": "2217335b",
   "metadata": {},
   "outputs": [],
   "source": [
    "benimGaripListem= [(1,2,3),(4,5,6),(7,8,9)]"
   ]
  },
  {
   "cell_type": "code",
   "execution_count": 33,
   "id": "5f6fc026",
   "metadata": {},
   "outputs": [
    {
     "name": "stdout",
     "output_type": "stream",
     "text": [
      "3\n",
      "6\n",
      "9\n"
     ]
    }
   ],
   "source": [
    "for (x,y,z) in benimGaripListem:\n",
    "    print (z)"
   ]
  },
  {
   "cell_type": "code",
   "execution_count": 34,
   "id": "1ae61c82",
   "metadata": {},
   "outputs": [],
   "source": [
    "benimSozluk={\"muz\":150,\"portakal\":250,\"elma\":400}"
   ]
  },
  {
   "cell_type": "code",
   "execution_count": 36,
   "id": "67c0f8e6",
   "metadata": {},
   "outputs": [
    {
     "data": {
      "text/plain": [
       "dict_items([('muz', 150), ('portakal', 250), ('elma', 400)])"
      ]
     },
     "execution_count": 36,
     "metadata": {},
     "output_type": "execute_result"
    }
   ],
   "source": [
    "benimSozluk.items()"
   ]
  },
  {
   "cell_type": "code",
   "execution_count": 37,
   "id": "d0e37a39",
   "metadata": {},
   "outputs": [
    {
     "data": {
      "text/plain": [
       "dict_items"
      ]
     },
     "execution_count": 37,
     "metadata": {},
     "output_type": "execute_result"
    }
   ],
   "source": [
    "type(benimSozluk.items())"
   ]
  },
  {
   "cell_type": "code",
   "execution_count": 38,
   "id": "855bd6f6",
   "metadata": {},
   "outputs": [
    {
     "name": "stdout",
     "output_type": "stream",
     "text": [
      "150\n",
      "250\n",
      "400\n"
     ]
    }
   ],
   "source": [
    "for (anahtar, deger) in benimSozluk.items():\n",
    "    print(deger)"
   ]
  },
  {
   "cell_type": "code",
   "execution_count": 39,
   "id": "d404ec40",
   "metadata": {},
   "outputs": [
    {
     "name": "stdout",
     "output_type": "stream",
     "text": [
      "muz\n",
      "portakal\n",
      "elma\n"
     ]
    }
   ],
   "source": [
    "for (anahtar, deger) in benimSozluk.items():\n",
    "    print(anahtar)"
   ]
  },
  {
   "cell_type": "code",
   "execution_count": null,
   "id": "aec48523",
   "metadata": {},
   "outputs": [],
   "source": []
  }
 ],
 "metadata": {
  "kernelspec": {
   "display_name": "Python 3",
   "language": "python",
   "name": "python3"
  },
  "language_info": {
   "codemirror_mode": {
    "name": "ipython",
    "version": 3
   },
   "file_extension": ".py",
   "mimetype": "text/x-python",
   "name": "python",
   "nbconvert_exporter": "python",
   "pygments_lexer": "ipython3",
   "version": "3.8.8"
  }
 },
 "nbformat": 4,
 "nbformat_minor": 5
}
