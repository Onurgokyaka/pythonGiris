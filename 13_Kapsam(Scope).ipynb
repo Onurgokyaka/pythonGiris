{
 "cells": [
  {
   "cell_type": "markdown",
   "id": "ec4c0584",
   "metadata": {},
   "source": [
    "## scope "
   ]
  },
  {
   "cell_type": "code",
   "execution_count": 1,
   "id": "12a3d853",
   "metadata": {},
   "outputs": [],
   "source": [
    "numara=20\n",
    "\n",
    "def carpma(rakam):\n",
    "    numara =10\n",
    "    return numara*rakam"
   ]
  },
  {
   "cell_type": "code",
   "execution_count": 2,
   "id": "6f876fde",
   "metadata": {},
   "outputs": [
    {
     "data": {
      "text/plain": [
       "50"
      ]
     },
     "execution_count": 2,
     "metadata": {},
     "output_type": "execute_result"
    }
   ],
   "source": [
    "carpma(5)"
   ]
  },
  {
   "cell_type": "code",
   "execution_count": 4,
   "id": "538168bf",
   "metadata": {},
   "outputs": [
    {
     "name": "stdout",
     "output_type": "stream",
     "text": [
      "20\n"
     ]
    }
   ],
   "source": [
    "print(numara) "
   ]
  },
  {
   "cell_type": "markdown",
   "id": "e7e74913",
   "metadata": {},
   "source": [
    "## Local, Enclosing, Global, Built-In(LEGB)"
   ]
  },
  {
   "cell_type": "code",
   "execution_count": 10,
   "id": "4394f8a2",
   "metadata": {},
   "outputs": [],
   "source": [
    "benimAdim=\"Onur\"\n",
    "#Global\n",
    "\n",
    "def benimFonksiyonum():\n",
    "    benimAdim=\"Mahmut\"\n",
    "    #Enclosing\n",
    "    def icFonksiyon():\n",
    "        benimAdim=\"Ali\"\n",
    "        #Local\n",
    "        print(benimAdim)\n",
    "    icFonksiyon()"
   ]
  },
  {
   "cell_type": "code",
   "execution_count": 11,
   "id": "471ba2b2",
   "metadata": {},
   "outputs": [
    {
     "name": "stdout",
     "output_type": "stream",
     "text": [
      "Ali\n"
     ]
    }
   ],
   "source": [
    "benimFonksiyonum()  # Eğer localde Ali olmasaydı enclosinge bakıp mahmutu yazacaktı,\n",
    "#eğer buda olmazsa globale bakıp onuru alacaktı, eğer burda da olmazsa\n",
    "#built-in yani pythonda benim adım diye birşey var mı diye bakar eğer burası da boş ise hata verir"
   ]
  },
  {
   "cell_type": "code",
   "execution_count": 12,
   "id": "0f5825a8",
   "metadata": {},
   "outputs": [
    {
     "name": "stdout",
     "output_type": "stream",
     "text": [
      "Onur\n"
     ]
    }
   ],
   "source": [
    "print(benimAdim)"
   ]
  },
  {
   "cell_type": "code",
   "execution_count": 20,
   "id": "b65c715b",
   "metadata": {},
   "outputs": [],
   "source": [
    "y=10\n",
    "\n",
    "def yeniFonksiyon(y):\n",
    "    print(y)\n",
    "    y=5\n",
    "    print(y)\n",
    "    return(y)"
   ]
  },
  {
   "cell_type": "code",
   "execution_count": 21,
   "id": "7ebe1121",
   "metadata": {},
   "outputs": [
    {
     "name": "stdout",
     "output_type": "stream",
     "text": [
      "4\n",
      "5\n"
     ]
    },
    {
     "data": {
      "text/plain": [
       "5"
      ]
     },
     "execution_count": 21,
     "metadata": {},
     "output_type": "execute_result"
    }
   ],
   "source": [
    "yeniFonksiyon(4)"
   ]
  },
  {
   "cell_type": "code",
   "execution_count": 22,
   "id": "15aa2661",
   "metadata": {},
   "outputs": [
    {
     "data": {
      "text/plain": [
       "10"
      ]
     },
     "execution_count": 22,
     "metadata": {},
     "output_type": "execute_result"
    }
   ],
   "source": [
    "y"
   ]
  },
  {
   "cell_type": "code",
   "execution_count": 23,
   "id": "18636bec",
   "metadata": {},
   "outputs": [
    {
     "name": "stdout",
     "output_type": "stream",
     "text": [
      "3\n",
      "5\n"
     ]
    }
   ],
   "source": [
    "y=yeniFonksiyon(3) # y yi atayarak 10 olmasından kurtardık"
   ]
  },
  {
   "cell_type": "code",
   "execution_count": 24,
   "id": "cbe9f09a",
   "metadata": {},
   "outputs": [
    {
     "data": {
      "text/plain": [
       "5"
      ]
     },
     "execution_count": 24,
     "metadata": {},
     "output_type": "execute_result"
    }
   ],
   "source": [
    "y"
   ]
  },
  {
   "cell_type": "code",
   "execution_count": 29,
   "id": "0a79d07d",
   "metadata": {},
   "outputs": [],
   "source": [
    "y=10\n",
    "\n",
    "def ornekFonksiyon():\n",
    "    global y\n",
    "    y=6\n",
    "    print(y)"
   ]
  },
  {
   "cell_type": "code",
   "execution_count": 30,
   "id": "c2fa4b5d",
   "metadata": {},
   "outputs": [
    {
     "name": "stdout",
     "output_type": "stream",
     "text": [
      "6\n"
     ]
    }
   ],
   "source": [
    "ornekFonksiyon()"
   ]
  },
  {
   "cell_type": "code",
   "execution_count": 31,
   "id": "cb7312df",
   "metadata": {},
   "outputs": [
    {
     "data": {
      "text/plain": [
       "6"
      ]
     },
     "execution_count": 31,
     "metadata": {},
     "output_type": "execute_result"
    }
   ],
   "source": [
    "y  # y'yi global yaparak kalıcı yaptık"
   ]
  },
  {
   "cell_type": "code",
   "execution_count": null,
   "id": "56ad181e",
   "metadata": {},
   "outputs": [],
   "source": []
  }
 ],
 "metadata": {
  "kernelspec": {
   "display_name": "Python 3",
   "language": "python",
   "name": "python3"
  },
  "language_info": {
   "codemirror_mode": {
    "name": "ipython",
    "version": 3
   },
   "file_extension": ".py",
   "mimetype": "text/x-python",
   "name": "python",
   "nbconvert_exporter": "python",
   "pygments_lexer": "ipython3",
   "version": "3.8.8"
  }
 },
 "nbformat": 4,
 "nbformat_minor": 5
}
