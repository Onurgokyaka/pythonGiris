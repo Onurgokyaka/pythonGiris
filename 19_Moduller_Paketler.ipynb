{
 "cells": [
  {
   "cell_type": "code",
   "execution_count": 1,
   "id": "932451a2",
   "metadata": {},
   "outputs": [],
   "source": [
    "import numpy as np # as np numpy yerine np kullan demek\n",
    "import matplotlib.pyplot as matplot # as matplot kullan demek"
   ]
  },
  {
   "cell_type": "code",
   "execution_count": 2,
   "id": "c2e684eb",
   "metadata": {},
   "outputs": [
    {
     "data": {
      "text/plain": [
       "3981.6416481498277"
      ]
     },
     "execution_count": 2,
     "metadata": {},
     "output_type": "execute_result"
    }
   ],
   "source": [
    "maasListesi = np.random.normal(4000,500,1000) # ortalaması 4000 civarı , sd=500, 1000 degerli maas üret rastgele\n",
    "np.mean(maasListesi)  # ortalama kac cıktı maasListesinin"
   ]
  },
  {
   "cell_type": "code",
   "execution_count": 3,
   "id": "184c9718",
   "metadata": {},
   "outputs": [
    {
     "data": {
      "image/png": "[encoded data removed]",
      "text/plain": [
       "<Figure size 432x288 with 1 Axes>"
      ]
     },
     "metadata": {
      "needs_background": "light"
     },
     "output_type": "display_data"
    }
   ],
   "source": [
    "matplot.hist(maasListesi,50) # 50 tane maas olan histogramı çiz \n",
    "matplot.show()"
   ]
  },
  {
   "cell_type": "code",
   "execution_count": null,
   "id": "8bbeff2b",
   "metadata": {},
   "outputs": [],
   "source": []
  }
 ],
 "metadata": {
  "kernelspec": {
   "display_name": "Python 3",
   "language": "python",
   "name": "python3"
  },
  "language_info": {
   "codemirror_mode": {
    "name": "ipython",
    "version": 3
   },
   "file_extension": ".py",
   "mimetype": "text/x-python",
   "name": "python",
   "nbconvert_exporter": "python",
   "pygments_lexer": "ipython3",
   "version": "3.8.8"
  }
 },
 "nbformat": 4,
 "nbformat_minor": 5
}
