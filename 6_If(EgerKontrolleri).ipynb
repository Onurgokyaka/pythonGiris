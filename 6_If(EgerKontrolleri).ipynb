{
 "cells": [
  {
   "cell_type": "code",
   "execution_count": 1,
   "id": "9ee99303",
   "metadata": {},
   "outputs": [
    {
     "data": {
      "text/plain": [
       "True"
      ]
     },
     "execution_count": 1,
     "metadata": {},
     "output_type": "execute_result"
    }
   ],
   "source": [
    "3>1"
   ]
  },
  {
   "cell_type": "code",
   "execution_count": 9,
   "id": "733769cc",
   "metadata": {},
   "outputs": [
    {
     "name": "stdout",
     "output_type": "stream",
     "text": [
      "49-50\n",
      "if koşulunun dışına çıktık\n"
     ]
    }
   ],
   "source": [
    "if 3<1 :\n",
    "    print(\"ali veli\")\n",
    "else:\n",
    "    print(\"49-50\")\n",
    "print(\"if koşulunun dışına çıktık\")\n"
   ]
  },
  {
   "cell_type": "code",
   "execution_count": 10,
   "id": "1d0f3ca1",
   "metadata": {},
   "outputs": [],
   "source": [
    "x=4\n",
    "y=4"
   ]
  },
  {
   "cell_type": "code",
   "execution_count": 11,
   "id": "7b6cbd0e",
   "metadata": {},
   "outputs": [],
   "source": [
    "if x>y:\n",
    "    print(\"x, y den daha büyüktür\")"
   ]
  },
  {
   "cell_type": "code",
   "execution_count": 12,
   "id": "6098b031",
   "metadata": {},
   "outputs": [
    {
     "name": "stdout",
     "output_type": "stream",
     "text": [
      "x, y den daha büyüktür\n"
     ]
    }
   ],
   "source": [
    "x=5\n",
    "y=4\n",
    "if x>y:\n",
    "    print(\"x, y den daha büyüktür\")"
   ]
  },
  {
   "cell_type": "code",
   "execution_count": 14,
   "id": "eb7caea0",
   "metadata": {},
   "outputs": [
    {
     "name": "stdout",
     "output_type": "stream",
     "text": [
      "x, y den daha büyüktür\n",
      "9\n",
      "1\n"
     ]
    }
   ],
   "source": [
    "if x>y:\n",
    "    print(\"x, y den daha büyüktür\")\n",
    "    a=5\n",
    "    b=4\n",
    "    print(a+b)"
   ]
  },
  {
   "cell_type": "code",
   "execution_count": 16,
   "id": "5df45981",
   "metadata": {},
   "outputs": [
    {
     "name": "stdout",
     "output_type": "stream",
     "text": [
      "y, x ten daha büyüktür\n"
     ]
    }
   ],
   "source": [
    "x=3\n",
    "y=4\n",
    "if x>y:\n",
    "    print(\"x, y den daha büyüktür\")\n",
    "elif y>x:\n",
    "    print(\"y, x ten daha büyüktür\")"
   ]
  },
  {
   "cell_type": "code",
   "execution_count": 21,
   "id": "46d51d05",
   "metadata": {},
   "outputs": [
    {
     "name": "stdout",
     "output_type": "stream",
     "text": [
      "x, y ye eşittir\n"
     ]
    }
   ],
   "source": [
    "x=3\n",
    "y=3\n",
    "if x>y:\n",
    "    print(\"x, y den daha büyüktür\")\n",
    "elif y>x:\n",
    "    print(\"y, x ten daha büyüktür\")\n",
    "elif y==x:\n",
    "    print(\"x, y ye eşittir\")\n"
   ]
  },
  {
   "cell_type": "code",
   "execution_count": 19,
   "id": "bd136572",
   "metadata": {},
   "outputs": [
    {
     "name": "stdout",
     "output_type": "stream",
     "text": [
      "x, y ye eşittir\n"
     ]
    }
   ],
   "source": [
    "x=3\n",
    "y=3\n",
    "if x>y:\n",
    "    print(\"x, y den daha büyüktür\")\n",
    "elif y>x:\n",
    "    print(\"y, x ten daha büyüktür\")\n",
    "else:\n",
    "    print(\"x, y ye eşittir\")\n"
   ]
  },
  {
   "cell_type": "code",
   "execution_count": 31,
   "id": "394697c9",
   "metadata": {},
   "outputs": [
    {
     "name": "stdout",
     "output_type": "stream",
     "text": [
      "Süper kahraman ismi giriniz:IronMan\n",
      "Süper kahraman düzeyi ****\n"
     ]
    }
   ],
   "source": [
    "seninKahramanin=input(\"Süper kahraman ismi giriniz:\")\n",
    "if seninKahramanin==\" Batman\":\n",
    "    print(\"Süper kahraman düzeyi *****\")\n",
    "elif seninKahramanin==\"SpiderMan\":\n",
    "    print(\"Süper kahraman düzeyi ****\")\n",
    "elif seninKahramanin==\"IronMan\":\n",
    "    print(\"Süper kahraman düzeyi ****\")\n",
    "elif seninKahramanin==\"Hulk\":\n",
    "    print(\"Süper kahraman düzeyi *****\")\n",
    "else:\n",
    "    print(\"Bu süper kahramanın düzeyi bilinmiyor\")\n"
   ]
  },
  {
   "cell_type": "code",
   "execution_count": 48,
   "id": "cf075bdc",
   "metadata": {},
   "outputs": [
    {
     "name": "stdout",
     "output_type": "stream",
     "text": [
      "Süper kahraman seciniz:a\n",
      "Bu kim bilmiyoruz\n"
     ]
    }
   ],
   "source": [
    "benimKahramanim=input(\"Süper kahraman seciniz:\")\n",
    "if benimKahramanim== \"batman\":\n",
    "    print(\"Batman'i seçtiniz tebrikler\")\n",
    "elif benimKahramanim==\"superman\" :\n",
    "    print(\"Süperman'i seçtiniz tebrikler\")\n",
    "elif benimKahramanim==\"ironman\":\n",
    "    print(\"Ironman'i sectiniz tebrikler\")\n",
    "else:\n",
    "    print(\"Bu kim bilmiyoruz\")"
   ]
  },
  {
   "cell_type": "code",
   "execution_count": 40,
   "id": "034c0e78",
   "metadata": {},
   "outputs": [],
   "source": [
    "a=10\n",
    "b=20\n",
    "c=30"
   ]
  },
  {
   "cell_type": "code",
   "execution_count": 42,
   "id": "854d68f5",
   "metadata": {},
   "outputs": [
    {
     "name": "stdout",
     "output_type": "stream",
     "text": [
      " a  b den küçük b de c den küçük\n"
     ]
    }
   ],
   "source": [
    "if a>b and b>c :\n",
    "    print(\"a, b'den büyük ve b de c'den büyük\")\n",
    "elif a<b and b<c:\n",
    "    print(\" a  b den küçük b de c den küçük\")\n",
    "else:\n",
    "    print(\"bu koşullar tutmadı\")"
   ]
  },
  {
   "cell_type": "code",
   "execution_count": 45,
   "id": "c64b2122",
   "metadata": {},
   "outputs": [],
   "source": [
    "m=10\n",
    "k=4\n",
    "l=1\n"
   ]
  },
  {
   "cell_type": "code",
   "execution_count": 46,
   "id": "a34a414c",
   "metadata": {},
   "outputs": [
    {
     "name": "stdout",
     "output_type": "stream",
     "text": [
      "bu çalıştırılacak mı\n"
     ]
    }
   ],
   "source": [
    "if m>k or k>1:\n",
    "    print(\"bu çalıştırılacak mı\")"
   ]
  },
  {
   "cell_type": "code",
   "execution_count": 1,
   "id": "454d9578",
   "metadata": {},
   "outputs": [],
   "source": [
    "karakterCanli=True"
   ]
  },
  {
   "cell_type": "code",
   "execution_count": 2,
   "id": "085a578b",
   "metadata": {},
   "outputs": [
    {
     "name": "stdout",
     "output_type": "stream",
     "text": [
      "karakter yasıyor\n"
     ]
    }
   ],
   "source": [
    "if karakterCanli == True:\n",
    "    print(\"karakter yasıyor\")\n",
    "else:\n",
    "    print(\"karakter yasamıyor\")"
   ]
  },
  {
   "cell_type": "code",
   "execution_count": 3,
   "id": "8a28be5c",
   "metadata": {},
   "outputs": [
    {
     "name": "stdout",
     "output_type": "stream",
     "text": [
      "karakter yasıyor\n"
     ]
    }
   ],
   "source": [
    "if karakterCanli :   # sonucun true oldugunu biliyoruz\n",
    "    print(\"karakter yasıyor\")\n",
    "else:\n",
    "    print(\"karakter yasamıyor\")"
   ]
  },
  {
   "cell_type": "code",
   "execution_count": 5,
   "id": "4cc1e5d2",
   "metadata": {},
   "outputs": [
    {
     "name": "stdout",
     "output_type": "stream",
     "text": [
      "karakter yasamıyor\n"
     ]
    }
   ],
   "source": [
    "if not karakterCanli :\n",
    "    print(\"karakter canlı degil\")\n",
    "else:\n",
    "    print(\"karakter yasamıyor\")"
   ]
  },
  {
   "cell_type": "code",
   "execution_count": 6,
   "id": "3d58adb5",
   "metadata": {},
   "outputs": [],
   "source": [
    "benimString=\"Onur Gökyaka\""
   ]
  },
  {
   "cell_type": "code",
   "execution_count": 7,
   "id": "209d7bbb",
   "metadata": {},
   "outputs": [
    {
     "name": "stdout",
     "output_type": "stream",
     "text": [
      "eşit değilmiş\n"
     ]
    }
   ],
   "source": [
    "if benimString == 'onur gökyaka':\n",
    "    print(\"eşitmiş\")\n",
    "else:\n",
    "    print(\"eşit değilmiş\")"
   ]
  },
  {
   "cell_type": "code",
   "execution_count": 8,
   "id": "f69b2366",
   "metadata": {},
   "outputs": [
    {
     "name": "stdout",
     "output_type": "stream",
     "text": [
      "varmış\n"
     ]
    }
   ],
   "source": [
    "if \"Gökyaka\" in benimString:  # benim stringin içinde Gökyaka var mı ?\n",
    "    print(\"varmış\")\n",
    "else:\n",
    "    print(\"yokmuş\")"
   ]
  },
  {
   "cell_type": "code",
   "execution_count": 9,
   "id": "0c85e79d",
   "metadata": {},
   "outputs": [],
   "source": [
    "benimListem=[10,20,30,40,50]"
   ]
  },
  {
   "cell_type": "code",
   "execution_count": 10,
   "id": "f778a158",
   "metadata": {},
   "outputs": [
    {
     "name": "stdout",
     "output_type": "stream",
     "text": [
      "evet var\n"
     ]
    }
   ],
   "source": [
    "if 10 in benimListem:\n",
    "    print(\"evet var\")"
   ]
  },
  {
   "cell_type": "code",
   "execution_count": 11,
   "id": "b247f9f9",
   "metadata": {},
   "outputs": [],
   "source": [
    "benimSozluk= {\"muz\":100,\"elma\":150,\"karpuz\":500}"
   ]
  },
  {
   "cell_type": "code",
   "execution_count": 12,
   "id": "2ae95dd4",
   "metadata": {},
   "outputs": [
    {
     "data": {
      "text/plain": [
       "{'muz': 100, 'elma': 150, 'karpuz': 500}"
      ]
     },
     "execution_count": 12,
     "metadata": {},
     "output_type": "execute_result"
    }
   ],
   "source": [
    "benimSozluk"
   ]
  },
  {
   "cell_type": "code",
   "execution_count": 14,
   "id": "ad27b622",
   "metadata": {},
   "outputs": [
    {
     "data": {
      "text/plain": [
       "dict_keys(['muz', 'elma', 'karpuz'])"
      ]
     },
     "execution_count": 14,
     "metadata": {},
     "output_type": "execute_result"
    }
   ],
   "source": [
    "benimSozluk.keys()"
   ]
  },
  {
   "cell_type": "code",
   "execution_count": 18,
   "id": "61962f09",
   "metadata": {},
   "outputs": [
    {
     "name": "stdout",
     "output_type": "stream",
     "text": [
      "varmış\n"
     ]
    }
   ],
   "source": [
    "if \"muz\" in benimSozluk.keys():\n",
    "    print(\"varmış\")"
   ]
  },
  {
   "cell_type": "code",
   "execution_count": 19,
   "id": "d4ba0d7c",
   "metadata": {},
   "outputs": [
    {
     "name": "stdout",
     "output_type": "stream",
     "text": [
      "varmış\n"
     ]
    }
   ],
   "source": [
    "if \"muz\" in benimSozluk:\n",
    "    print(\"varmış\")"
   ]
  },
  {
   "cell_type": "code",
   "execution_count": 20,
   "id": "becef8f9",
   "metadata": {},
   "outputs": [
    {
     "name": "stdout",
     "output_type": "stream",
     "text": [
      "yokmus\n"
     ]
    }
   ],
   "source": [
    "if 250 in benimSozluk.values():\n",
    "    print(\"varmış\")\n",
    "else:\n",
    "    print(\"yokmus\")"
   ]
  },
  {
   "cell_type": "code",
   "execution_count": 23,
   "id": "161d6ddf",
   "metadata": {},
   "outputs": [
    {
     "data": {
      "text/plain": [
       "dict_values([100, 150, 500])"
      ]
     },
     "execution_count": 23,
     "metadata": {},
     "output_type": "execute_result"
    }
   ],
   "source": [
    "benimSozluk.values()"
   ]
  },
  {
   "cell_type": "code",
   "execution_count": null,
   "id": "6ef3bd29",
   "metadata": {},
   "outputs": [],
   "source": []
  }
 ],
 "metadata": {
  "kernelspec": {
   "display_name": "Python 3",
   "language": "python",
   "name": "python3"
  },
  "language_info": {
   "codemirror_mode": {
    "name": "ipython",
    "version": 3
   },
   "file_extension": ".py",
   "mimetype": "text/x-python",
   "name": "python",
   "nbconvert_exporter": "python",
   "pygments_lexer": "ipython3",
   "version": "3.8.8"
  }
 },
 "nbformat": 4,
 "nbformat_minor": 5
}
