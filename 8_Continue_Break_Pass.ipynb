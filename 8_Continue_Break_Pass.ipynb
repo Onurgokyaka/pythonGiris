{
 "cells": [
  {
   "cell_type": "code",
   "execution_count": 1,
   "id": "7c21af61",
   "metadata": {},
   "outputs": [],
   "source": [
    "benimListem=[5,10,15,20,25,30]"
   ]
  },
  {
   "cell_type": "code",
   "execution_count": 2,
   "id": "0df7d851",
   "metadata": {},
   "outputs": [
    {
     "name": "stdout",
     "output_type": "stream",
     "text": [
      "1.0\n",
      "2.0\n",
      "3.0\n",
      "4.0\n",
      "5.0\n",
      "6.0\n"
     ]
    }
   ],
   "source": [
    "for numara in benimListem:\n",
    "    print(numara/5)"
   ]
  },
  {
   "cell_type": "code",
   "execution_count": 3,
   "id": "2057614d",
   "metadata": {},
   "outputs": [
    {
     "name": "stdout",
     "output_type": "stream",
     "text": [
      "5\n",
      "10\n"
     ]
    }
   ],
   "source": [
    "for numara in benimListem:\n",
    "    if numara==15:\n",
    "        break \n",
    "    print(numara)"
   ]
  },
  {
   "cell_type": "code",
   "execution_count": 4,
   "id": "824925a7",
   "metadata": {},
   "outputs": [
    {
     "name": "stdout",
     "output_type": "stream",
     "text": [
      "5\n",
      "10\n",
      "20\n",
      "25\n",
      "30\n"
     ]
    }
   ],
   "source": [
    "for numara in benimListem:\n",
    "    if numara==15:\n",
    "        continue  # 15 i yazdırmadan devam ettik,başa dönerek\n",
    "    print(numara)"
   ]
  },
  {
   "cell_type": "code",
   "execution_count": 5,
   "id": "ae1f0a6a",
   "metadata": {},
   "outputs": [],
   "source": [
    "for numara in benimListem:\n",
    "    pass  # pass işlem yapılmayacaksa yada sonradan algoritma yerleştirilecekse kullanılır"
   ]
  },
  {
   "cell_type": "code",
   "execution_count": null,
   "id": "42d3b2a9",
   "metadata": {},
   "outputs": [],
   "source": []
  }
 ],
 "metadata": {
  "kernelspec": {
   "display_name": "Python 3",
   "language": "python",
   "name": "python3"
  },
  "language_info": {
   "codemirror_mode": {
    "name": "ipython",
    "version": 3
   },
   "file_extension": ".py",
   "mimetype": "text/x-python",
   "name": "python",
   "nbconvert_exporter": "python",
   "pygments_lexer": "ipython3",
   "version": "3.8.8"
  }
 },
 "nbformat": 4,
 "nbformat_minor": 5
}
