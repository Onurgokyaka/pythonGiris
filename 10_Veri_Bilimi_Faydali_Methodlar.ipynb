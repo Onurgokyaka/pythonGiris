{
 "cells": [
  {
   "cell_type": "code",
   "execution_count": 1,
   "id": "03e128fe",
   "metadata": {},
   "outputs": [],
   "source": [
    "benimListem=[0,1,2,3,4,5,6]"
   ]
  },
  {
   "cell_type": "code",
   "execution_count": 2,
   "id": "7fe6455a",
   "metadata": {},
   "outputs": [
    {
     "name": "stdout",
     "output_type": "stream",
     "text": [
      "0\n",
      "1\n",
      "2\n",
      "3\n",
      "4\n",
      "5\n",
      "6\n"
     ]
    }
   ],
   "source": [
    "for numara in benimListem:\n",
    "    print(numara)"
   ]
  },
  {
   "cell_type": "markdown",
   "id": "f099dd28",
   "metadata": {},
   "source": [
    "## range"
   ]
  },
  {
   "cell_type": "code",
   "execution_count": 3,
   "id": "4098685f",
   "metadata": {},
   "outputs": [
    {
     "data": {
      "text/plain": [
       "range(0, 15)"
      ]
     },
     "execution_count": 3,
     "metadata": {},
     "output_type": "execute_result"
    }
   ],
   "source": [
    "range(15)  # 0 dan 15 e kadar "
   ]
  },
  {
   "cell_type": "code",
   "execution_count": 4,
   "id": "5254febb",
   "metadata": {},
   "outputs": [
    {
     "data": {
      "text/plain": [
       "[0, 1, 2, 3, 4, 5, 6, 7, 8, 9, 10, 11, 12, 13, 14]"
      ]
     },
     "execution_count": 4,
     "metadata": {},
     "output_type": "execute_result"
    }
   ],
   "source": [
    "list(range(15))"
   ]
  },
  {
   "cell_type": "code",
   "execution_count": 5,
   "id": "cd7f70d4",
   "metadata": {},
   "outputs": [
    {
     "data": {
      "text/plain": [
       "(0, 1, 2, 3, 4, 5, 6, 7, 8, 9, 10, 11, 12, 13, 14)"
      ]
     },
     "execution_count": 5,
     "metadata": {},
     "output_type": "execute_result"
    }
   ],
   "source": [
    "tuple(range(15))"
   ]
  },
  {
   "cell_type": "code",
   "execution_count": 6,
   "id": "569163d8",
   "metadata": {},
   "outputs": [
    {
     "name": "stdout",
     "output_type": "stream",
     "text": [
      "0\n",
      "5\n",
      "10\n",
      "15\n",
      "20\n",
      "25\n",
      "30\n",
      "35\n",
      "40\n",
      "45\n",
      "50\n",
      "55\n",
      "60\n",
      "65\n",
      "70\n"
     ]
    }
   ],
   "source": [
    "for numara in list(range(15)):\n",
    "    print(numara*5)"
   ]
  },
  {
   "cell_type": "code",
   "execution_count": 7,
   "id": "b0047063",
   "metadata": {},
   "outputs": [
    {
     "name": "stdout",
     "output_type": "stream",
     "text": [
      "0\n",
      "2\n",
      "4\n",
      "6\n",
      "8\n",
      "10\n",
      "12\n",
      "14\n",
      "16\n",
      "18\n",
      "20\n",
      "22\n",
      "24\n",
      "26\n",
      "28\n"
     ]
    }
   ],
   "source": [
    "for numara in range(15):\n",
    "    print(numara*2)"
   ]
  },
  {
   "cell_type": "code",
   "execution_count": 9,
   "id": "cb77c94b",
   "metadata": {},
   "outputs": [
    {
     "data": {
      "text/plain": [
       "[5, 9, 13, 17]"
      ]
     },
     "execution_count": 9,
     "metadata": {},
     "output_type": "execute_result"
    }
   ],
   "source": [
    "list(range(5,21,4)) # 5 te başla 4 er artişla 21 e kadar git"
   ]
  },
  {
   "cell_type": "markdown",
   "id": "43f18412",
   "metadata": {},
   "source": [
    "## enumerate"
   ]
  },
  {
   "cell_type": "code",
   "execution_count": 11,
   "id": "3bb67a11",
   "metadata": {},
   "outputs": [
    {
     "name": "stdout",
     "output_type": "stream",
     "text": [
      "Güncel numara:  5 güncel index:  0\n",
      "Güncel numara:  6 güncel index:  1\n",
      "Güncel numara:  7 güncel index:  2\n",
      "Güncel numara:  8 güncel index:  3\n",
      "Güncel numara:  9 güncel index:  4\n",
      "Güncel numara:  10 güncel index:  5\n",
      "Güncel numara:  11 güncel index:  6\n",
      "Güncel numara:  12 güncel index:  7\n",
      "Güncel numara:  13 güncel index:  8\n",
      "Güncel numara:  14 güncel index:  9\n"
     ]
    }
   ],
   "source": [
    "index=0\n",
    "for numara in list(range(5,15)):\n",
    "    print(\"Güncel numara: \",numara, \"güncel index: \", index )\n",
    "    index=index+1"
   ]
  },
  {
   "cell_type": "code",
   "execution_count": 12,
   "id": "3f68e202",
   "metadata": {},
   "outputs": [
    {
     "name": "stdout",
     "output_type": "stream",
     "text": [
      "(0, 5)\n",
      "(1, 6)\n",
      "(2, 7)\n",
      "(3, 8)\n",
      "(4, 9)\n",
      "(5, 10)\n",
      "(6, 11)\n",
      "(7, 12)\n",
      "(8, 13)\n",
      "(9, 14)\n"
     ]
    }
   ],
   "source": [
    "for eleman in enumerate(list(range(5,15))): # indexe göre değeri veriyor\n",
    "    print(eleman)"
   ]
  },
  {
   "cell_type": "code",
   "execution_count": 13,
   "id": "2f40da16",
   "metadata": {},
   "outputs": [
    {
     "name": "stdout",
     "output_type": "stream",
     "text": [
      "<class 'tuple'>\n",
      "<class 'tuple'>\n",
      "<class 'tuple'>\n",
      "<class 'tuple'>\n",
      "<class 'tuple'>\n",
      "<class 'tuple'>\n",
      "<class 'tuple'>\n",
      "<class 'tuple'>\n",
      "<class 'tuple'>\n",
      "<class 'tuple'>\n"
     ]
    }
   ],
   "source": [
    "for eleman in enumerate(list(range(5,15))): # indexe göre değeri veriyor\n",
    "    print(type(eleman))"
   ]
  },
  {
   "cell_type": "code",
   "execution_count": 15,
   "id": "6657b257",
   "metadata": {},
   "outputs": [
    {
     "name": "stdout",
     "output_type": "stream",
     "text": [
      "index:  0 in numarasi 5\n",
      "index:  1 in numarasi 6\n",
      "index:  2 in numarasi 7\n",
      "index:  3 in numarasi 8\n",
      "index:  4 in numarasi 9\n",
      "index:  5 in numarasi 10\n",
      "index:  6 in numarasi 11\n",
      "index:  7 in numarasi 12\n",
      "index:  8 in numarasi 13\n",
      "index:  9 in numarasi 14\n"
     ]
    }
   ],
   "source": [
    "for (index,numara) in enumerate(list(range(5,15))): # indexe göre değeri veriyor\n",
    "    print(\"index: \",index,\"in numarasi\",numara)"
   ]
  },
  {
   "cell_type": "markdown",
   "id": "e30e4ff5",
   "metadata": {},
   "source": [
    "## random (rastgele)"
   ]
  },
  {
   "cell_type": "code",
   "execution_count": 17,
   "id": "6c8b4bd9",
   "metadata": {},
   "outputs": [],
   "source": [
    "from random import randint #random kütüphanesi içinden randinti import et"
   ]
  },
  {
   "cell_type": "code",
   "execution_count": 18,
   "id": "cf03205a",
   "metadata": {},
   "outputs": [
    {
     "data": {
      "text/plain": [
       "65"
      ]
     },
     "execution_count": 18,
     "metadata": {},
     "output_type": "execute_result"
    }
   ],
   "source": [
    "randint(0,100)"
   ]
  },
  {
   "cell_type": "code",
   "execution_count": 19,
   "id": "ca47ec10",
   "metadata": {},
   "outputs": [
    {
     "data": {
      "text/plain": [
       "75"
      ]
     },
     "execution_count": 19,
     "metadata": {},
     "output_type": "execute_result"
    }
   ],
   "source": [
    "randint(0,100)"
   ]
  },
  {
   "cell_type": "code",
   "execution_count": 20,
   "id": "e4c2827a",
   "metadata": {},
   "outputs": [],
   "source": [
    "yeniListe=list(range(0,10))"
   ]
  },
  {
   "cell_type": "code",
   "execution_count": 21,
   "id": "1ae5b192",
   "metadata": {},
   "outputs": [
    {
     "data": {
      "text/plain": [
       "[0, 1, 2, 3, 4, 5, 6, 7, 8, 9]"
      ]
     },
     "execution_count": 21,
     "metadata": {},
     "output_type": "execute_result"
    }
   ],
   "source": [
    "yeniListe"
   ]
  },
  {
   "cell_type": "code",
   "execution_count": 23,
   "id": "eee3a11d",
   "metadata": {},
   "outputs": [
    {
     "data": {
      "text/plain": [
       "4"
      ]
     },
     "execution_count": 23,
     "metadata": {},
     "output_type": "execute_result"
    }
   ],
   "source": [
    "yeniListe[randint(0,9)]"
   ]
  },
  {
   "cell_type": "code",
   "execution_count": 25,
   "id": "88af74b4",
   "metadata": {},
   "outputs": [],
   "source": [
    "from random import shuffle # shuffle = karıştırmak"
   ]
  },
  {
   "cell_type": "code",
   "execution_count": 28,
   "id": "f1e8d5a7",
   "metadata": {},
   "outputs": [
    {
     "data": {
      "text/plain": [
       "[3, 5, 6, 4, 7, 8, 0, 9, 1, 2]"
      ]
     },
     "execution_count": 28,
     "metadata": {},
     "output_type": "execute_result"
    }
   ],
   "source": [
    "shuffle(yeniListe)\n",
    "yeniListe"
   ]
  },
  {
   "cell_type": "markdown",
   "id": "bc797fe8",
   "metadata": {},
   "source": [
    "## zip (sıkıştırmak)"
   ]
  },
  {
   "cell_type": "code",
   "execution_count": 29,
   "id": "21771e3c",
   "metadata": {},
   "outputs": [],
   "source": [
    "yemekListesi=[\"muz\",\"ananas\",\"elma\"]\n",
    "kaloriListesi=[100,200,300]\n",
    "günListesi=[\"pazartesi\",\"salı\",\"çarşamba\"]"
   ]
  },
  {
   "cell_type": "code",
   "execution_count": 30,
   "id": "8f93a4f6",
   "metadata": {},
   "outputs": [
    {
     "data": {
      "text/plain": [
       "zip"
      ]
     },
     "execution_count": 30,
     "metadata": {},
     "output_type": "execute_result"
    }
   ],
   "source": [
    "type(zip(yemekListesi,kaloriListesi,günListesi))"
   ]
  },
  {
   "cell_type": "code",
   "execution_count": 32,
   "id": "e466674f",
   "metadata": {},
   "outputs": [
    {
     "data": {
      "text/plain": [
       "[('muz', 100, 'pazartesi'), ('ananas', 200, 'salı'), ('elma', 300, 'çarşamba')]"
      ]
     },
     "execution_count": 32,
     "metadata": {},
     "output_type": "execute_result"
    }
   ],
   "source": [
    "list(zip(yemekListesi,kaloriListesi,günListesi))"
   ]
  },
  {
   "cell_type": "code",
   "execution_count": 33,
   "id": "6d37accb",
   "metadata": {},
   "outputs": [],
   "source": [
    "ziplenmisListe=(list(zip(yemekListesi,kaloriListesi,günListesi)))"
   ]
  },
  {
   "cell_type": "code",
   "execution_count": 34,
   "id": "a8e73f7c",
   "metadata": {},
   "outputs": [
    {
     "name": "stdout",
     "output_type": "stream",
     "text": [
      "<class 'tuple'>\n",
      "<class 'tuple'>\n",
      "<class 'tuple'>\n"
     ]
    }
   ],
   "source": [
    "for eleman in ziplenmisListe:\n",
    "    print(type(eleman))"
   ]
  },
  {
   "cell_type": "code",
   "execution_count": 35,
   "id": "934d171c",
   "metadata": {},
   "outputs": [
    {
     "data": {
      "text/plain": [
       "[('muz', 100, 'pazartesi'), ('ananas', 200, 'salı'), ('elma', 300, 'çarşamba')]"
      ]
     },
     "execution_count": 35,
     "metadata": {},
     "output_type": "execute_result"
    }
   ],
   "source": [
    "ziplenmisListe"
   ]
  },
  {
   "cell_type": "markdown",
   "id": "47a4cfe9",
   "metadata": {},
   "source": [
    "## listeler ileri seviye"
   ]
  },
  {
   "cell_type": "code",
   "execution_count": 39,
   "id": "37d2a87c",
   "metadata": {},
   "outputs": [
    {
     "name": "stdout",
     "output_type": "stream",
     "text": [
      "O\n",
      "n\n",
      "u\n",
      "r\n",
      " \n",
      "G\n",
      "ö\n",
      "k\n",
      "y\n",
      "a\n",
      "k\n",
      "a\n"
     ]
    }
   ],
   "source": [
    "listeOrnegi=[]\n",
    "benimString=\"Onur Gökyaka\"\n",
    "listeOrnegi=benimString\n",
    "for harf in benimString:\n",
    "    print(harf)"
   ]
  },
  {
   "cell_type": "code",
   "execution_count": 40,
   "id": "20ba407a",
   "metadata": {},
   "outputs": [
    {
     "data": {
      "text/plain": [
       "'Onur Gökyaka'"
      ]
     },
     "execution_count": 40,
     "metadata": {},
     "output_type": "execute_result"
    }
   ],
   "source": [
    "listeOrnegi"
   ]
  },
  {
   "cell_type": "code",
   "execution_count": 43,
   "id": "4e3bd16d",
   "metadata": {},
   "outputs": [],
   "source": [
    "listeOrnegi=[]\n",
    "benimString=\"Onur Gökyaka\"\n",
    "\n",
    "for harf in benimString:\n",
    "    listeOrnegi.append(harf) # tek tek harfler dönerken listeye eklediğimiz için burada listeye harf harf girdi sağladı"
   ]
  },
  {
   "cell_type": "code",
   "execution_count": 42,
   "id": "d3707c6e",
   "metadata": {},
   "outputs": [
    {
     "data": {
      "text/plain": [
       "['O', 'n', 'u', 'r', ' ', 'G', 'ö', 'k', 'y', 'a', 'k', 'a']"
      ]
     },
     "execution_count": 42,
     "metadata": {},
     "output_type": "execute_result"
    }
   ],
   "source": [
    "listeOrnegi"
   ]
  },
  {
   "cell_type": "code",
   "execution_count": 44,
   "id": "2a8f6d93",
   "metadata": {},
   "outputs": [],
   "source": [
    "yeniString=\"Onur Gökyaka\""
   ]
  },
  {
   "cell_type": "code",
   "execution_count": 45,
   "id": "01dba98a",
   "metadata": {},
   "outputs": [],
   "source": [
    "yeniListeOrnegi=[eleman for eleman in yeniString]  # yeniString içindeki elemanları elemana ekle"
   ]
  },
  {
   "cell_type": "code",
   "execution_count": 46,
   "id": "a1f07b52",
   "metadata": {},
   "outputs": [
    {
     "data": {
      "text/plain": [
       "['O', 'n', 'u', 'r', ' ', 'G', 'ö', 'k', 'y', 'a', 'k', 'a']"
      ]
     },
     "execution_count": 46,
     "metadata": {},
     "output_type": "execute_result"
    }
   ],
   "source": [
    "yeniListeOrnegi"
   ]
  },
  {
   "cell_type": "code",
   "execution_count": 47,
   "id": "d12df584",
   "metadata": {},
   "outputs": [],
   "source": [
    "ikinciListeOrnegi=[numara*5 for numara in list(range(0,10))]"
   ]
  },
  {
   "cell_type": "code",
   "execution_count": 48,
   "id": "4c92f864",
   "metadata": {},
   "outputs": [
    {
     "data": {
      "text/plain": [
       "[0, 5, 10, 15, 20, 25, 30, 35, 40, 45]"
      ]
     },
     "execution_count": 48,
     "metadata": {},
     "output_type": "execute_result"
    }
   ],
   "source": [
    "ikinciListeOrnegi"
   ]
  },
  {
   "cell_type": "code",
   "execution_count": null,
   "id": "198628b9",
   "metadata": {},
   "outputs": [],
   "source": []
  }
 ],
 "metadata": {
  "kernelspec": {
   "display_name": "Python 3",
   "language": "python",
   "name": "python3"
  },
  "language_info": {
   "codemirror_mode": {
    "name": "ipython",
    "version": 3
   },
   "file_extension": ".py",
   "mimetype": "text/x-python",
   "name": "python",
   "nbconvert_exporter": "python",
   "pygments_lexer": "ipython3",
   "version": "3.8.8"
  }
 },
 "nbformat": 4,
 "nbformat_minor": 5
}
