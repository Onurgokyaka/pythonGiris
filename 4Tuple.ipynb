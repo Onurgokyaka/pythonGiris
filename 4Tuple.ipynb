{
 "cells": [
  {
   "cell_type": "code",
   "execution_count": 12,
   "id": "e8225570",
   "metadata": {},
   "outputs": [],
   "source": [
    "# listeye çok benziyor, farkı tuple degerleri değiştirilemez\n",
    "#aynı proje de birden çok kişi çalışırsa değerler karışmasın diye \n",
    "# veri sonuçlarını yanlışlıkla değiştirmeyelim diye kullanilir vs.."
   ]
  },
  {
   "cell_type": "code",
   "execution_count": 2,
   "id": "b575967e",
   "metadata": {},
   "outputs": [],
   "source": [
    "benimListem=[1,2,\"a\",4.5]"
   ]
  },
  {
   "cell_type": "code",
   "execution_count": 3,
   "id": "253842bb",
   "metadata": {},
   "outputs": [
    {
     "data": {
      "text/plain": [
       "1"
      ]
     },
     "execution_count": 3,
     "metadata": {},
     "output_type": "execute_result"
    }
   ],
   "source": [
    "benimListem[0]"
   ]
  },
  {
   "cell_type": "code",
   "execution_count": 4,
   "id": "be8213a3",
   "metadata": {},
   "outputs": [],
   "source": [
    "benimListem[0]=100"
   ]
  },
  {
   "cell_type": "code",
   "execution_count": 5,
   "id": "8a30bffc",
   "metadata": {},
   "outputs": [
    {
     "data": {
      "text/plain": [
       "[100, 2, 'a', 4.5]"
      ]
     },
     "execution_count": 5,
     "metadata": {},
     "output_type": "execute_result"
    }
   ],
   "source": [
    "benimListem"
   ]
  },
  {
   "cell_type": "code",
   "execution_count": 6,
   "id": "cd376b51",
   "metadata": {},
   "outputs": [],
   "source": [
    "benimTuple=(1,2,\"a\",4.5)"
   ]
  },
  {
   "cell_type": "code",
   "execution_count": 7,
   "id": "2f807c65",
   "metadata": {},
   "outputs": [
    {
     "data": {
      "text/plain": [
       "(1, 2, 'a', 4.5)"
      ]
     },
     "execution_count": 7,
     "metadata": {},
     "output_type": "execute_result"
    }
   ],
   "source": [
    "benimTuple"
   ]
  },
  {
   "cell_type": "code",
   "execution_count": 8,
   "id": "40aff004",
   "metadata": {},
   "outputs": [
    {
     "data": {
      "text/plain": [
       "1"
      ]
     },
     "execution_count": 8,
     "metadata": {},
     "output_type": "execute_result"
    }
   ],
   "source": [
    "benimTuple[0]"
   ]
  },
  {
   "cell_type": "code",
   "execution_count": 10,
   "id": "0b02f7cf",
   "metadata": {},
   "outputs": [
    {
     "data": {
      "text/plain": [
       "'a'"
      ]
     },
     "execution_count": 10,
     "metadata": {},
     "output_type": "execute_result"
    }
   ],
   "source": [
    "benimTuple[2]"
   ]
  },
  {
   "cell_type": "code",
   "execution_count": 11,
   "id": "26a786d7",
   "metadata": {},
   "outputs": [],
   "source": [
    "#benimTuple[2] = \"b\""
   ]
  },
  {
   "cell_type": "code",
   "execution_count": 13,
   "id": "3423b0ca",
   "metadata": {},
   "outputs": [
    {
     "data": {
      "text/plain": [
       "1"
      ]
     },
     "execution_count": 13,
     "metadata": {},
     "output_type": "execute_result"
    }
   ],
   "source": [
    "benimTuple.count(\"a\") # a kaç tane var"
   ]
  },
  {
   "cell_type": "code",
   "execution_count": 14,
   "id": "b23dd148",
   "metadata": {},
   "outputs": [
    {
     "data": {
      "text/plain": [
       "3"
      ]
     },
     "execution_count": 14,
     "metadata": {},
     "output_type": "execute_result"
    }
   ],
   "source": [
    "benimTuple.index(4.5) # index i gösterir"
   ]
  },
  {
   "cell_type": "code",
   "execution_count": null,
   "id": "ec3c80ca",
   "metadata": {},
   "outputs": [],
   "source": []
  }
 ],
 "metadata": {
  "kernelspec": {
   "display_name": "Python 3",
   "language": "python",
   "name": "python3"
  },
  "language_info": {
   "codemirror_mode": {
    "name": "ipython",
    "version": 3
   },
   "file_extension": ".py",
   "mimetype": "text/x-python",
   "name": "python",
   "nbconvert_exporter": "python",
   "pygments_lexer": "ipython3",
   "version": "3.8.8"
  }
 },
 "nbformat": 4,
 "nbformat_minor": 5
}
