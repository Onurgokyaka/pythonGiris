{
 "cells": [
  {
   "cell_type": "code",
   "execution_count": 1,
   "id": "52495e75",
   "metadata": {},
   "outputs": [],
   "source": [
    "def bolmeIslemi(num):\n",
    "    return(num/2)"
   ]
  },
  {
   "cell_type": "code",
   "execution_count": 2,
   "id": "272cc1ab",
   "metadata": {},
   "outputs": [
    {
     "data": {
      "text/plain": [
       "10.0"
      ]
     },
     "execution_count": 2,
     "metadata": {},
     "output_type": "execute_result"
    }
   ],
   "source": [
    "bolmeIslemi(20)"
   ]
  },
  {
   "cell_type": "code",
   "execution_count": 3,
   "id": "b0e96b8c",
   "metadata": {},
   "outputs": [],
   "source": [
    "benimListem=[1,2,3,4,5,6,7,8,9,10]"
   ]
  },
  {
   "cell_type": "code",
   "execution_count": 11,
   "id": "7fac2f94",
   "metadata": {},
   "outputs": [
    {
     "name": "stdout",
     "output_type": "stream",
     "text": [
      "[0.5, 1.0, 1.5, 2.0, 2.5, 3.0, 3.5, 4.0, 4.5, 5.0]\n"
     ]
    }
   ],
   "source": [
    "yeniListe=[]\n",
    "for eleman in benimListem:\n",
    "    yeniListe.append(bolmeIslemi(eleman)) # benimListemdekilere bolmeIslemini uygula ve yeniListe'ye ekle\n",
    "print(yeniListe)"
   ]
  },
  {
   "cell_type": "markdown",
   "id": "2c58596b",
   "metadata": {},
   "source": [
    "## map"
   ]
  },
  {
   "cell_type": "code",
   "execution_count": 12,
   "id": "69a5ee1c",
   "metadata": {},
   "outputs": [
    {
     "data": {
      "text/plain": [
       "<map at 0x286654bcb50>"
      ]
     },
     "execution_count": 12,
     "metadata": {},
     "output_type": "execute_result"
    }
   ],
   "source": [
    "map(bolmeIslemi,benimListem) # bolmeIslemi fonksiyonunu benimListeme uygula ve map ini göster"
   ]
  },
  {
   "cell_type": "code",
   "execution_count": 13,
   "id": "63d421bc",
   "metadata": {},
   "outputs": [
    {
     "data": {
      "text/plain": [
       "[0.5, 1.0, 1.5, 2.0, 2.5, 3.0, 3.5, 4.0, 4.5, 5.0]"
      ]
     },
     "execution_count": 13,
     "metadata": {},
     "output_type": "execute_result"
    }
   ],
   "source": [
    "list(map(bolmeIslemi,benimListem)) # uygulamanın sonucunu listeye dök"
   ]
  },
  {
   "cell_type": "code",
   "execution_count": 14,
   "id": "816a66d1",
   "metadata": {},
   "outputs": [],
   "source": [
    "def kontrolFonksiyonu (string):\n",
    "    return \"a\" in string # stringin içinde a var mı ? sonucu döndür"
   ]
  },
  {
   "cell_type": "code",
   "execution_count": 15,
   "id": "bf845617",
   "metadata": {},
   "outputs": [
    {
     "data": {
      "text/plain": [
       "True"
      ]
     },
     "execution_count": 15,
     "metadata": {},
     "output_type": "execute_result"
    }
   ],
   "source": [
    "kontrolFonksiyonu(\"ali\")"
   ]
  },
  {
   "cell_type": "code",
   "execution_count": 16,
   "id": "1192ea45",
   "metadata": {},
   "outputs": [
    {
     "data": {
      "text/plain": [
       "False"
      ]
     },
     "execution_count": 16,
     "metadata": {},
     "output_type": "execute_result"
    }
   ],
   "source": [
    "kontrolFonksiyonu(\"zeynep\")"
   ]
  },
  {
   "cell_type": "code",
   "execution_count": 17,
   "id": "bae7dd35",
   "metadata": {},
   "outputs": [],
   "source": [
    "stringListesi=[\"atıl\",\"ali\",\"zeynep\",\"ahmet\",\"veli\"]"
   ]
  },
  {
   "cell_type": "code",
   "execution_count": 21,
   "id": "4d58b2f5",
   "metadata": {},
   "outputs": [
    {
     "data": {
      "text/plain": [
       "[True, True, False, True, False]"
      ]
     },
     "execution_count": 21,
     "metadata": {},
     "output_type": "execute_result"
    }
   ],
   "source": [
    "list(map(kontrolFonksiyonu,stringListesi))  # kontrol fonksiyonunu liste üzerinde uygulamak için kullandık"
   ]
  },
  {
   "cell_type": "code",
   "execution_count": 22,
   "id": "ae125013",
   "metadata": {},
   "outputs": [],
   "source": [
    "sonucListesi=(list(map(kontrolFonksiyonu,stringListesi)))"
   ]
  },
  {
   "cell_type": "code",
   "execution_count": 23,
   "id": "8f9f1850",
   "metadata": {},
   "outputs": [
    {
     "data": {
      "text/plain": [
       "2"
      ]
     },
     "execution_count": 23,
     "metadata": {},
     "output_type": "execute_result"
    }
   ],
   "source": [
    "sonucListesi.count(False)"
   ]
  },
  {
   "cell_type": "code",
   "execution_count": 24,
   "id": "e698998a",
   "metadata": {},
   "outputs": [
    {
     "data": {
      "text/plain": [
       "3"
      ]
     },
     "execution_count": 24,
     "metadata": {},
     "output_type": "execute_result"
    }
   ],
   "source": [
    "sonucListesi.count(True)"
   ]
  },
  {
   "cell_type": "markdown",
   "id": "ecac7bbe",
   "metadata": {},
   "source": [
    "## filter"
   ]
  },
  {
   "cell_type": "code",
   "execution_count": 25,
   "id": "e2ab1f0d",
   "metadata": {},
   "outputs": [
    {
     "data": {
      "text/plain": [
       "['atıl', 'ali', 'ahmet']"
      ]
     },
     "execution_count": 25,
     "metadata": {},
     "output_type": "execute_result"
    }
   ],
   "source": [
    "list(filter(kontrolFonksiyonu,stringListesi))  # fonksiyonu listeye uygulayıp, true olanları döndürür"
   ]
  },
  {
   "cell_type": "markdown",
   "id": "0fe70d37",
   "metadata": {},
   "source": [
    "## lambda"
   ]
  },
  {
   "cell_type": "code",
   "execution_count": 26,
   "id": "57e1bb7f",
   "metadata": {},
   "outputs": [],
   "source": [
    "carpma=lambda numara :numara*3 # fonksiyonu bu şekilde tek satırda yazabiliriz"
   ]
  },
  {
   "cell_type": "code",
   "execution_count": 27,
   "id": "87a0262b",
   "metadata": {},
   "outputs": [
    {
     "data": {
      "text/plain": [
       "60"
      ]
     },
     "execution_count": 27,
     "metadata": {},
     "output_type": "execute_result"
    }
   ],
   "source": [
    "carpma(20)"
   ]
  },
  {
   "cell_type": "code",
   "execution_count": 28,
   "id": "9c13b9e9",
   "metadata": {},
   "outputs": [],
   "source": [
    "ornekListesi=[10,20,30]"
   ]
  },
  {
   "cell_type": "code",
   "execution_count": 29,
   "id": "33002cf4",
   "metadata": {},
   "outputs": [
    {
     "data": {
      "text/plain": [
       "[40, 80, 120]"
      ]
     },
     "execution_count": 29,
     "metadata": {},
     "output_type": "execute_result"
    }
   ],
   "source": [
    "list(map(lambda numara: numara*4,ornekListesi )) # lambda sonradan kullanılmayacak fonksiyonlar için kullanışlı"
   ]
  },
  {
   "cell_type": "code",
   "execution_count": null,
   "id": "1ae4daeb",
   "metadata": {},
   "outputs": [],
   "source": []
  }
 ],
 "metadata": {
  "kernelspec": {
   "display_name": "Python 3",
   "language": "python",
   "name": "python3"
  },
  "language_info": {
   "codemirror_mode": {
    "name": "ipython",
    "version": 3
   },
   "file_extension": ".py",
   "mimetype": "text/x-python",
   "name": "python",
   "nbconvert_exporter": "python",
   "pygments_lexer": "ipython3",
   "version": "3.8.8"
  }
 },
 "nbformat": 4,
 "nbformat_minor": 5
}
