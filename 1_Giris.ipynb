{
 "cells": [
  {
   "cell_type": "code",
   "execution_count": 1,
   "id": "e3772e1a",
   "metadata": {},
   "outputs": [
    {
     "data": {
      "text/plain": [
       "9"
      ]
     },
     "execution_count": 1,
     "metadata": {},
     "output_type": "execute_result"
    }
   ],
   "source": [
    "5+4"
   ]
  },
  {
   "cell_type": "code",
   "execution_count": 2,
   "id": "049c07df",
   "metadata": {},
   "outputs": [
    {
     "data": {
      "text/plain": [
       "3500"
      ]
     },
     "execution_count": 2,
     "metadata": {},
     "output_type": "execute_result"
    }
   ],
   "source": [
    "1000+2500"
   ]
  },
  {
   "cell_type": "markdown",
   "id": "a9978952",
   "metadata": {},
   "source": [
    "## Variables(Degişkenler)"
   ]
  },
  {
   "cell_type": "code",
   "execution_count": 3,
   "id": "d9b55737",
   "metadata": {},
   "outputs": [],
   "source": [
    "x= 5"
   ]
  },
  {
   "cell_type": "code",
   "execution_count": 4,
   "id": "3211d7e7",
   "metadata": {},
   "outputs": [],
   "source": [
    "y=4"
   ]
  },
  {
   "cell_type": "code",
   "execution_count": 5,
   "id": "fa43815a",
   "metadata": {},
   "outputs": [
    {
     "data": {
      "text/plain": [
       "20"
      ]
     },
     "execution_count": 5,
     "metadata": {},
     "output_type": "execute_result"
    }
   ],
   "source": [
    "x*y"
   ]
  },
  {
   "cell_type": "code",
   "execution_count": 6,
   "id": "d6a2cba5",
   "metadata": {},
   "outputs": [
    {
     "data": {
      "text/plain": [
       "5"
      ]
     },
     "execution_count": 6,
     "metadata": {},
     "output_type": "execute_result"
    }
   ],
   "source": [
    "x"
   ]
  },
  {
   "cell_type": "code",
   "execution_count": 7,
   "id": "35cbe365",
   "metadata": {},
   "outputs": [],
   "source": [
    "x=6"
   ]
  },
  {
   "cell_type": "code",
   "execution_count": 8,
   "id": "a2b460b2",
   "metadata": {},
   "outputs": [
    {
     "data": {
      "text/plain": [
       "24"
      ]
     },
     "execution_count": 8,
     "metadata": {},
     "output_type": "execute_result"
    }
   ],
   "source": [
    "x*y"
   ]
  },
  {
   "cell_type": "code",
   "execution_count": 9,
   "id": "4766ff6d",
   "metadata": {},
   "outputs": [
    {
     "data": {
      "text/plain": [
       "40"
      ]
     },
     "execution_count": 9,
     "metadata": {},
     "output_type": "execute_result"
    }
   ],
   "source": [
    "y*10"
   ]
  },
  {
   "cell_type": "markdown",
   "id": "5dfeab00",
   "metadata": {},
   "source": [
    "## Integer"
   ]
  },
  {
   "cell_type": "code",
   "execution_count": 10,
   "id": "d9a87d20",
   "metadata": {},
   "outputs": [],
   "source": [
    "benimDegiskenim=10\n",
    "benimDigerDegiskenim=20"
   ]
  },
  {
   "cell_type": "code",
   "execution_count": 11,
   "id": "cb0b2043",
   "metadata": {},
   "outputs": [
    {
     "data": {
      "text/plain": [
       "30"
      ]
     },
     "execution_count": 11,
     "metadata": {},
     "output_type": "execute_result"
    }
   ],
   "source": [
    "benimDegiskenim+benimDigerDegiskenim"
   ]
  },
  {
   "cell_type": "code",
   "execution_count": 12,
   "id": "2a5568a0",
   "metadata": {},
   "outputs": [
    {
     "data": {
      "text/plain": [
       "int"
      ]
     },
     "execution_count": 12,
     "metadata": {},
     "output_type": "execute_result"
    }
   ],
   "source": [
    "type(benimDegiskenim)"
   ]
  },
  {
   "cell_type": "code",
   "execution_count": 13,
   "id": "abd85d20",
   "metadata": {},
   "outputs": [],
   "source": [
    "sonuc=benimDigerDegiskenim/benimDegiskenim"
   ]
  },
  {
   "cell_type": "code",
   "execution_count": 14,
   "id": "93d954f5",
   "metadata": {},
   "outputs": [
    {
     "data": {
      "text/plain": [
       "2.0"
      ]
     },
     "execution_count": 14,
     "metadata": {},
     "output_type": "execute_result"
    }
   ],
   "source": [
    "sonuc"
   ]
  },
  {
   "cell_type": "code",
   "execution_count": 15,
   "id": "504fb677",
   "metadata": {},
   "outputs": [
    {
     "data": {
      "text/plain": [
       "float"
      ]
     },
     "execution_count": 15,
     "metadata": {},
     "output_type": "execute_result"
    }
   ],
   "source": [
    "type(sonuc)"
   ]
  },
  {
   "cell_type": "code",
   "execution_count": 16,
   "id": "85b2194d",
   "metadata": {},
   "outputs": [],
   "source": [
    "a=3\n",
    "b=2"
   ]
  },
  {
   "cell_type": "code",
   "execution_count": 17,
   "id": "e01fec90",
   "metadata": {},
   "outputs": [
    {
     "data": {
      "text/plain": [
       "1.5"
      ]
     },
     "execution_count": 17,
     "metadata": {},
     "output_type": "execute_result"
    }
   ],
   "source": [
    "a/b"
   ]
  },
  {
   "cell_type": "code",
   "execution_count": 18,
   "id": "94ddef13",
   "metadata": {},
   "outputs": [],
   "source": [
    "pi=3.14"
   ]
  },
  {
   "cell_type": "code",
   "execution_count": 19,
   "id": "7f53297f",
   "metadata": {},
   "outputs": [
    {
     "data": {
      "text/plain": [
       "float"
      ]
     },
     "execution_count": 19,
     "metadata": {},
     "output_type": "execute_result"
    }
   ],
   "source": [
    "type(pi)"
   ]
  },
  {
   "cell_type": "code",
   "execution_count": 20,
   "id": "38989e85",
   "metadata": {},
   "outputs": [],
   "source": [
    "a=5"
   ]
  },
  {
   "cell_type": "code",
   "execution_count": 21,
   "id": "97358788",
   "metadata": {},
   "outputs": [
    {
     "data": {
      "text/plain": [
       "int"
      ]
     },
     "execution_count": 21,
     "metadata": {},
     "output_type": "execute_result"
    }
   ],
   "source": [
    "type(a)"
   ]
  },
  {
   "cell_type": "code",
   "execution_count": 22,
   "id": "ee9a34ea",
   "metadata": {},
   "outputs": [],
   "source": [
    "b=2.0"
   ]
  },
  {
   "cell_type": "code",
   "execution_count": 23,
   "id": "74831b0e",
   "metadata": {},
   "outputs": [
    {
     "data": {
      "text/plain": [
       "float"
      ]
     },
     "execution_count": 23,
     "metadata": {},
     "output_type": "execute_result"
    }
   ],
   "source": [
    "type(b)"
   ]
  },
  {
   "cell_type": "code",
   "execution_count": 24,
   "id": "8a3aa449",
   "metadata": {},
   "outputs": [
    {
     "data": {
      "text/plain": [
       "8.14"
      ]
     },
     "execution_count": 24,
     "metadata": {},
     "output_type": "execute_result"
    }
   ],
   "source": [
    "a+pi"
   ]
  },
  {
   "cell_type": "code",
   "execution_count": 25,
   "id": "1a0b10ba",
   "metadata": {},
   "outputs": [
    {
     "data": {
      "text/plain": [
       "15.700000000000001"
      ]
     },
     "execution_count": 25,
     "metadata": {},
     "output_type": "execute_result"
    }
   ],
   "source": [
    "a*pi"
   ]
  },
  {
   "cell_type": "code",
   "execution_count": 26,
   "id": "6931a69c",
   "metadata": {},
   "outputs": [
    {
     "data": {
      "text/plain": [
       "1.592356687898089"
      ]
     },
     "execution_count": 26,
     "metadata": {},
     "output_type": "execute_result"
    }
   ],
   "source": [
    "a/pi"
   ]
  },
  {
   "cell_type": "code",
   "execution_count": 27,
   "id": "34fe3702",
   "metadata": {},
   "outputs": [],
   "source": [
    "a=5\n",
    "b=4"
   ]
  },
  {
   "cell_type": "code",
   "execution_count": 28,
   "id": "d159542c",
   "metadata": {},
   "outputs": [],
   "source": [
    "sonuc=a+b"
   ]
  },
  {
   "cell_type": "code",
   "execution_count": 29,
   "id": "d053aa54",
   "metadata": {},
   "outputs": [
    {
     "data": {
      "text/plain": [
       "int"
      ]
     },
     "execution_count": 29,
     "metadata": {},
     "output_type": "execute_result"
    }
   ],
   "source": [
    "type(sonuc)"
   ]
  },
  {
   "cell_type": "code",
   "execution_count": 30,
   "id": "e65cd79f",
   "metadata": {},
   "outputs": [],
   "source": [
    "sonuc=a*b"
   ]
  },
  {
   "cell_type": "code",
   "execution_count": 31,
   "id": "aeaf6114",
   "metadata": {},
   "outputs": [
    {
     "data": {
      "text/plain": [
       "int"
      ]
     },
     "execution_count": 31,
     "metadata": {},
     "output_type": "execute_result"
    }
   ],
   "source": [
    "type(sonuc)"
   ]
  },
  {
   "cell_type": "code",
   "execution_count": 32,
   "id": "d6dd7485",
   "metadata": {},
   "outputs": [
    {
     "data": {
      "text/plain": [
       "1.25"
      ]
     },
     "execution_count": 32,
     "metadata": {},
     "output_type": "execute_result"
    }
   ],
   "source": [
    "a/b"
   ]
  },
  {
   "cell_type": "code",
   "execution_count": 33,
   "id": "d0cdf08b",
   "metadata": {},
   "outputs": [
    {
     "data": {
      "text/plain": [
       "float"
      ]
     },
     "execution_count": 33,
     "metadata": {},
     "output_type": "execute_result"
    }
   ],
   "source": [
    "a=5\n",
    "b=1\n",
    "sonuc=a/b\n",
    "type(sonuc)"
   ]
  },
  {
   "cell_type": "code",
   "execution_count": 34,
   "id": "e7913e44",
   "metadata": {},
   "outputs": [
    {
     "data": {
      "text/plain": [
       "5.0"
      ]
     },
     "execution_count": 34,
     "metadata": {},
     "output_type": "execute_result"
    }
   ],
   "source": [
    "sonuc"
   ]
  },
  {
   "cell_type": "markdown",
   "id": "57137d63",
   "metadata": {},
   "source": [
    "## Matematiksel İşlemler"
   ]
  },
  {
   "cell_type": "code",
   "execution_count": 35,
   "id": "3049bba9",
   "metadata": {},
   "outputs": [],
   "source": [
    "x=5 \n",
    "y=3"
   ]
  },
  {
   "cell_type": "code",
   "execution_count": 36,
   "id": "54289cca",
   "metadata": {},
   "outputs": [
    {
     "data": {
      "text/plain": [
       "150"
      ]
     },
     "execution_count": 36,
     "metadata": {},
     "output_type": "execute_result"
    }
   ],
   "source": [
    "x*y*10"
   ]
  },
  {
   "cell_type": "code",
   "execution_count": 37,
   "id": "0aa8f5e0",
   "metadata": {},
   "outputs": [
    {
     "data": {
      "text/plain": [
       "625"
      ]
     },
     "execution_count": 37,
     "metadata": {},
     "output_type": "execute_result"
    }
   ],
   "source": [
    "x*x*x*x"
   ]
  },
  {
   "cell_type": "code",
   "execution_count": 38,
   "id": "a0bc510d",
   "metadata": {},
   "outputs": [
    {
     "data": {
      "text/plain": [
       "1"
      ]
     },
     "execution_count": 38,
     "metadata": {},
     "output_type": "execute_result"
    }
   ],
   "source": [
    "x^4"
   ]
  },
  {
   "cell_type": "code",
   "execution_count": 39,
   "id": "ec5a256d",
   "metadata": {},
   "outputs": [
    {
     "data": {
      "text/plain": [
       "625"
      ]
     },
     "execution_count": 39,
     "metadata": {},
     "output_type": "execute_result"
    }
   ],
   "source": [
    "x**4"
   ]
  },
  {
   "cell_type": "code",
   "execution_count": 40,
   "id": "cfed3204",
   "metadata": {},
   "outputs": [
    {
     "data": {
      "text/plain": [
       "12"
      ]
     },
     "execution_count": 40,
     "metadata": {},
     "output_type": "execute_result"
    }
   ],
   "source": [
    "x^9"
   ]
  },
  {
   "cell_type": "code",
   "execution_count": 41,
   "id": "5bd0a68a",
   "metadata": {},
   "outputs": [
    {
     "data": {
      "text/plain": [
       "0"
      ]
     },
     "execution_count": 41,
     "metadata": {},
     "output_type": "execute_result"
    }
   ],
   "source": [
    "#Remainder- Kalanını Bulmak\n",
    "10 % 2  "
   ]
  },
  {
   "cell_type": "code",
   "execution_count": 42,
   "id": "b6c7a520",
   "metadata": {},
   "outputs": [
    {
     "data": {
      "text/plain": [
       "1"
      ]
     },
     "execution_count": 42,
     "metadata": {},
     "output_type": "execute_result"
    }
   ],
   "source": [
    "11 % 2"
   ]
  },
  {
   "cell_type": "code",
   "execution_count": 43,
   "id": "ac5a0bda",
   "metadata": {},
   "outputs": [
    {
     "data": {
      "text/plain": [
       "2"
      ]
     },
     "execution_count": 43,
     "metadata": {},
     "output_type": "execute_result"
    }
   ],
   "source": [
    "11 % 3"
   ]
  },
  {
   "cell_type": "code",
   "execution_count": 44,
   "id": "2176f1ef",
   "metadata": {},
   "outputs": [],
   "source": [
    "kullanicinin_yasi = 10"
   ]
  },
  {
   "cell_type": "markdown",
   "id": "825eb5af",
   "metadata": {},
   "source": [
    "## camelCase - snake_case "
   ]
  },
  {
   "cell_type": "code",
   "execution_count": 45,
   "id": "f20afcd2",
   "metadata": {},
   "outputs": [
    {
     "data": {
      "text/plain": [
       "16.666666666666668"
      ]
     },
     "execution_count": 45,
     "metadata": {},
     "output_type": "execute_result"
    }
   ],
   "source": [
    "kullanicinin_yasi * 5 / 3"
   ]
  },
  {
   "cell_type": "code",
   "execution_count": 46,
   "id": "a3df1ffe",
   "metadata": {},
   "outputs": [
    {
     "data": {
      "text/plain": [
       "int"
      ]
     },
     "execution_count": 46,
     "metadata": {},
     "output_type": "execute_result"
    }
   ],
   "source": [
    "type(kullanicinin_yasi)"
   ]
  },
  {
   "cell_type": "code",
   "execution_count": 47,
   "id": "2847e0aa",
   "metadata": {},
   "outputs": [
    {
     "name": "stdout",
     "output_type": "stream",
     "text": [
      "Yaşınızı Giriniz24\n"
     ]
    },
    {
     "data": {
      "text/plain": [
       "'24'"
      ]
     },
     "execution_count": 47,
     "metadata": {},
     "output_type": "execute_result"
    }
   ],
   "source": [
    "input(\"Yaşınızı Giriniz\")"
   ]
  },
  {
   "cell_type": "code",
   "execution_count": 48,
   "id": "dfae8ed7",
   "metadata": {},
   "outputs": [
    {
     "name": "stdout",
     "output_type": "stream",
     "text": [
      "Yaşınızı giriniz: 24\n"
     ]
    }
   ],
   "source": [
    "kullanicinin_yasi = input(\"Yaşınızı giriniz: \")"
   ]
  },
  {
   "cell_type": "code",
   "execution_count": 49,
   "id": "bd27ce9e",
   "metadata": {},
   "outputs": [
    {
     "data": {
      "text/plain": [
       "'24'"
      ]
     },
     "execution_count": 49,
     "metadata": {},
     "output_type": "execute_result"
    }
   ],
   "source": [
    "kullanicinin_yasi"
   ]
  },
  {
   "cell_type": "code",
   "execution_count": 50,
   "id": "cd6b8626",
   "metadata": {},
   "outputs": [
    {
     "data": {
      "text/plain": [
       "str"
      ]
     },
     "execution_count": 50,
     "metadata": {},
     "output_type": "execute_result"
    }
   ],
   "source": [
    "type(kullanicinin_yasi)"
   ]
  },
  {
   "cell_type": "code",
   "execution_count": 51,
   "id": "1385768d",
   "metadata": {},
   "outputs": [
    {
     "data": {
      "text/plain": [
       "'2424242424'"
      ]
     },
     "execution_count": 51,
     "metadata": {},
     "output_type": "execute_result"
    }
   ],
   "source": [
    "kullanicinin_yasi * 5"
   ]
  },
  {
   "cell_type": "markdown",
   "id": "9c47f9b2",
   "metadata": {},
   "source": [
    "## String"
   ]
  },
  {
   "cell_type": "code",
   "execution_count": 52,
   "id": "a099faba",
   "metadata": {},
   "outputs": [
    {
     "data": {
      "text/plain": [
       "'hello world'"
      ]
     },
     "execution_count": 52,
     "metadata": {},
     "output_type": "execute_result"
    }
   ],
   "source": [
    "\"hello world\""
   ]
  },
  {
   "cell_type": "code",
   "execution_count": 53,
   "id": "d81d4d88",
   "metadata": {},
   "outputs": [],
   "source": [
    "x=\"merhaba dünya\""
   ]
  },
  {
   "cell_type": "code",
   "execution_count": 54,
   "id": "b2f4d2fa",
   "metadata": {},
   "outputs": [],
   "source": [
    "x=10"
   ]
  },
  {
   "cell_type": "code",
   "execution_count": 55,
   "id": "32c685e2",
   "metadata": {},
   "outputs": [],
   "source": [
    "x=20.3"
   ]
  },
  {
   "cell_type": "code",
   "execution_count": 56,
   "id": "cd7b8060",
   "metadata": {},
   "outputs": [],
   "source": [
    "x= \"hello world\""
   ]
  },
  {
   "cell_type": "code",
   "execution_count": 57,
   "id": "d71a82a8",
   "metadata": {},
   "outputs": [
    {
     "data": {
      "text/plain": [
       "str"
      ]
     },
     "execution_count": 57,
     "metadata": {},
     "output_type": "execute_result"
    }
   ],
   "source": [
    "type(x)"
   ]
  },
  {
   "cell_type": "code",
   "execution_count": 58,
   "id": "32f73d13",
   "metadata": {},
   "outputs": [],
   "source": [
    "y= \"yeni string\""
   ]
  },
  {
   "cell_type": "code",
   "execution_count": 59,
   "id": "d0c8a034",
   "metadata": {},
   "outputs": [],
   "source": [
    "a=5"
   ]
  },
  {
   "cell_type": "code",
   "execution_count": 60,
   "id": "4af14670",
   "metadata": {},
   "outputs": [
    {
     "data": {
      "text/plain": [
       "'Yeni string'"
      ]
     },
     "execution_count": 60,
     "metadata": {},
     "output_type": "execute_result"
    }
   ],
   "source": [
    "y.capitalize()"
   ]
  },
  {
   "cell_type": "code",
   "execution_count": 61,
   "id": "69892d55",
   "metadata": {},
   "outputs": [
    {
     "data": {
      "text/plain": [
       "'yeni string'"
      ]
     },
     "execution_count": 61,
     "metadata": {},
     "output_type": "execute_result"
    }
   ],
   "source": [
    "y"
   ]
  },
  {
   "cell_type": "code",
   "execution_count": 62,
   "id": "3a3918c7",
   "metadata": {},
   "outputs": [
    {
     "data": {
      "text/plain": [
       "['yeni', 'string']"
      ]
     },
     "execution_count": 62,
     "metadata": {},
     "output_type": "execute_result"
    }
   ],
   "source": [
    "y.split()"
   ]
  },
  {
   "cell_type": "code",
   "execution_count": 63,
   "id": "c5423e00",
   "metadata": {},
   "outputs": [],
   "source": [
    "benim_string= \"Onur Gökyaka \""
   ]
  },
  {
   "cell_type": "code",
   "execution_count": 64,
   "id": "ff0ba040",
   "metadata": {},
   "outputs": [
    {
     "data": {
      "text/plain": [
       "'Onur Gökyaka yeni string'"
      ]
     },
     "execution_count": 64,
     "metadata": {},
     "output_type": "execute_result"
    }
   ],
   "source": [
    "benim_string +  y"
   ]
  },
  {
   "cell_type": "code",
   "execution_count": 65,
   "id": "d06d0470",
   "metadata": {},
   "outputs": [
    {
     "data": {
      "text/plain": [
       "'Onur Gökyaka Onur Gökyaka Onur Gökyaka Onur Gökyaka '"
      ]
     },
     "execution_count": 65,
     "metadata": {},
     "output_type": "execute_result"
    }
   ],
   "source": [
    "benim_string * 4 "
   ]
  },
  {
   "cell_type": "code",
   "execution_count": 66,
   "id": "588c4e05",
   "metadata": {},
   "outputs": [
    {
     "name": "stdout",
     "output_type": "stream",
     "text": [
      "Yaşınızı giriniz24\n"
     ]
    }
   ],
   "source": [
    "benimInput= input(\"Yaşınızı giriniz\")"
   ]
  },
  {
   "cell_type": "code",
   "execution_count": 67,
   "id": "af0fff73",
   "metadata": {},
   "outputs": [
    {
     "data": {
      "text/plain": [
       "str"
      ]
     },
     "execution_count": 67,
     "metadata": {},
     "output_type": "execute_result"
    }
   ],
   "source": [
    "type(benimInput)"
   ]
  },
  {
   "cell_type": "code",
   "execution_count": 68,
   "id": "ca950125",
   "metadata": {},
   "outputs": [],
   "source": [
    "benimIntInput=int(benimInput)"
   ]
  },
  {
   "cell_type": "code",
   "execution_count": 69,
   "id": "dd31b7e6",
   "metadata": {},
   "outputs": [
    {
     "data": {
      "text/plain": [
       "24"
      ]
     },
     "execution_count": 69,
     "metadata": {},
     "output_type": "execute_result"
    }
   ],
   "source": [
    "benimIntInput"
   ]
  },
  {
   "cell_type": "code",
   "execution_count": 70,
   "id": "3a0c6888",
   "metadata": {},
   "outputs": [
    {
     "data": {
      "text/plain": [
       "40.0"
      ]
     },
     "execution_count": 70,
     "metadata": {},
     "output_type": "execute_result"
    }
   ],
   "source": [
    "benimIntInput / 3 * 5"
   ]
  },
  {
   "cell_type": "code",
   "execution_count": 71,
   "id": "5808d921",
   "metadata": {},
   "outputs": [],
   "source": [
    "k= \" Gökyaka\""
   ]
  },
  {
   "cell_type": "code",
   "execution_count": 72,
   "id": "85b1f9ed",
   "metadata": {},
   "outputs": [
    {
     "data": {
      "text/plain": [
       "8"
      ]
     },
     "execution_count": 72,
     "metadata": {},
     "output_type": "execute_result"
    }
   ],
   "source": [
    "len(k)"
   ]
  },
  {
   "cell_type": "code",
   "execution_count": 73,
   "id": "0a8bcb5a",
   "metadata": {},
   "outputs": [
    {
     "name": "stdout",
     "output_type": "stream",
     "text": [
      "merhaba python \n"
     ]
    }
   ],
   "source": [
    "print(\"merhaba python \")"
   ]
  },
  {
   "cell_type": "code",
   "execution_count": 74,
   "id": "4fb12317",
   "metadata": {},
   "outputs": [
    {
     "name": "stdout",
     "output_type": "stream",
     "text": [
      "merhaba \n",
      "python \n"
     ]
    }
   ],
   "source": [
    "print(\"merhaba \\npython \")"
   ]
  },
  {
   "cell_type": "code",
   "execution_count": 75,
   "id": "c8e355da",
   "metadata": {},
   "outputs": [],
   "source": [
    "isimString= \"Onur Gökyaka \""
   ]
  },
  {
   "cell_type": "code",
   "execution_count": 76,
   "id": "8ee61e87",
   "metadata": {},
   "outputs": [
    {
     "data": {
      "text/plain": [
       "'Onur Gökyaka '"
      ]
     },
     "execution_count": 76,
     "metadata": {},
     "output_type": "execute_result"
    }
   ],
   "source": [
    "isimString"
   ]
  },
  {
   "cell_type": "markdown",
   "id": "6d85c8f3",
   "metadata": {},
   "source": [
    "## Index"
   ]
  },
  {
   "cell_type": "code",
   "execution_count": 77,
   "id": "d15fc836",
   "metadata": {},
   "outputs": [
    {
     "data": {
      "text/plain": [
       "'O'"
      ]
     },
     "execution_count": 77,
     "metadata": {},
     "output_type": "execute_result"
    }
   ],
   "source": [
    "isimString[0]"
   ]
  },
  {
   "cell_type": "code",
   "execution_count": 78,
   "id": "a7da9e29",
   "metadata": {},
   "outputs": [
    {
     "data": {
      "text/plain": [
       "'k'"
      ]
     },
     "execution_count": 78,
     "metadata": {},
     "output_type": "execute_result"
    }
   ],
   "source": [
    "isimString[7]"
   ]
  },
  {
   "cell_type": "code",
   "execution_count": 79,
   "id": "c423e545",
   "metadata": {},
   "outputs": [
    {
     "data": {
      "text/plain": [
       "' '"
      ]
     },
     "execution_count": 79,
     "metadata": {},
     "output_type": "execute_result"
    }
   ],
   "source": [
    "isimString[-1]"
   ]
  },
  {
   "cell_type": "code",
   "execution_count": 80,
   "id": "ee110b63",
   "metadata": {},
   "outputs": [
    {
     "data": {
      "text/plain": [
       "'a'"
      ]
     },
     "execution_count": 80,
     "metadata": {},
     "output_type": "execute_result"
    }
   ],
   "source": [
    "isimString[-2]"
   ]
  },
  {
   "cell_type": "code",
   "execution_count": 81,
   "id": "261f4ddb",
   "metadata": {},
   "outputs": [],
   "source": [
    "yeniString=\"01234567\""
   ]
  },
  {
   "cell_type": "code",
   "execution_count": 82,
   "id": "f557a71c",
   "metadata": {},
   "outputs": [
    {
     "data": {
      "text/plain": [
       "'5'"
      ]
     },
     "execution_count": 82,
     "metadata": {},
     "output_type": "execute_result"
    }
   ],
   "source": [
    "yeniString[5]"
   ]
  },
  {
   "cell_type": "code",
   "execution_count": 83,
   "id": "5bc85717",
   "metadata": {},
   "outputs": [
    {
     "data": {
      "text/plain": [
       "str"
      ]
     },
     "execution_count": 83,
     "metadata": {},
     "output_type": "execute_result"
    }
   ],
   "source": [
    "type(yeniString[5])"
   ]
  },
  {
   "cell_type": "code",
   "execution_count": 84,
   "id": "50469dba",
   "metadata": {},
   "outputs": [
    {
     "data": {
      "text/plain": [
       "'234567'"
      ]
     },
     "execution_count": 84,
     "metadata": {},
     "output_type": "execute_result"
    }
   ],
   "source": [
    "yeniString[2:]"
   ]
  },
  {
   "cell_type": "code",
   "execution_count": 85,
   "id": "434f63cf",
   "metadata": {},
   "outputs": [],
   "source": [
    "harfString=\"abcdefgh\""
   ]
  },
  {
   "cell_type": "code",
   "execution_count": 86,
   "id": "fd4dd8f7",
   "metadata": {},
   "outputs": [
    {
     "data": {
      "text/plain": [
       "'cdefgh'"
      ]
     },
     "execution_count": 86,
     "metadata": {},
     "output_type": "execute_result"
    }
   ],
   "source": [
    "harfString[2:]"
   ]
  },
  {
   "cell_type": "code",
   "execution_count": 87,
   "id": "7208d07e",
   "metadata": {},
   "outputs": [
    {
     "data": {
      "text/plain": [
       "'abc'"
      ]
     },
     "execution_count": 87,
     "metadata": {},
     "output_type": "execute_result"
    }
   ],
   "source": [
    "harfString[:3]"
   ]
  },
  {
   "cell_type": "markdown",
   "id": "424b1e96",
   "metadata": {},
   "source": [
    "## Slicing (kesmek)"
   ]
  },
  {
   "cell_type": "code",
   "execution_count": 88,
   "id": "675c6576",
   "metadata": {},
   "outputs": [],
   "source": [
    "gelenVeri= \"AhmetinYasi65\""
   ]
  },
  {
   "cell_type": "code",
   "execution_count": 89,
   "id": "10c94ba6",
   "metadata": {},
   "outputs": [
    {
     "data": {
      "text/plain": [
       "'Ah'"
      ]
     },
     "execution_count": 89,
     "metadata": {},
     "output_type": "execute_result"
    }
   ],
   "source": [
    "gelenVeri[:2]"
   ]
  },
  {
   "cell_type": "code",
   "execution_count": 90,
   "id": "5162769f",
   "metadata": {},
   "outputs": [
    {
     "data": {
      "text/plain": [
       "'65'"
      ]
     },
     "execution_count": 90,
     "metadata": {},
     "output_type": "execute_result"
    }
   ],
   "source": [
    "gelenVeri[-2:]"
   ]
  },
  {
   "cell_type": "code",
   "execution_count": 91,
   "id": "dc9f7bdb",
   "metadata": {},
   "outputs": [
    {
     "data": {
      "text/plain": [
       "'AhmetinYasi'"
      ]
     },
     "execution_count": 91,
     "metadata": {},
     "output_type": "execute_result"
    }
   ],
   "source": [
    "gelenVeri[:-2]"
   ]
  },
  {
   "cell_type": "code",
   "execution_count": 92,
   "id": "a42640b9",
   "metadata": {},
   "outputs": [
    {
     "data": {
      "text/plain": [
       "'me'"
      ]
     },
     "execution_count": 92,
     "metadata": {},
     "output_type": "execute_result"
    }
   ],
   "source": [
    "gelenVeri[2:4]"
   ]
  },
  {
   "cell_type": "code",
   "execution_count": 93,
   "id": "12a9ac17",
   "metadata": {},
   "outputs": [],
   "source": [
    "#Step Size"
   ]
  },
  {
   "cell_type": "code",
   "execution_count": 94,
   "id": "a310b724",
   "metadata": {},
   "outputs": [
    {
     "data": {
      "text/plain": [
       "'Amtnai5'"
      ]
     },
     "execution_count": 94,
     "metadata": {},
     "output_type": "execute_result"
    }
   ],
   "source": [
    "gelenVeri[::2]"
   ]
  },
  {
   "cell_type": "code",
   "execution_count": 95,
   "id": "c606ee46",
   "metadata": {},
   "outputs": [
    {
     "data": {
      "text/plain": [
       "'Aens5'"
      ]
     },
     "execution_count": 95,
     "metadata": {},
     "output_type": "execute_result"
    }
   ],
   "source": [
    "gelenVeri[::3]"
   ]
  },
  {
   "cell_type": "code",
   "execution_count": 96,
   "id": "7b3ad15f",
   "metadata": {},
   "outputs": [
    {
     "data": {
      "text/plain": [
       "'htY'"
      ]
     },
     "execution_count": 96,
     "metadata": {},
     "output_type": "execute_result"
    }
   ],
   "source": [
    "gelenVeri[1:10:3]"
   ]
  },
  {
   "cell_type": "code",
   "execution_count": 97,
   "id": "579146a3",
   "metadata": {},
   "outputs": [
    {
     "data": {
      "text/plain": [
       "'56isaYnitemhA'"
      ]
     },
     "execution_count": 97,
     "metadata": {},
     "output_type": "execute_result"
    }
   ],
   "source": [
    "gelenVeri[::-1]"
   ]
  },
  {
   "cell_type": "code",
   "execution_count": 98,
   "id": "48641e30",
   "metadata": {},
   "outputs": [],
   "source": [
    "benimIsmim=\"onur\""
   ]
  },
  {
   "cell_type": "code",
   "execution_count": 99,
   "id": "44475183",
   "metadata": {},
   "outputs": [
    {
     "data": {
      "text/plain": [
       "'Onur'"
      ]
     },
     "execution_count": 99,
     "metadata": {},
     "output_type": "execute_result"
    }
   ],
   "source": [
    "benimIsmim.capitalize()"
   ]
  },
  {
   "cell_type": "code",
   "execution_count": 100,
   "id": "b3d2e12b",
   "metadata": {},
   "outputs": [
    {
     "data": {
      "text/plain": [
       "'onur'"
      ]
     },
     "execution_count": 100,
     "metadata": {},
     "output_type": "execute_result"
    }
   ],
   "source": [
    "benimIsmim"
   ]
  },
  {
   "cell_type": "code",
   "execution_count": 101,
   "id": "52696814",
   "metadata": {},
   "outputs": [],
   "source": [
    "benimYeniIsmim=benimIsmim.capitalize()"
   ]
  },
  {
   "cell_type": "code",
   "execution_count": 102,
   "id": "a0b3f85e",
   "metadata": {},
   "outputs": [
    {
     "data": {
      "text/plain": [
       "'Onur'"
      ]
     },
     "execution_count": 102,
     "metadata": {},
     "output_type": "execute_result"
    }
   ],
   "source": [
    "benimYeniIsmim"
   ]
  },
  {
   "cell_type": "code",
   "execution_count": 103,
   "id": "d1547c1c",
   "metadata": {},
   "outputs": [],
   "source": [
    "benimTamIsmim=\"Onur Gökyaka\""
   ]
  },
  {
   "cell_type": "code",
   "execution_count": 104,
   "id": "bf413d5b",
   "metadata": {},
   "outputs": [
    {
     "data": {
      "text/plain": [
       "['Onur', 'Gökyaka']"
      ]
     },
     "execution_count": 104,
     "metadata": {},
     "output_type": "execute_result"
    }
   ],
   "source": [
    "benimTamIsmim.split()"
   ]
  },
  {
   "cell_type": "code",
   "execution_count": 105,
   "id": "205dee96",
   "metadata": {},
   "outputs": [
    {
     "data": {
      "text/plain": [
       "list"
      ]
     },
     "execution_count": 105,
     "metadata": {},
     "output_type": "execute_result"
    }
   ],
   "source": [
    "type(benimTamIsmim.split())"
   ]
  },
  {
   "cell_type": "code",
   "execution_count": 106,
   "id": "0a4537af",
   "metadata": {},
   "outputs": [],
   "source": [
    "listeler=benimTamIsmim.split()"
   ]
  },
  {
   "cell_type": "code",
   "execution_count": 107,
   "id": "d1e9009a",
   "metadata": {},
   "outputs": [
    {
     "data": {
      "text/plain": [
       "['Onur', 'Gökyaka']"
      ]
     },
     "execution_count": 107,
     "metadata": {},
     "output_type": "execute_result"
    }
   ],
   "source": [
    "listeler"
   ]
  },
  {
   "cell_type": "code",
   "execution_count": 108,
   "id": "1890ae2a",
   "metadata": {},
   "outputs": [
    {
     "data": {
      "text/plain": [
       "'Onur'"
      ]
     },
     "execution_count": 108,
     "metadata": {},
     "output_type": "execute_result"
    }
   ],
   "source": [
    "listeler[0]"
   ]
  },
  {
   "cell_type": "code",
   "execution_count": 109,
   "id": "d39aa63c",
   "metadata": {},
   "outputs": [
    {
     "data": {
      "text/plain": [
       "'ONUR GÖKYAKA'"
      ]
     },
     "execution_count": 109,
     "metadata": {},
     "output_type": "execute_result"
    }
   ],
   "source": [
    "benimTamIsmim.upper()"
   ]
  },
  {
   "cell_type": "code",
   "execution_count": 110,
   "id": "46035cd3",
   "metadata": {},
   "outputs": [
    {
     "data": {
      "text/plain": [
       "'onuronuronuronuronuronuronuronuronuronur'"
      ]
     },
     "execution_count": 110,
     "metadata": {},
     "output_type": "execute_result"
    }
   ],
   "source": [
    "benimIsmim*10"
   ]
  },
  {
   "cell_type": "code",
   "execution_count": 111,
   "id": "c65e12dc",
   "metadata": {},
   "outputs": [
    {
     "data": {
      "text/plain": [
       "'onur GöKYaKa'"
      ]
     },
     "execution_count": 111,
     "metadata": {},
     "output_type": "execute_result"
    }
   ],
   "source": [
    "benimIsmim+\" GöKYaKa\""
   ]
  },
  {
   "cell_type": "code",
   "execution_count": 112,
   "id": "795abc3a",
   "metadata": {},
   "outputs": [],
   "source": [
    "benimSoyismim= \"gökyaka\""
   ]
  },
  {
   "cell_type": "code",
   "execution_count": 113,
   "id": "0a81bc34",
   "metadata": {},
   "outputs": [
    {
     "data": {
      "text/plain": [
       "'onur  gökyaka'"
      ]
     },
     "execution_count": 113,
     "metadata": {},
     "output_type": "execute_result"
    }
   ],
   "source": [
    "benimIsmim+\"  \"+ benimSoyismim"
   ]
  },
  {
   "cell_type": "code",
   "execution_count": 114,
   "id": "983bf899",
   "metadata": {},
   "outputs": [
    {
     "data": {
      "text/plain": [
       "'510'"
      ]
     },
     "execution_count": 114,
     "metadata": {},
     "output_type": "execute_result"
    }
   ],
   "source": [
    "j=\"5\"\n",
    "k=\"10\"\n",
    "j+k"
   ]
  },
  {
   "cell_type": "markdown",
   "id": "11ed51cb",
   "metadata": {},
   "source": [
    "## Listeler"
   ]
  },
  {
   "cell_type": "code",
   "execution_count": 115,
   "id": "97d8032e",
   "metadata": {},
   "outputs": [],
   "source": [
    "benimString=\"Onur Gökyaka\""
   ]
  },
  {
   "cell_type": "code",
   "execution_count": 116,
   "id": "b552c910",
   "metadata": {},
   "outputs": [
    {
     "data": {
      "text/plain": [
       "'O'"
      ]
     },
     "execution_count": 116,
     "metadata": {},
     "output_type": "execute_result"
    }
   ],
   "source": [
    "benimString[0]"
   ]
  },
  {
   "cell_type": "code",
   "execution_count": 117,
   "id": "23b0c286",
   "metadata": {},
   "outputs": [],
   "source": [
    "# inmutability & mutable"
   ]
  },
  {
   "cell_type": "code",
   "execution_count": 118,
   "id": "dc2132c3",
   "metadata": {},
   "outputs": [],
   "source": [
    "#benimString[0] =\"B\"  "
   ]
  },
  {
   "cell_type": "code",
   "execution_count": 119,
   "id": "893b6b39",
   "metadata": {},
   "outputs": [],
   "source": [
    "benimListem = (10,20,30,40)"
   ]
  },
  {
   "cell_type": "code",
   "execution_count": 120,
   "id": "917f84c8",
   "metadata": {},
   "outputs": [
    {
     "data": {
      "text/plain": [
       "tuple"
      ]
     },
     "execution_count": 120,
     "metadata": {},
     "output_type": "execute_result"
    }
   ],
   "source": [
    "type(benimListem)"
   ]
  },
  {
   "cell_type": "code",
   "execution_count": 121,
   "id": "5153b509",
   "metadata": {},
   "outputs": [],
   "source": [
    "benimListem2=[10,20,30,40]"
   ]
  },
  {
   "cell_type": "code",
   "execution_count": 122,
   "id": "d65dc7d3",
   "metadata": {},
   "outputs": [
    {
     "data": {
      "text/plain": [
       "list"
      ]
     },
     "execution_count": 122,
     "metadata": {},
     "output_type": "execute_result"
    }
   ],
   "source": [
    "type(benimListem2)"
   ]
  },
  {
   "cell_type": "code",
   "execution_count": 123,
   "id": "cc8c3017",
   "metadata": {},
   "outputs": [],
   "source": [
    "benimNumaram=10\n",
    "benimDigerNumaram=20"
   ]
  },
  {
   "cell_type": "code",
   "execution_count": 124,
   "id": "55ba9989",
   "metadata": {},
   "outputs": [],
   "source": [
    "benimNumaraListem=[benimNumaram,benimDigerNumaram]"
   ]
  },
  {
   "cell_type": "code",
   "execution_count": 125,
   "id": "63c6dc40",
   "metadata": {},
   "outputs": [
    {
     "data": {
      "text/plain": [
       "[10, 20]"
      ]
     },
     "execution_count": 125,
     "metadata": {},
     "output_type": "execute_result"
    }
   ],
   "source": [
    "benimNumaraListem"
   ]
  },
  {
   "cell_type": "code",
   "execution_count": 126,
   "id": "394e0874",
   "metadata": {},
   "outputs": [
    {
     "data": {
      "text/plain": [
       "40"
      ]
     },
     "execution_count": 126,
     "metadata": {},
     "output_type": "execute_result"
    }
   ],
   "source": [
    "benimListem[3]"
   ]
  },
  {
   "cell_type": "code",
   "execution_count": 127,
   "id": "1b98c2bd",
   "metadata": {},
   "outputs": [
    {
     "data": {
      "text/plain": [
       "10"
      ]
     },
     "execution_count": 127,
     "metadata": {},
     "output_type": "execute_result"
    }
   ],
   "source": [
    "benimNumaraListem[0]"
   ]
  },
  {
   "cell_type": "code",
   "execution_count": 128,
   "id": "e7c27b01",
   "metadata": {},
   "outputs": [
    {
     "data": {
      "text/plain": [
       "[10, 20, 30, 40]"
      ]
     },
     "execution_count": 128,
     "metadata": {},
     "output_type": "execute_result"
    }
   ],
   "source": [
    "benimListem2\n"
   ]
  },
  {
   "cell_type": "code",
   "execution_count": 129,
   "id": "995fd0e0",
   "metadata": {},
   "outputs": [],
   "source": [
    "benimListem2[0] = 100"
   ]
  },
  {
   "cell_type": "code",
   "execution_count": 130,
   "id": "49712cf3",
   "metadata": {},
   "outputs": [
    {
     "data": {
      "text/plain": [
       "[100, 20, 30, 40]"
      ]
     },
     "execution_count": 130,
     "metadata": {},
     "output_type": "execute_result"
    }
   ],
   "source": [
    "benimListem2"
   ]
  },
  {
   "cell_type": "code",
   "execution_count": 131,
   "id": "469b5efc",
   "metadata": {},
   "outputs": [],
   "source": [
    "benimListem2.append(50)"
   ]
  },
  {
   "cell_type": "code",
   "execution_count": 132,
   "id": "3c7411ed",
   "metadata": {},
   "outputs": [
    {
     "data": {
      "text/plain": [
       "[100, 20, 30, 40, 50]"
      ]
     },
     "execution_count": 132,
     "metadata": {},
     "output_type": "execute_result"
    }
   ],
   "source": [
    "benimListem2"
   ]
  },
  {
   "cell_type": "code",
   "execution_count": 133,
   "id": "f5ee2a28",
   "metadata": {},
   "outputs": [
    {
     "data": {
      "text/plain": [
       "50"
      ]
     },
     "execution_count": 133,
     "metadata": {},
     "output_type": "execute_result"
    }
   ],
   "source": [
    "benimListem2.pop()"
   ]
  },
  {
   "cell_type": "code",
   "execution_count": 134,
   "id": "95be4485",
   "metadata": {},
   "outputs": [
    {
     "data": {
      "text/plain": [
       "[100, 20, 30, 40]"
      ]
     },
     "execution_count": 134,
     "metadata": {},
     "output_type": "execute_result"
    }
   ],
   "source": [
    "benimListem2"
   ]
  },
  {
   "cell_type": "code",
   "execution_count": 135,
   "id": "4f769cea",
   "metadata": {},
   "outputs": [],
   "source": [
    "benimListem2.remove(40)"
   ]
  },
  {
   "cell_type": "code",
   "execution_count": 136,
   "id": "1f47027b",
   "metadata": {},
   "outputs": [
    {
     "data": {
      "text/plain": [
       "[100, 20, 30]"
      ]
     },
     "execution_count": 136,
     "metadata": {},
     "output_type": "execute_result"
    }
   ],
   "source": [
    "benimListem2"
   ]
  },
  {
   "cell_type": "code",
   "execution_count": 137,
   "id": "de60e2f5",
   "metadata": {},
   "outputs": [
    {
     "data": {
      "text/plain": [
       "0"
      ]
     },
     "execution_count": 137,
     "metadata": {},
     "output_type": "execute_result"
    }
   ],
   "source": [
    "benimListem2.count(10)"
   ]
  },
  {
   "cell_type": "code",
   "execution_count": 138,
   "id": "217985ab",
   "metadata": {},
   "outputs": [
    {
     "data": {
      "text/plain": [
       "1"
      ]
     },
     "execution_count": 138,
     "metadata": {},
     "output_type": "execute_result"
    }
   ],
   "source": [
    "benimListem2.count(100)"
   ]
  },
  {
   "cell_type": "code",
   "execution_count": 139,
   "id": "580f7f83",
   "metadata": {},
   "outputs": [
    {
     "data": {
      "text/plain": [
       "'Onur Gökyaka'"
      ]
     },
     "execution_count": 139,
     "metadata": {},
     "output_type": "execute_result"
    }
   ],
   "source": [
    "benimString"
   ]
  },
  {
   "cell_type": "code",
   "execution_count": 141,
   "id": "c84c6737",
   "metadata": {},
   "outputs": [],
   "source": [
    "benimStringListem=(\"onur\",\"ali\",\"gökyaka\")"
   ]
  },
  {
   "cell_type": "code",
   "execution_count": 142,
   "id": "6f42fe79",
   "metadata": {},
   "outputs": [],
   "source": [
    "benimDigerListem = (\"mehmet\",\"mahmut\",\"mahir\")"
   ]
  },
  {
   "cell_type": "code",
   "execution_count": 153,
   "id": "acfff96a",
   "metadata": {},
   "outputs": [],
   "source": [
    "benimToplamaListem= benimStringListem+benimDigerListem"
   ]
  },
  {
   "cell_type": "code",
   "execution_count": 154,
   "id": "ae241346",
   "metadata": {},
   "outputs": [
    {
     "data": {
      "text/plain": [
       "('onur', 'ali', 'gökyaka', 'mehmet', 'mahmut', 'mahir')"
      ]
     },
     "execution_count": 154,
     "metadata": {},
     "output_type": "execute_result"
    }
   ],
   "source": [
    "benimToplamaListem"
   ]
  },
  {
   "cell_type": "code",
   "execution_count": 145,
   "id": "9aedb5a5",
   "metadata": {},
   "outputs": [
    {
     "data": {
      "text/plain": [
       "('onur',\n",
       " 'ali',\n",
       " 'gökyaka',\n",
       " 'onur',\n",
       " 'ali',\n",
       " 'gökyaka',\n",
       " 'onur',\n",
       " 'ali',\n",
       " 'gökyaka',\n",
       " 'onur',\n",
       " 'ali',\n",
       " 'gökyaka',\n",
       " 'onur',\n",
       " 'ali',\n",
       " 'gökyaka')"
      ]
     },
     "execution_count": 145,
     "metadata": {},
     "output_type": "execute_result"
    }
   ],
   "source": [
    "benimStringListem*5"
   ]
  },
  {
   "cell_type": "code",
   "execution_count": 146,
   "id": "d47f4ffe",
   "metadata": {},
   "outputs": [
    {
     "data": {
      "text/plain": [
       "('onur', 'ali', 'gökyaka', 'mehmet', 'mahmut', 'mahir')"
      ]
     },
     "execution_count": 146,
     "metadata": {},
     "output_type": "execute_result"
    }
   ],
   "source": [
    "benimToplamaListem"
   ]
  },
  {
   "cell_type": "code",
   "execution_count": 159,
   "id": "36793156",
   "metadata": {},
   "outputs": [],
   "source": [
    "aList =list(benimToplamaListem) # benim toplama listem tuple olduğu için listeye çevirip tersini aldık"
   ]
  },
  {
   "cell_type": "code",
   "execution_count": 157,
   "id": "717606af",
   "metadata": {},
   "outputs": [],
   "source": [
    "aList.reverse()"
   ]
  },
  {
   "cell_type": "code",
   "execution_count": 158,
   "id": "172bfc09",
   "metadata": {},
   "outputs": [
    {
     "data": {
      "text/plain": [
       "['mahir', 'mahmut', 'mehmet', 'gökyaka', 'ali', 'onur']"
      ]
     },
     "execution_count": 158,
     "metadata": {},
     "output_type": "execute_result"
    }
   ],
   "source": [
    "aList"
   ]
  },
  {
   "cell_type": "code",
   "execution_count": 163,
   "id": "cd404e4e",
   "metadata": {},
   "outputs": [
    {
     "data": {
      "text/plain": [
       "list"
      ]
     },
     "execution_count": 163,
     "metadata": {},
     "output_type": "execute_result"
    }
   ],
   "source": [
    "type (aList)"
   ]
  },
  {
   "cell_type": "code",
   "execution_count": 164,
   "id": "046e425d",
   "metadata": {},
   "outputs": [
    {
     "data": {
      "text/plain": [
       "tuple"
      ]
     },
     "execution_count": 164,
     "metadata": {},
     "output_type": "execute_result"
    }
   ],
   "source": [
    "type(benimToplamaListem)"
   ]
  },
  {
   "cell_type": "code",
   "execution_count": 165,
   "id": "e88f8196",
   "metadata": {},
   "outputs": [],
   "source": [
    "karisikListe= [1,2,3.5,\"onur\",9]"
   ]
  },
  {
   "cell_type": "code",
   "execution_count": 166,
   "id": "08c09a82",
   "metadata": {},
   "outputs": [
    {
     "data": {
      "text/plain": [
       "list"
      ]
     },
     "execution_count": 166,
     "metadata": {},
     "output_type": "execute_result"
    }
   ],
   "source": [
    "type(karisikListe)"
   ]
  },
  {
   "cell_type": "code",
   "execution_count": 172,
   "id": "d55bb5f6",
   "metadata": {},
   "outputs": [
    {
     "data": {
      "text/plain": [
       "3.5"
      ]
     },
     "execution_count": 172,
     "metadata": {},
     "output_type": "execute_result"
    }
   ],
   "source": [
    "sonucum=karisikListe[2]\n",
    "karisikListe[2]"
   ]
  },
  {
   "cell_type": "code",
   "execution_count": 173,
   "id": "d13a3ed1",
   "metadata": {},
   "outputs": [
    {
     "data": {
      "text/plain": [
       "float"
      ]
     },
     "execution_count": 173,
     "metadata": {},
     "output_type": "execute_result"
    }
   ],
   "source": [
    "type(sonucum)"
   ]
  },
  {
   "cell_type": "code",
   "execution_count": 189,
   "id": "b2125181",
   "metadata": {},
   "outputs": [],
   "source": [
    "nestedList= [1,5,\"onur\",4,[6,\"z\",3.4]] # liste icine liste yerleştirdik"
   ]
  },
  {
   "cell_type": "markdown",
   "id": "e75287a7",
   "metadata": {},
   "source": [
    "# Liste icindeki listeden z karakterini cekmek"
   ]
  },
  {
   "cell_type": "code",
   "execution_count": 199,
   "id": "ba3ec471",
   "metadata": {},
   "outputs": [
    {
     "data": {
      "text/plain": [
       "'z'"
      ]
     },
     "execution_count": 199,
     "metadata": {},
     "output_type": "execute_result"
    }
   ],
   "source": [
    "type(nestedList[4])\n",
    "a=nestedList[4]\n",
    "type(a)\n",
    "b=a[1]\n",
    "b"
   ]
  },
  {
   "cell_type": "code",
   "execution_count": null,
   "id": "e179fe14",
   "metadata": {},
   "outputs": [],
   "source": [
    "type(nestedList[4])"
   ]
  },
  {
   "cell_type": "code",
   "execution_count": 193,
   "id": "4b955cb2",
   "metadata": {},
   "outputs": [],
   "source": [
    "a=nestedList[4]"
   ]
  },
  {
   "cell_type": "code",
   "execution_count": 194,
   "id": "06bf5d7b",
   "metadata": {},
   "outputs": [
    {
     "data": {
      "text/plain": [
       "list"
      ]
     },
     "execution_count": 194,
     "metadata": {},
     "output_type": "execute_result"
    }
   ],
   "source": [
    "type(a)"
   ]
  },
  {
   "cell_type": "code",
   "execution_count": 197,
   "id": "cbc4e620",
   "metadata": {},
   "outputs": [],
   "source": [
    "b=a[1]"
   ]
  },
  {
   "cell_type": "code",
   "execution_count": 198,
   "id": "8413292a",
   "metadata": {},
   "outputs": [
    {
     "data": {
      "text/plain": [
       "'z'"
      ]
     },
     "execution_count": 198,
     "metadata": {},
     "output_type": "execute_result"
    }
   ],
   "source": [
    "b"
   ]
  },
  {
   "cell_type": "markdown",
   "id": "e63dcb93",
   "metadata": {},
   "source": [
    "# 2. ve kullanışlı olan yol"
   ]
  },
  {
   "cell_type": "code",
   "execution_count": 206,
   "id": "a2138001",
   "metadata": {},
   "outputs": [],
   "source": [
    "zDegiskeniniBul=nestedList[4][1]"
   ]
  },
  {
   "cell_type": "code",
   "execution_count": 207,
   "id": "bb971af6",
   "metadata": {},
   "outputs": [
    {
     "data": {
      "text/plain": [
       "'z'"
      ]
     },
     "execution_count": 207,
     "metadata": {},
     "output_type": "execute_result"
    }
   ],
   "source": [
    "zDegiskeniniBul"
   ]
  },
  {
   "cell_type": "code",
   "execution_count": 211,
   "id": "b574696a",
   "metadata": {},
   "outputs": [],
   "source": [
    "karmasikListe=[[1,2,3,[\"a\",\"b\"],50],40,20,[\"z\",5.5],[3,[\"a\"]]]"
   ]
  },
  {
   "cell_type": "code",
   "execution_count": 218,
   "id": "e0fe9982",
   "metadata": {},
   "outputs": [],
   "source": [
    "bSayisi=karmasikListe[0][3][1]"
   ]
  },
  {
   "cell_type": "code",
   "execution_count": 219,
   "id": "ff2c3336",
   "metadata": {},
   "outputs": [
    {
     "data": {
      "text/plain": [
       "'b'"
      ]
     },
     "execution_count": 219,
     "metadata": {},
     "output_type": "execute_result"
    }
   ],
   "source": [
    "bSayisi"
   ]
  },
  {
   "cell_type": "code",
   "execution_count": 222,
   "id": "c2da8d45",
   "metadata": {},
   "outputs": [
    {
     "data": {
      "text/plain": [
       "'z'"
      ]
     },
     "execution_count": 222,
     "metadata": {},
     "output_type": "execute_result"
    }
   ],
   "source": [
    "karmasikListe[3][0]"
   ]
  },
  {
   "cell_type": "code",
   "execution_count": 225,
   "id": "0df920d6",
   "metadata": {},
   "outputs": [
    {
     "data": {
      "text/plain": [
       "['a']"
      ]
     },
     "execution_count": 225,
     "metadata": {},
     "output_type": "execute_result"
    }
   ],
   "source": [
    "karmasikListe[4][1]"
   ]
  },
  {
   "cell_type": "code",
   "execution_count": 226,
   "id": "82b600f0",
   "metadata": {},
   "outputs": [
    {
     "data": {
      "text/plain": [
       "40"
      ]
     },
     "execution_count": 226,
     "metadata": {},
     "output_type": "execute_result"
    }
   ],
   "source": [
    "karmasikListe[1]"
   ]
  },
  {
   "cell_type": "code",
   "execution_count": 227,
   "id": "5201595b",
   "metadata": {},
   "outputs": [
    {
     "data": {
      "text/plain": [
       "5.5"
      ]
     },
     "execution_count": 227,
     "metadata": {},
     "output_type": "execute_result"
    }
   ],
   "source": [
    "karmasikListe[3][1]"
   ]
  },
  {
   "cell_type": "code",
   "execution_count": 228,
   "id": "b29bea13",
   "metadata": {},
   "outputs": [
    {
     "data": {
      "text/plain": [
       "[1, 5, 'onur', 4, [6, 'z', 3.4]]"
      ]
     },
     "execution_count": 228,
     "metadata": {},
     "output_type": "execute_result"
    }
   ],
   "source": [
    "nestedList"
   ]
  },
  {
   "cell_type": "code",
   "execution_count": 229,
   "id": "81aad002",
   "metadata": {},
   "outputs": [
    {
     "data": {
      "text/plain": [
       "['onur', 4, [6, 'z', 3.4]]"
      ]
     },
     "execution_count": 229,
     "metadata": {},
     "output_type": "execute_result"
    }
   ],
   "source": [
    "nestedList[2:]"
   ]
  },
  {
   "cell_type": "code",
   "execution_count": 230,
   "id": "24efd47c",
   "metadata": {},
   "outputs": [
    {
     "data": {
      "text/plain": [
       "[1, 5]"
      ]
     },
     "execution_count": 230,
     "metadata": {},
     "output_type": "execute_result"
    }
   ],
   "source": [
    "nestedList[:2]"
   ]
  },
  {
   "cell_type": "code",
   "execution_count": 231,
   "id": "fb546652",
   "metadata": {},
   "outputs": [
    {
     "data": {
      "text/plain": [
       "list"
      ]
     },
     "execution_count": 231,
     "metadata": {},
     "output_type": "execute_result"
    }
   ],
   "source": [
    "type(nestedList[:2])"
   ]
  },
  {
   "cell_type": "code",
   "execution_count": 233,
   "id": "7e9b6372",
   "metadata": {},
   "outputs": [
    {
     "data": {
      "text/plain": [
       "[6, 'z']"
      ]
     },
     "execution_count": 233,
     "metadata": {},
     "output_type": "execute_result"
    }
   ],
   "source": [
    "nestedList[4][:2]"
   ]
  },
  {
   "cell_type": "code",
   "execution_count": 234,
   "id": "a29be312",
   "metadata": {},
   "outputs": [
    {
     "data": {
      "text/plain": [
       "'on'"
      ]
     },
     "execution_count": 234,
     "metadata": {},
     "output_type": "execute_result"
    }
   ],
   "source": [
    "nestedList[2][:2]"
   ]
  }
 ],
 "metadata": {
  "kernelspec": {
   "display_name": "Python 3",
   "language": "python",
   "name": "python3"
  },
  "language_info": {
   "codemirror_mode": {
    "name": "ipython",
    "version": 3
   },
   "file_extension": ".py",
   "mimetype": "text/x-python",
   "name": "python",
   "nbconvert_exporter": "python",
   "pygments_lexer": "ipython3",
   "version": "3.8.8"
  }
 },
 "nbformat": 4,
 "nbformat_minor": 5
}
