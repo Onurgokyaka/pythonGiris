{
 "cells": [
  {
   "cell_type": "code",
   "execution_count": null,
   "id": "42104f44",
   "metadata": {},
   "outputs": [],
   "source": [
    "def toplama(num1,num2):\n",
    "    sonuc=num1+num2\n",
    "    print(sonuc)\n",
    "def cıkarma(num1,num2):\n",
    "    sonuc=num1-num2\n",
    "    print(sonuc)\n",
    "def carpma(num1,num2):\n",
    "    sonuc=num1*num2\n",
    "    print(sonuc)\n",
    "def bölme(num1,num2):\n",
    "    sonuc=num1/num2\n",
    "    print(sonuc)"
   ]
  },
  {
   "cell_type": "markdown",
   "id": "4cca938f",
   "metadata": {},
   "source": [
    "## baska bir yol"
   ]
  },
  {
   "cell_type": "code",
   "execution_count": null,
   "id": "41e7e021",
   "metadata": {},
   "outputs": [],
   "source": [
    "def hesapla():\n",
    "    islem=input(\"Hangi işlemi yapacaksınız (topla, cıkar, carp, böl)\")\n",
    "    num1=input(\"İlk sayıyı giriniz\")\n",
    "    num2=input(\"İkinci sayıyı giriniz\")\n",
    "    \n",
    "    if islem==\"topla\":\n",
    "        sonuc=int (num1)+ int (num2)\n",
    "        print(sonuc)\n",
    "    elif islem==\"cıkar\":\n",
    "        sonuc= int (num1)-int(num2)\n",
    "        print(sonuc)\n",
    "    elif islem ==\"carp\":\n",
    "        sonuc=int(num1)*int(num2)\n",
    "        print(sonuc)\n",
    "    elif islem==\"böl\":\n",
    "        sonuc=int(num1)/int(num2)\n",
    "        print(sonuc)\n",
    "    else:\n",
    "        print(\"İşlem yanlış girildi \")"
   ]
  },
  {
   "cell_type": "code",
   "execution_count": null,
   "id": "4429d48d",
   "metadata": {},
   "outputs": [],
   "source": [
    "hesapla()"
   ]
  },
  {
   "cell_type": "markdown",
   "id": "a0fe5c45",
   "metadata": {},
   "source": [
    "## başka bir yol (en ideali)"
   ]
  },
  {
   "cell_type": "code",
   "execution_count": null,
   "id": "2ee971ad",
   "metadata": {},
   "outputs": [
    {
     "name": "stdout",
     "output_type": "stream",
     "text": [
      "İlk sayıyı giriniz: 5\n",
      "İkinci sayıyı giriniz: 4\n",
      "Hangi işlemi yapacaksınız (+-*/):  +\n",
      "5 + 4 = 9\n",
      "İlk sayıyı giriniz: 4\n",
      "İkinci sayıyı giriniz: s\n",
      "Lütfen sayıları düzgün giriniz\n",
      "İlk sayıyı giriniz: 4\n",
      "İkinci sayıyı giriniz: 5\n",
      "Hangi işlemi yapacaksınız (+-*/):  s\n",
      "Lütfen şu işlemlerden birini seçiniz +-*/ \n",
      "None\n",
      "Lütfen sayıları düzgün giriniz\n"
     ]
    }
   ],
   "source": [
    "def hesapla(a,b,islem):\n",
    "    if islem==\"+\":\n",
    "        return(str(a)+\" + \"+ str(b)+\" = \"+ str(a+b))\n",
    "    elif islem==\"-\":\n",
    "        return(str(a)+\" - \"+ str(b)+\" = \"+ str(a-b))\n",
    "    elif islem ==\"*\":\n",
    "        return(str(a)+\" * \"+ str(b)+\" = \"+ str(a*b))\n",
    "    elif islem==\"/\":\n",
    "        return(str(a)+\" / \"+ str(b)+\" = \"+ str(a/b))\n",
    "while True:\n",
    "    try: # dene\n",
    "        a=int(input(\"İlk sayıyı giriniz: \"))    \n",
    "        b=int(input(\"İkinci sayıyı giriniz: \"))\n",
    "        islem=input(\"Hangi işlemi yapacaksınız (+-*/):  \")\n",
    "        if islem not in \"+-*/\":\n",
    "            print( \"Lütfen şu işlemlerden birini seçiniz +-*/ \")\n",
    "        print(hesapla(a,b,islem))\n",
    "    except: # yapamazsan buraya gel\n",
    "        print(\"Lütfen sayıları düzgün giriniz\")"
   ]
  },
  {
   "cell_type": "markdown",
   "id": "e1956605",
   "metadata": {},
   "source": []
  },
  {
   "cell_type": "code",
   "execution_count": null,
   "id": "c6957976",
   "metadata": {},
   "outputs": [],
   "source": []
  },
  {
   "cell_type": "code",
   "execution_count": null,
   "id": "9066b175",
   "metadata": {},
   "outputs": [],
   "source": []
  }
 ],
 "metadata": {
  "kernelspec": {
   "display_name": "Python 3",
   "language": "python",
   "name": "python3"
  },
  "language_info": {
   "codemirror_mode": {
    "name": "ipython",
    "version": 3
   },
   "file_extension": ".py",
   "mimetype": "text/x-python",
   "name": "python",
   "nbconvert_exporter": "python",
   "pygments_lexer": "ipython3",
   "version": "3.8.8"
  }
 },
 "nbformat": 4,
 "nbformat_minor": 5
}
