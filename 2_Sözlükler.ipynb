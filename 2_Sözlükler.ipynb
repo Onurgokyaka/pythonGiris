{
 "cells": [
  {
   "cell_type": "markdown",
   "id": "6e076ceb",
   "metadata": {},
   "source": [
    "## Sözlükler - Dictionarys"
   ]
  },
  {
   "cell_type": "code",
   "execution_count": 3,
   "id": "6e7b0023",
   "metadata": {},
   "outputs": [],
   "source": [
    "benimListem =[1,2,3]"
   ]
  },
  {
   "cell_type": "code",
   "execution_count": 4,
   "id": "79ebbb75",
   "metadata": {},
   "outputs": [
    {
     "data": {
      "text/plain": [
       "1"
      ]
     },
     "execution_count": 4,
     "metadata": {},
     "output_type": "execute_result"
    }
   ],
   "source": [
    "benimListem[0]"
   ]
  },
  {
   "cell_type": "markdown",
   "id": "eabbf4e1",
   "metadata": {},
   "source": [
    "## key-value pairing (anahtar kelime-değer eşleşmesi)"
   ]
  },
  {
   "cell_type": "code",
   "execution_count": 5,
   "id": "bc3db982",
   "metadata": {},
   "outputs": [],
   "source": [
    "benimYemeklerim=[\"elma\",\"karpuz\",\"muz\"]"
   ]
  },
  {
   "cell_type": "code",
   "execution_count": 6,
   "id": "2ecb4947",
   "metadata": {},
   "outputs": [],
   "source": [
    "benimKalorilerim=[100,200,300]"
   ]
  },
  {
   "cell_type": "code",
   "execution_count": 7,
   "id": "6e3547b0",
   "metadata": {},
   "outputs": [
    {
     "data": {
      "text/plain": [
       "'karpuz'"
      ]
     },
     "execution_count": 7,
     "metadata": {},
     "output_type": "execute_result"
    }
   ],
   "source": [
    "benimYemeklerim[1]"
   ]
  },
  {
   "cell_type": "code",
   "execution_count": 8,
   "id": "4f133ddd",
   "metadata": {},
   "outputs": [
    {
     "data": {
      "text/plain": [
       "200"
      ]
     },
     "execution_count": 8,
     "metadata": {},
     "output_type": "execute_result"
    }
   ],
   "source": [
    "benimKalorilerim[1]"
   ]
  },
  {
   "cell_type": "code",
   "execution_count": 9,
   "id": "274ca390",
   "metadata": {},
   "outputs": [],
   "source": [
    "benimSozluk={\"anahtarkelime\":\"deger\"}"
   ]
  },
  {
   "cell_type": "code",
   "execution_count": 10,
   "id": "160cef68",
   "metadata": {},
   "outputs": [
    {
     "data": {
      "text/plain": [
       "{'anahtarkelime': 'deger'}"
      ]
     },
     "execution_count": 10,
     "metadata": {},
     "output_type": "execute_result"
    }
   ],
   "source": [
    "benimSozluk"
   ]
  },
  {
   "cell_type": "code",
   "execution_count": 11,
   "id": "c357da15",
   "metadata": {},
   "outputs": [
    {
     "data": {
      "text/plain": [
       "dict"
      ]
     },
     "execution_count": 11,
     "metadata": {},
     "output_type": "execute_result"
    }
   ],
   "source": [
    "type(benimSozluk)"
   ]
  },
  {
   "cell_type": "code",
   "execution_count": 13,
   "id": "5f08b908",
   "metadata": {},
   "outputs": [
    {
     "data": {
      "text/plain": [
       "'deger'"
      ]
     },
     "execution_count": 13,
     "metadata": {},
     "output_type": "execute_result"
    }
   ],
   "source": [
    "benimSozluk[\"anahtarkelime\"]"
   ]
  },
  {
   "cell_type": "code",
   "execution_count": 14,
   "id": "d181c98a",
   "metadata": {},
   "outputs": [],
   "source": [
    "benimYemekKaloriSözlügüm={\"elma\":100,\"karpuz\":200,\"muz\":300}"
   ]
  },
  {
   "cell_type": "code",
   "execution_count": 15,
   "id": "0eb60774",
   "metadata": {},
   "outputs": [
    {
     "data": {
      "text/plain": [
       "300"
      ]
     },
     "execution_count": 15,
     "metadata": {},
     "output_type": "execute_result"
    }
   ],
   "source": [
    "benimYemekKaloriSözlügüm[\"muz\"]"
   ]
  },
  {
   "cell_type": "code",
   "execution_count": 22,
   "id": "8d97b183",
   "metadata": {},
   "outputs": [],
   "source": [
    "benimYemekKaloriSözlügüm[\"elma\"]=200"
   ]
  },
  {
   "cell_type": "code",
   "execution_count": 23,
   "id": "1de3d951",
   "metadata": {},
   "outputs": [
    {
     "data": {
      "text/plain": [
       "{'elma': 200, 'karpuz': 200, 'muz': 300}"
      ]
     },
     "execution_count": 23,
     "metadata": {},
     "output_type": "execute_result"
    }
   ],
   "source": [
    "benimYemekKaloriSözlügüm"
   ]
  },
  {
   "cell_type": "code",
   "execution_count": 36,
   "id": "e6cd1031",
   "metadata": {},
   "outputs": [],
   "source": [
    "benimDegisikSozlugum={100:\"onur\",-20:\"gökyaka\"}"
   ]
  },
  {
   "cell_type": "code",
   "execution_count": 37,
   "id": "572052c2",
   "metadata": {},
   "outputs": [
    {
     "data": {
      "text/plain": [
       "'onur'"
      ]
     },
     "execution_count": 37,
     "metadata": {},
     "output_type": "execute_result"
    }
   ],
   "source": [
    "benimDegisikSozlugum[100]"
   ]
  },
  {
   "cell_type": "code",
   "execution_count": 38,
   "id": "b343ae26",
   "metadata": {},
   "outputs": [
    {
     "data": {
      "text/plain": [
       "'gökyaka'"
      ]
     },
     "execution_count": 38,
     "metadata": {},
     "output_type": "execute_result"
    }
   ],
   "source": [
    "benimDegisikSozlugum[-20]"
   ]
  },
  {
   "cell_type": "code",
   "execution_count": 40,
   "id": "beaadf8e",
   "metadata": {},
   "outputs": [],
   "source": [
    "yeniDictionary={\"anahtar1\":100,\"anahtar2\":[10,20,30,40,4.5,\"onur\"],\"anahtar3\":{\"anahtar9\":4}}"
   ]
  },
  {
   "cell_type": "code",
   "execution_count": 42,
   "id": "3a6c5369",
   "metadata": {},
   "outputs": [
    {
     "data": {
      "text/plain": [
       "dict_keys(['anahtar1', 'anahtar2', 'anahtar3'])"
      ]
     },
     "execution_count": 42,
     "metadata": {},
     "output_type": "execute_result"
    }
   ],
   "source": [
    "yeniDictionary.keys() # sadece anahtarları verir"
   ]
  },
  {
   "cell_type": "code",
   "execution_count": 43,
   "id": "326294a3",
   "metadata": {},
   "outputs": [
    {
     "data": {
      "text/plain": [
       "dict_values([100, [10, 20, 30, 40, 4.5, 'onur'], {'anahtar9': 4}])"
      ]
     },
     "execution_count": 43,
     "metadata": {},
     "output_type": "execute_result"
    }
   ],
   "source": [
    "yeniDictionary.values() # sadece degerleri almaya yarar"
   ]
  },
  {
   "cell_type": "code",
   "execution_count": 48,
   "id": "18b75658",
   "metadata": {},
   "outputs": [
    {
     "name": "stdout",
     "output_type": "stream",
     "text": [
      "onur\n"
     ]
    }
   ],
   "source": [
    "a=yeniDictionary[\"anahtar2\"][5]\n",
    "print(a)"
   ]
  },
  {
   "cell_type": "code",
   "execution_count": 55,
   "id": "2501fe86",
   "metadata": {},
   "outputs": [
    {
     "name": "stdout",
     "output_type": "stream",
     "text": [
      "4\n"
     ]
    }
   ],
   "source": [
    "dort=yeniDictionary[\"anahtar3\"][\"anahtar9\"]\n",
    "print (dort)"
   ]
  },
  {
   "cell_type": "code",
   "execution_count": 56,
   "id": "77b759cf",
   "metadata": {},
   "outputs": [
    {
     "name": "stdout",
     "output_type": "stream",
     "text": [
      "onur\n"
     ]
    }
   ],
   "source": [
    "a=yeniDictionary[\"anahtar2\"][-1]\n",
    "print(a)"
   ]
  },
  {
   "cell_type": "markdown",
   "id": "c441d812",
   "metadata": {},
   "source": [
    "## Set"
   ]
  },
  {
   "cell_type": "code",
   "execution_count": null,
   "id": "60ad9aaa",
   "metadata": {},
   "outputs": [],
   "source": []
  }
 ],
 "metadata": {
  "kernelspec": {
   "display_name": "Python 3",
   "language": "python",
   "name": "python3"
  },
  "language_info": {
   "codemirror_mode": {
    "name": "ipython",
    "version": 3
   },
   "file_extension": ".py",
   "mimetype": "text/x-python",
   "name": "python",
   "nbconvert_exporter": "python",
   "pygments_lexer": "ipython3",
   "version": "3.8.8"
  }
 },
 "nbformat": 4,
 "nbformat_minor": 5
}
